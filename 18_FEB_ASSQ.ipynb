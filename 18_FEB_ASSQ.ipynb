{
 "cells": [
  {
   "cell_type": "markdown",
   "id": "4077ed52",
   "metadata": {},
   "source": [
    "## Q1. What is an API? Give an example, where an API is used in real life."
   ]
  },
  {
   "cell_type": "markdown",
   "id": "336a25b0",
   "metadata": {},
   "source": [
    "* API is Application programming interface  its used to establish the connection between 2 homegenious system (application) or 2 hetrogenious system or applications.\n",
    "\n",
    "* A real-time application programming interface (API) is a service that enables users to automatically obtain information in real-time from one or more data resources. The API can be embedded in a software application or added to a website.\n",
    "\n",
    "* Real life Example is Google Map application\n",
    "\n",
    "* SOAP and REST are example of API"
   ]
  },
  {
   "cell_type": "markdown",
   "id": "62587d94",
   "metadata": {},
   "source": [
    "### Q2. Give advantages and disadvantages of using API."
   ]
  },
  {
   "cell_type": "markdown",
   "id": "1be57256",
   "metadata": {},
   "source": [
    "* ###  Advantages\n",
    "Automation\n",
    "When using an API managed by computers, less human effort is required and workflows can be easily updated to become faster and more productive. Furthermore, new content and information can be published and shared with your entire audience quickly and efficiently across all channels. \n",
    "\n",
    "Developer efficiency and innovation\n",
    "APIs empower developers to be more productive by reusing code in complex but repetitive processes. They don’t need to start from scratch as the API specifies how to assemble software components in a program. APIs exist to make it easy to interface with other developers' applications.\n",
    "\n",
    "Improved value proposition\n",
    "By using APIs made available by companies such as Amazon, Salesforce, or Twitter, an application can integrate those services into their own systems to make themselves more attractive to customers."
   ]
  },
  {
   "cell_type": "markdown",
   "id": "c08d5d97",
   "metadata": {},
   "source": [
    "* ### Diadvantages\n",
    "\n",
    "Poor integration means that an API can be vulnerable to attacks, yet data breaches or losses have huge ramifications when it comes to the finances and reputation of a company. Attacks can also negatively affect the customers of an application as their data and information are compromised.\n",
    "\n",
    "Creating API is a very time-consuming process\n",
    "\n",
    "A fixed scale is necessary\n",
    "\n",
    "Imprecise boundary delineation\n",
    "\n",
    "To create API, programming knowledge is necessary\n",
    "\n",
    "Maintenance cost is very high\n",
    "\n",
    "It can crash when testing API"
   ]
  },
  {
   "cell_type": "markdown",
   "id": "b4327eac",
   "metadata": {},
   "source": [
    "### Q3. What is a Web API? Differentiate between API and Web API."
   ]
  },
  {
   "cell_type": "markdown",
   "id": "00be1dfd",
   "metadata": {},
   "source": [
    "* A Web service is a collection of open protocols and standards which are widely used for exchanging data between systems or applications.\n"
   ]
  },
  {
   "cell_type": "markdown",
   "id": "2e67c482",
   "metadata": {},
   "source": [
    "* web API is used HTTP protocol it has less security Improves connectivity Works with HTTP verbs including PUT, POST, DELETE, and GET\n",
    "\n",
    "* API is used TCP,SMTP,HTTP protocol for data exchange "
   ]
  },
  {
   "cell_type": "markdown",
   "id": "8e427147",
   "metadata": {},
   "source": [
    "### Q4. Explain REST and SOAP Architecture. Mention shortcomings of SOAP."
   ]
  },
  {
   "cell_type": "markdown",
   "id": "570deadb",
   "metadata": {},
   "source": [
    "### * REST\n",
    "    * Representatinal transfer protocol \n",
    "    * it is using HTTP protocol\n",
    "    * it is used put ,post,del,get\n",
    "    * it is simple,scalability,flexibilty,connectivity\n",
    "   \n",
    "### * SOAP\n",
    "    * simple object access protocol\n",
    "    * it is used tcp and smtp protocol\n",
    "    * its used XML and WSDL \n",
    "    * it is used when need security\n",
    "    \n",
    "### * Shortcomings of SOAP\n",
    "    * Highly complex. In comparison to Rest, SOAP is significantly more complex. ...\n",
    "    * No variety of data formats. SOAP is also extremely limited in its support of data formats. ...\n",
    "    * API calls are not cached. ...\n",
    "    * Uses more bandwidth."
   ]
  },
  {
   "cell_type": "markdown",
   "id": "f02193a1",
   "metadata": {},
   "source": [
    "### Q5. Differentiate between REST and SOAP."
   ]
  },
  {
   "cell_type": "markdown",
   "id": "879e95b7",
   "metadata": {},
   "source": [
    "### SOAP\n",
    "1)\tSOAP is a protocol.\t\n",
    "2)\tSOAP stands for Simple Object Access Protocol.\t\n",
    "3)\tSOAP can't use REST because it is a protocol.\t\n",
    "4)\tSOAP uses services interfaces to expose the business logic.\t\n",
    "5)\tJAX-WS is the java API for SOAP web services.\t\n",
    "6)\tSOAP defines standards to be strictly followed.\t\n",
    "7)\tSOAP requires more bandwidth and resource than REST.\t\n",
    "8)\tSOAP defines its own security.\t\n",
    "9)\tSOAP permits XML data format only.\t\n",
    "10)\tSOAP is less preferred than REST.\t"
   ]
  },
  {
   "cell_type": "markdown",
   "id": "89b82f1c",
   "metadata": {},
   "source": [
    "### REST\n",
    "* REST is an architectural style.\n",
    "* REST stands for REpresentational State Transfer.\n",
    "* REST can use SOAP web services because it is a concept and can use any protocol like HTTP, SOAP.\n",
    "* REST uses URI to expose business logic\n",
    "* JAX-RS is the java API for RESTful web services.\n",
    "* REST does not define too much standards like SOAP.\n",
    "* REST requires less bandwidth and resource than SOAP.\n",
    "* RESTful web services inherits security measures from the underlying transport.\n",
    "* REST permits different data format such as Plain text, HTML, XML, JSON etc.\n",
    "* REST more preferred than SOAP"
   ]
  },
  {
   "cell_type": "code",
   "execution_count": null,
   "id": "798a598a",
   "metadata": {},
   "outputs": [],
   "source": []
  }
 ],
 "metadata": {
  "kernelspec": {
   "display_name": "Python 3 (ipykernel)",
   "language": "python",
   "name": "python3"
  },
  "language_info": {
   "codemirror_mode": {
    "name": "ipython",
    "version": 3
   },
   "file_extension": ".py",
   "mimetype": "text/x-python",
   "name": "python",
   "nbconvert_exporter": "python",
   "pygments_lexer": "ipython3",
   "version": "3.9.13"
  }
 },
 "nbformat": 4,
 "nbformat_minor": 5
}
