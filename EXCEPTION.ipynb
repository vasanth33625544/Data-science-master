{
 "cells": [
  {
   "cell_type": "code",
   "execution_count": 8,
   "id": "c76e5440-1c46-4370-a6c7-941127d59e2a",
   "metadata": {},
   "outputs": [
    {
     "name": "stdout",
     "output_type": "stream",
     "text": [
      "there is a some issue in file [Errno 2] No such file or directory: 'text6.txt'\n",
      "10\n"
     ]
    }
   ],
   "source": [
    "try:\n",
    "    f=open('text6.txt','r')\n",
    "except Exception as e:\n",
    "    print('there is a some issue in file',e)\n",
    "a=10\n",
    "print(a)"
   ]
  },
  {
   "cell_type": "code",
   "execution_count": 5,
   "id": "76cd6f38-ad81-4aaa-94b1-b3a7fbc718ba",
   "metadata": {},
   "outputs": [],
   "source": [
    "import logging"
   ]
  },
  {
   "cell_type": "code",
   "execution_count": 7,
   "id": "f8e8ad30-4d5a-4161-9389-fc44bf65fd01",
   "metadata": {},
   "outputs": [],
   "source": [
    "logging.basicConfig(filename=\"text.log\",level=logging.DEBUG)"
   ]
  },
  {
   "cell_type": "code",
   "execution_count": 13,
   "id": "c0d1f349-22e7-4aaf-9382-a6fde3223999",
   "metadata": {},
   "outputs": [
    {
     "name": "stdout",
     "output_type": "stream",
     "text": [
      "file written\n",
      "file write done and closed the file\n",
      "completed\n",
      "10\n"
     ]
    }
   ],
   "source": [
    "try:\n",
    "    f=open('text.txt','w')\n",
    "    f.write(\"hello vasanth\")\n",
    "    print('file written')\n",
    "except Exception as e:\n",
    "    print('there is a some issue in file',e)\n",
    "else:\n",
    "    f.close()\n",
    "    print('file write done and closed the file')\n",
    "finally:\n",
    "    print('completed')\n",
    "a=10\n",
    "print(a)"
   ]
  },
  {
   "cell_type": "code",
   "execution_count": 1,
   "id": "8e473d5b-00fe-410d-a4aa-3c34c29e0890",
   "metadata": {},
   "outputs": [],
   "source": [
    "class validage(Exception):\n",
    "    def __init__(self,msg):\n",
    "        self.msg=msg"
   ]
  },
  {
   "cell_type": "code",
   "execution_count": 2,
   "id": "b88f5ef0-7233-46a8-8b0a-9725b0f23a4d",
   "metadata": {},
   "outputs": [],
   "source": [
    "def vaildate_age(age):\n",
    "    if age<0:\n",
    "        raise validage(\"age should not less than zero\")\n",
    "    elif age>200:\n",
    "        raise validage('age is should not greater than 200')\n",
    "    else:\n",
    "        raise validage('correct age')"
   ]
  },
  {
   "cell_type": "code",
   "execution_count": 6,
   "id": "5af3bd1e-cc0e-4408-aaba-86a3aaef75b1",
   "metadata": {},
   "outputs": [
    {
     "name": "stdin",
     "output_type": "stream",
     "text": [
      "Enter the age= 300\n"
     ]
    },
    {
     "name": "stdout",
     "output_type": "stream",
     "text": [
      "age is should not greater than 200\n"
     ]
    }
   ],
   "source": [
    "try:\n",
    "    age=int(input(\"Enter the age=\"))\n",
    "    vaildate_age(age)\n",
    "except validage as e:\n",
    "    print(e)"
   ]
  },
  {
   "cell_type": "code",
   "execution_count": null,
   "id": "0842830c-cf6c-4fb3-8e27-20389637929d",
   "metadata": {},
   "outputs": [],
   "source": []
  }
 ],
 "metadata": {
  "kernelspec": {
   "display_name": "Python 3 (ipykernel)",
   "language": "python",
   "name": "python3"
  },
  "language_info": {
   "codemirror_mode": {
    "name": "ipython",
    "version": 3
   },
   "file_extension": ".py",
   "mimetype": "text/x-python",
   "name": "python",
   "nbconvert_exporter": "python",
   "pygments_lexer": "ipython3",
   "version": "3.10.8"
  }
 },
 "nbformat": 4,
 "nbformat_minor": 5
}
