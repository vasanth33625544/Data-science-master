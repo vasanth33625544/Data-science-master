{
 "cells": [
  {
   "cell_type": "code",
   "execution_count": 1,
   "id": "02643f43-b12f-454d-bc7c-56e0db3ac172",
   "metadata": {},
   "outputs": [
    {
     "ename": "SyntaxError",
     "evalue": "incomplete input (1729233676.py, line 1)",
     "output_type": "error",
     "traceback": [
      "\u001b[0;36m  Cell \u001b[0;32mIn[1], line 1\u001b[0;36m\u001b[0m\n\u001b[0;31m    def test1():\u001b[0m\n\u001b[0m                ^\u001b[0m\n\u001b[0;31mSyntaxError\u001b[0m\u001b[0;31m:\u001b[0m incomplete input\n"
     ]
    }
   ],
   "source": [
    "def test1():"
   ]
  },
  {
   "cell_type": "code",
   "execution_count": 2,
   "id": "4f878632-10af-46a1-b693-994965e9d866",
   "metadata": {},
   "outputs": [],
   "source": [
    "def test1():\n",
    "    pass\n"
   ]
  },
  {
   "cell_type": "code",
   "execution_count": 4,
   "id": "70cedb59-b819-4610-b9fa-74b140314e5b",
   "metadata": {},
   "outputs": [],
   "source": [
    "def test2():\n",
    "    print(\"inside the function printing\")"
   ]
  },
  {
   "cell_type": "code",
   "execution_count": 8,
   "id": "fa8356bc-ee11-4494-8a49-1e2e96abd216",
   "metadata": {},
   "outputs": [
    {
     "data": {
      "text/plain": [
       "function"
      ]
     },
     "execution_count": 8,
     "metadata": {},
     "output_type": "execute_result"
    }
   ],
   "source": [
    "type(test2)"
   ]
  },
  {
   "cell_type": "code",
   "execution_count": 9,
   "id": "0e774770-58eb-457d-964e-6b6f305534bf",
   "metadata": {},
   "outputs": [],
   "source": [
    "def test3():\n",
    "    return \"my name is \"\n"
   ]
  },
  {
   "cell_type": "code",
   "execution_count": 11,
   "id": "51fc2385-0787-4e3f-a5e4-1b554563e65e",
   "metadata": {},
   "outputs": [
    {
     "data": {
      "text/plain": [
       "'my name is vasanth'"
      ]
     },
     "execution_count": 11,
     "metadata": {},
     "output_type": "execute_result"
    }
   ],
   "source": [
    "test3()+\"vasanth\""
   ]
  },
  {
   "cell_type": "code",
   "execution_count": 12,
   "id": "ce942730-a7e8-4dd2-a0f4-6fa9dd78c057",
   "metadata": {},
   "outputs": [],
   "source": [
    "def test4():\n",
    "    return 1,2,3.4,'pwskills'"
   ]
  },
  {
   "cell_type": "code",
   "execution_count": 14,
   "id": "8be9cf26-276c-4327-ba42-0a501ba70ed5",
   "metadata": {},
   "outputs": [
    {
     "data": {
      "text/plain": [
       "(1, 2, 3.4, 'pwskills')"
      ]
     },
     "execution_count": 14,
     "metadata": {},
     "output_type": "execute_result"
    }
   ],
   "source": [
    "test4()"
   ]
  },
  {
   "cell_type": "code",
   "execution_count": 15,
   "id": "d1e0926e-ce3b-427f-9001-ce3e6a9619e1",
   "metadata": {},
   "outputs": [],
   "source": [
    "a=1,2,3,44"
   ]
  },
  {
   "cell_type": "code",
   "execution_count": 16,
   "id": "f4e9ec1e-cadb-4889-846b-b22ccfd6ae4b",
   "metadata": {},
   "outputs": [
    {
     "data": {
      "text/plain": [
       "(1, 2, 3, 44)"
      ]
     },
     "execution_count": 16,
     "metadata": {},
     "output_type": "execute_result"
    }
   ],
   "source": [
    "a\n"
   ]
  },
  {
   "cell_type": "code",
   "execution_count": 17,
   "id": "85442efc-df64-4aac-bda6-b35a8de49261",
   "metadata": {},
   "outputs": [
    {
     "data": {
      "text/plain": [
       "tuple"
      ]
     },
     "execution_count": 17,
     "metadata": {},
     "output_type": "execute_result"
    }
   ],
   "source": [
    "type(a)"
   ]
  },
  {
   "cell_type": "code",
   "execution_count": 23,
   "id": "c1b0d91f-8811-400b-b803-4dc3f13aff4d",
   "metadata": {},
   "outputs": [],
   "source": [
    "a,b,c,d=12,34,5,'d'"
   ]
  },
  {
   "cell_type": "code",
   "execution_count": 27,
   "id": "77456a44-4c46-4dc6-bed9-3414e73be3f3",
   "metadata": {},
   "outputs": [
    {
     "data": {
      "text/plain": [
       "'pwskills'"
      ]
     },
     "execution_count": 27,
     "metadata": {},
     "output_type": "execute_result"
    }
   ],
   "source": [
    "test4()[3]"
   ]
  },
  {
   "cell_type": "code",
   "execution_count": 28,
   "id": "7ec184e5-c65f-49d4-b06e-b2f2307853f8",
   "metadata": {},
   "outputs": [],
   "source": [
    "a,b,c,d=test4()"
   ]
  },
  {
   "cell_type": "code",
   "execution_count": 29,
   "id": "fc1f4455-49eb-4240-82bd-3a1f1883c9fc",
   "metadata": {},
   "outputs": [
    {
     "data": {
      "text/plain": [
       "1"
      ]
     },
     "execution_count": 29,
     "metadata": {},
     "output_type": "execute_result"
    }
   ],
   "source": [
    "a"
   ]
  },
  {
   "cell_type": "code",
   "execution_count": 30,
   "id": "a28ea58d-47a4-4b5a-8b82-de3f40b8d9dc",
   "metadata": {},
   "outputs": [
    {
     "data": {
      "text/plain": [
       "2"
      ]
     },
     "execution_count": 30,
     "metadata": {},
     "output_type": "execute_result"
    }
   ],
   "source": [
    "b\n"
   ]
  },
  {
   "cell_type": "code",
   "execution_count": 31,
   "id": "61499d00-5895-4662-a8b4-62d4a4a61ed9",
   "metadata": {},
   "outputs": [
    {
     "data": {
      "text/plain": [
       "3.4"
      ]
     },
     "execution_count": 31,
     "metadata": {},
     "output_type": "execute_result"
    }
   ],
   "source": [
    "c"
   ]
  },
  {
   "cell_type": "code",
   "execution_count": 32,
   "id": "b5cef846-94a7-4ead-aba9-78c256c771c9",
   "metadata": {},
   "outputs": [
    {
     "data": {
      "text/plain": [
       "'pwskills'"
      ]
     },
     "execution_count": 32,
     "metadata": {},
     "output_type": "execute_result"
    }
   ],
   "source": [
    "d"
   ]
  },
  {
   "cell_type": "code",
   "execution_count": 33,
   "id": "533d1867-a575-4425-8416-4822d2b3c865",
   "metadata": {},
   "outputs": [],
   "source": [
    "def test5():\n",
    "    a=3*4+5\n",
    "    return a"
   ]
  },
  {
   "cell_type": "code",
   "execution_count": 34,
   "id": "a7649974-d8a2-4c13-97fb-1a5884fcff76",
   "metadata": {},
   "outputs": [
    {
     "data": {
      "text/plain": [
       "17"
      ]
     },
     "execution_count": 34,
     "metadata": {},
     "output_type": "execute_result"
    }
   ],
   "source": [
    "test5()"
   ]
  },
  {
   "cell_type": "code",
   "execution_count": 45,
   "id": "4184a841-2b00-46fb-9102-7731292f628e",
   "metadata": {},
   "outputs": [],
   "source": [
    "def test6(c,b):\n",
    "    a=c+b\n",
    "    return a\n"
   ]
  },
  {
   "cell_type": "code",
   "execution_count": 46,
   "id": "1a2adf2a-1306-4f30-bd4f-d7a87ac02684",
   "metadata": {},
   "outputs": [
    {
     "data": {
      "text/plain": [
       "4"
      ]
     },
     "execution_count": 46,
     "metadata": {},
     "output_type": "execute_result"
    }
   ],
   "source": [
    "test6(1,3)"
   ]
  },
  {
   "cell_type": "code",
   "execution_count": 47,
   "id": "147937aa-c9eb-4a7d-ad00-6ed7c2dfad74",
   "metadata": {},
   "outputs": [
    {
     "data": {
      "text/plain": [
       "'vasanthkumar'"
      ]
     },
     "execution_count": 47,
     "metadata": {},
     "output_type": "execute_result"
    }
   ],
   "source": [
    "test6('vasanth','kumar')"
   ]
  },
  {
   "cell_type": "code",
   "execution_count": 48,
   "id": "1d18ee20-f927-4c5b-93ad-73032b501c7b",
   "metadata": {},
   "outputs": [
    {
     "data": {
      "text/plain": [
       "[1, 2, 34, 5, 1, 2, 4, 5]"
      ]
     },
     "execution_count": 48,
     "metadata": {},
     "output_type": "execute_result"
    }
   ],
   "source": [
    "test6([1,2,34,5],[1,2,4,5])"
   ]
  },
  {
   "cell_type": "code",
   "execution_count": 49,
   "id": "f1f819b4-6d0c-4906-a2c7-ffe727e41800",
   "metadata": {},
   "outputs": [
    {
     "data": {
      "text/plain": [
       "(1, 2, 3, 4, 1, 2, 3, 5)"
      ]
     },
     "execution_count": 49,
     "metadata": {},
     "output_type": "execute_result"
    }
   ],
   "source": [
    "test6((1,2,3,4),(1,2,3,5))"
   ]
  },
  {
   "cell_type": "code",
   "execution_count": 51,
   "id": "d4236841-76f8-4379-9fe7-dde2aa53d95f",
   "metadata": {},
   "outputs": [
    {
     "ename": "TypeError",
     "evalue": "unsupported operand type(s) for +: 'set' and 'set'",
     "output_type": "error",
     "traceback": [
      "\u001b[0;31m---------------------------------------------------------------------------\u001b[0m",
      "\u001b[0;31mTypeError\u001b[0m                                 Traceback (most recent call last)",
      "Cell \u001b[0;32mIn[51], line 1\u001b[0m\n\u001b[0;32m----> 1\u001b[0m \u001b[43mtest6\u001b[49m\u001b[43m(\u001b[49m\u001b[43m{\u001b[49m\u001b[38;5;241;43m1\u001b[39;49m\u001b[43m,\u001b[49m\u001b[38;5;241;43m2\u001b[39;49m\u001b[43m,\u001b[49m\u001b[38;5;241;43m3\u001b[39;49m\u001b[43m,\u001b[49m\u001b[38;5;241;43m4\u001b[39;49m\u001b[43m}\u001b[49m\u001b[43m,\u001b[49m\u001b[43m{\u001b[49m\u001b[38;5;241;43m1\u001b[39;49m\u001b[43m,\u001b[49m\u001b[38;5;241;43m2\u001b[39;49m\u001b[43m,\u001b[49m\u001b[38;5;241;43m3\u001b[39;49m\u001b[43m,\u001b[49m\u001b[38;5;241;43m5\u001b[39;49m\u001b[43m}\u001b[49m\u001b[43m)\u001b[49m\n",
      "Cell \u001b[0;32mIn[45], line 2\u001b[0m, in \u001b[0;36mtest6\u001b[0;34m(c, b)\u001b[0m\n\u001b[1;32m      1\u001b[0m \u001b[38;5;28;01mdef\u001b[39;00m \u001b[38;5;21mtest6\u001b[39m(c,b):\n\u001b[0;32m----> 2\u001b[0m     a\u001b[38;5;241m=\u001b[39m\u001b[43mc\u001b[49m\u001b[38;5;241;43m+\u001b[39;49m\u001b[43mb\u001b[49m\n\u001b[1;32m      3\u001b[0m     \u001b[38;5;28;01mreturn\u001b[39;00m a\n",
      "\u001b[0;31mTypeError\u001b[0m: unsupported operand type(s) for +: 'set' and 'set'"
     ]
    }
   ],
   "source": [
    "test6({1,2,3,4},{1,2,3,5})"
   ]
  },
  {
   "cell_type": "code",
   "execution_count": 52,
   "id": "0a9d3ee8-f875-49fa-bb65-7bdb722d08a3",
   "metadata": {},
   "outputs": [
    {
     "data": {
      "text/plain": [
       "16"
      ]
     },
     "execution_count": 52,
     "metadata": {},
     "output_type": "execute_result"
    }
   ],
   "source": [
    "test6(b=7,c=9)"
   ]
  },
  {
   "cell_type": "code",
   "execution_count": 81,
   "id": "0d8ad909-5705-481a-bfe2-9e5be7a8cc15",
   "metadata": {},
   "outputs": [],
   "source": [
    "def test7(l):\n",
    "    l1=[]\n",
    "    for i in l:\n",
    "        if type(i)==list:\n",
    "            for j in i:\n",
    "                 l1.append(test8(j))\n",
    "                    \n",
    "                     \n",
    "        else:\n",
    "             l1.append(test8(i))\n",
    "                    \n",
    "    \n",
    "    return l1\n",
    "\n",
    "def test8(i):\n",
    "    a=0\n",
    "    if type(i)==int or type(i)==float :\n",
    "          a=i\n",
    "    return a  \n",
    "    "
   ]
  },
  {
   "cell_type": "code",
   "execution_count": 59,
   "id": "c2383024-42b9-4b67-a69d-fb3dc883ba4e",
   "metadata": {},
   "outputs": [],
   "source": [
    "l=[1,23,4.4,6.7,'dd','ddf',5.6,6,'pp',[1,2,3,4.5]]"
   ]
  },
  {
   "cell_type": "code",
   "execution_count": 82,
   "id": "864460cb-b1da-460f-8f22-3a05aee4a13e",
   "metadata": {},
   "outputs": [
    {
     "data": {
      "text/plain": [
       "[1, 23, 4.4, 6.7, 0, 0, 5.6, 6, 0, 1, 2, 3, 4.5]"
      ]
     },
     "execution_count": 82,
     "metadata": {},
     "output_type": "execute_result"
    }
   ],
   "source": [
    "test7(l)"
   ]
  },
  {
   "cell_type": "code",
   "execution_count": 83,
   "id": "44708c6a-f86d-49ec-a68b-9c1820b5f5e2",
   "metadata": {},
   "outputs": [],
   "source": [
    "def fibbonacci(n):\n",
    "    a,b=0,1\n",
    "    for i in range(n):\n",
    "        yield a\n",
    "        a,b=b,a+b"
   ]
  },
  {
   "cell_type": "code",
   "execution_count": 84,
   "id": "7a908382-231f-49f8-a5e8-c8f824e49984",
   "metadata": {},
   "outputs": [
    {
     "data": {
      "text/plain": [
       "<generator object fibbonacci at 0x7f285d9d2a40>"
      ]
     },
     "execution_count": 84,
     "metadata": {},
     "output_type": "execute_result"
    }
   ],
   "source": [
    "fibbonacci(10)"
   ]
  },
  {
   "cell_type": "code",
   "execution_count": 85,
   "id": "d35cc030-5a21-42bf-8d64-966e1cc6363d",
   "metadata": {},
   "outputs": [
    {
     "name": "stdout",
     "output_type": "stream",
     "text": [
      "0\n",
      "1\n",
      "1\n",
      "2\n",
      "3\n",
      "5\n",
      "8\n",
      "13\n",
      "21\n",
      "34\n"
     ]
    }
   ],
   "source": [
    "for i in fibbonacci(10):\n",
    "    print(i)"
   ]
  },
  {
   "cell_type": "markdown",
   "id": "b5527b0d-d467-47f7-ab9e-019d5ed372da",
   "metadata": {},
   "source": [
    "# Lambda "
   ]
  },
  {
   "cell_type": "code",
   "execution_count": 86,
   "id": "079d5043-0ec2-4da8-9839-88bfb97c80ad",
   "metadata": {},
   "outputs": [],
   "source": [
    "n=2\n",
    "p=3\n"
   ]
  },
  {
   "cell_type": "code",
   "execution_count": 88,
   "id": "479cbb4d-fe69-4b49-917a-7985662e74d0",
   "metadata": {},
   "outputs": [],
   "source": [
    "def test8(n,p):\n",
    "    return n**p"
   ]
  },
  {
   "cell_type": "code",
   "execution_count": 89,
   "id": "96c91348-a596-4fc7-beaa-54c1c767e7c2",
   "metadata": {},
   "outputs": [
    {
     "data": {
      "text/plain": [
       "8"
      ]
     },
     "execution_count": 89,
     "metadata": {},
     "output_type": "execute_result"
    }
   ],
   "source": [
    "test8(n,p)"
   ]
  },
  {
   "cell_type": "code",
   "execution_count": 90,
   "id": "7b75ae58-07e9-453f-a5af-caab36000f19",
   "metadata": {},
   "outputs": [],
   "source": [
    "a= lambda n,p:n**p"
   ]
  },
  {
   "cell_type": "code",
   "execution_count": 94,
   "id": "7c0e0428-05bf-4470-8971-d946e7465ea3",
   "metadata": {},
   "outputs": [
    {
     "data": {
      "text/plain": [
       "8"
      ]
     },
     "execution_count": 94,
     "metadata": {},
     "output_type": "execute_result"
    }
   ],
   "source": [
    "a(n,p)"
   ]
  },
  {
   "cell_type": "code",
   "execution_count": 95,
   "id": "ed6d1d6c-cce1-45bc-b7de-75628f9c4799",
   "metadata": {},
   "outputs": [],
   "source": [
    "add =lambda a,b:a+b"
   ]
  },
  {
   "cell_type": "code",
   "execution_count": 96,
   "id": "46c9d56b-ebf2-40ea-a9c3-95558ed5c865",
   "metadata": {},
   "outputs": [
    {
     "data": {
      "text/plain": [
       "111"
      ]
     },
     "execution_count": 96,
     "metadata": {},
     "output_type": "execute_result"
    }
   ],
   "source": [
    "add(10,101)\n"
   ]
  },
  {
   "cell_type": "code",
   "execution_count": 100,
   "id": "3bf93269-cff8-430e-b15e-53fbcc6c6a2d",
   "metadata": {},
   "outputs": [],
   "source": [
    "c_to_f= lambda c:(9/5)*c+32"
   ]
  },
  {
   "cell_type": "code",
   "execution_count": 101,
   "id": "21308f26-dd78-45a4-94f3-c1f224ea4551",
   "metadata": {},
   "outputs": [
    {
     "data": {
      "text/plain": [
       "93.2"
      ]
     },
     "execution_count": 101,
     "metadata": {},
     "output_type": "execute_result"
    }
   ],
   "source": [
    "c_to_f(34)"
   ]
  },
  {
   "cell_type": "code",
   "execution_count": 102,
   "id": "b0596bef-174f-440b-901a-d300ea6e64f3",
   "metadata": {},
   "outputs": [],
   "source": [
    "max_of_2numb= lambda x,y : x if x>y else y"
   ]
  },
  {
   "cell_type": "code",
   "execution_count": 103,
   "id": "76efa108-c0dd-4918-b141-c317e8969a25",
   "metadata": {},
   "outputs": [
    {
     "data": {
      "text/plain": [
       "55"
      ]
     },
     "execution_count": 103,
     "metadata": {},
     "output_type": "execute_result"
    }
   ],
   "source": [
    "max_of_2numb(45,55)"
   ]
  },
  {
   "cell_type": "code",
   "execution_count": 108,
   "id": "fd5a2afd-c855-4075-a295-98ed459e1b9d",
   "metadata": {},
   "outputs": [],
   "source": [
    "len_str = lambda str1:len(str1)"
   ]
  },
  {
   "cell_type": "code",
   "execution_count": 105,
   "id": "9235ab4a-0a75-498d-8024-895c03f81ba3",
   "metadata": {},
   "outputs": [
    {
     "data": {
      "text/plain": [
       "8"
      ]
     },
     "execution_count": 105,
     "metadata": {},
     "output_type": "execute_result"
    }
   ],
   "source": [
    "len_str('pwskills')"
   ]
  },
  {
   "cell_type": "code",
   "execution_count": 109,
   "id": "ab634e84-3fa5-4bf4-9df8-16798944952a",
   "metadata": {},
   "outputs": [],
   "source": [
    "def test11(a,b,c,d,e,f):\n",
    "    pass"
   ]
  },
  {
   "cell_type": "code",
   "execution_count": 111,
   "id": "08bd746d-82ac-4678-93e9-ca0c4b2d29cb",
   "metadata": {},
   "outputs": [
    {
     "ename": "SyntaxError",
     "evalue": "invalid syntax (2208528254.py, line 1)",
     "output_type": "error",
     "traceback": [
      "\u001b[0;36m  Cell \u001b[0;32mIn[111], line 1\u001b[0;36m\u001b[0m\n\u001b[0;31m    test11(1,2,3,45,6,,1,6)\u001b[0m\n\u001b[0m                      ^\u001b[0m\n\u001b[0;31mSyntaxError\u001b[0m\u001b[0;31m:\u001b[0m invalid syntax\n"
     ]
    }
   ],
   "source": [
    "test11(1,2,3,45,6,,1,6)"
   ]
  },
  {
   "cell_type": "code",
   "execution_count": 112,
   "id": "198aa11b-2f4e-4f63-b7c4-fb8272ccc899",
   "metadata": {},
   "outputs": [],
   "source": [
    "def test12(*args):\n",
    "    return args"
   ]
  },
  {
   "cell_type": "code",
   "execution_count": 113,
   "id": "42532ec3-9853-4fe4-9573-17c325807486",
   "metadata": {},
   "outputs": [
    {
     "data": {
      "text/plain": [
       "(1, 2, 34)"
      ]
     },
     "execution_count": 113,
     "metadata": {},
     "output_type": "execute_result"
    }
   ],
   "source": [
    "test12(1,2,34)"
   ]
  },
  {
   "cell_type": "code",
   "execution_count": 114,
   "id": "14b6eed8-d077-44a3-b6dc-155881ceebea",
   "metadata": {},
   "outputs": [],
   "source": [
    "def test13(*vasanth):\n",
    "    return vasanth"
   ]
  },
  {
   "cell_type": "code",
   "execution_count": 115,
   "id": "18f5fba8-8595-4511-8240-c07b474858b5",
   "metadata": {},
   "outputs": [
    {
     "data": {
      "text/plain": [
       "(1, 2, 3, 'svshgsh', 'asdasdasda')"
      ]
     },
     "execution_count": 115,
     "metadata": {},
     "output_type": "execute_result"
    }
   ],
   "source": [
    "test13(1,2,3,'svshgsh','asdasdasda')"
   ]
  },
  {
   "cell_type": "code",
   "execution_count": 117,
   "id": "2b4f2dde-6041-4a84-a56e-f600184cc335",
   "metadata": {},
   "outputs": [],
   "source": [
    "def test14(*args,a):\n",
    "    return args,a"
   ]
  },
  {
   "cell_type": "code",
   "execution_count": 119,
   "id": "a9235500-f3fb-4d42-9dc4-4d390cfb21f3",
   "metadata": {},
   "outputs": [
    {
     "data": {
      "text/plain": [
       "((12, 3, 445, 5), 0)"
      ]
     },
     "execution_count": 119,
     "metadata": {},
     "output_type": "execute_result"
    }
   ],
   "source": [
    "test14(12,3,445,5,a=0)"
   ]
  },
  {
   "cell_type": "code",
   "execution_count": 120,
   "id": "c2a7fa41-39d0-4c90-930c-7f3ebdfbd8b1",
   "metadata": {},
   "outputs": [],
   "source": [
    "def test15(*args):\n",
    "    l=[]\n",
    "    for i in args:\n",
    "        if type(i)==list:\n",
    "            l.append(i)\n",
    "    return l\n"
   ]
  },
  {
   "cell_type": "code",
   "execution_count": 126,
   "id": "4fa93853-1abc-4b51-9f7a-e01bf7f541bf",
   "metadata": {},
   "outputs": [
    {
     "data": {
      "text/plain": [
       "[[1, 24, 45, 55, 9], [1, 2344, 456, 'fdd']]"
      ]
     },
     "execution_count": 126,
     "metadata": {},
     "output_type": "execute_result"
    }
   ],
   "source": [
    "test15([1,24,45,55,9],{12,344,555,5},('daadsd',3234343,54545),[1,2344,456,'fdd'],{'a':112})"
   ]
  },
  {
   "cell_type": "code",
   "execution_count": 130,
   "id": "2e731dd9-8008-4f05-a0e8-a2ffd1f998e5",
   "metadata": {},
   "outputs": [],
   "source": [
    "def test16(**kwargs):\n",
    "    return kwargs"
   ]
  },
  {
   "cell_type": "code",
   "execution_count": 133,
   "id": "6fffd671-21ef-492d-999d-89471a8e9956",
   "metadata": {},
   "outputs": [
    {
     "data": {
      "text/plain": [
       "{'a': 13, 'tt': 3434, 'd': 'ssdsd', 'e': (1, 2, 3, 4), 'f': [1, 2, 34, 445, 0]}"
      ]
     },
     "execution_count": 133,
     "metadata": {},
     "output_type": "execute_result"
    }
   ],
   "source": [
    "test16(a=13,tt=3434,d='ssdsd',e=(1,2,3,4),f=[1,2,34,445,0])"
   ]
  },
  {
   "cell_type": "code",
   "execution_count": 142,
   "id": "1d61a853-589e-4ba1-b13b-c9bbcc154558",
   "metadata": {},
   "outputs": [
    {
     "data": {
      "text/plain": [
       "[[1, 2, 34, 445, 0]]"
      ]
     },
     "execution_count": 142,
     "metadata": {},
     "output_type": "execute_result"
    }
   ],
   "source": [
    "def test17(**kv):\n",
    "    l=[]\n",
    "    for i in kv.keys():\n",
    "        if type(kv[i])==list:\n",
    "            l.append(kv[i])\n",
    "    return l    \n",
    "test17(a=13,tt=3434,d='ssdsd',e=(1,2,3,4),f=[1,2,34,445,0])"
   ]
  },
  {
   "cell_type": "code",
   "execution_count": 143,
   "id": "99efcca8-74a6-4591-a48c-d4627e3ebe48",
   "metadata": {},
   "outputs": [
    {
     "name": "stdout",
     "output_type": "stream",
     "text": [
      "[2, 4]\n"
     ]
    }
   ],
   "source": [
    "numbers = [1, 2, 3, 4, 5]\n",
    "\n",
    "even_numbers = filter(lambda x: x%2 == 0, numbers)\n",
    "\n",
    "print(list(even_numbers))"
   ]
  },
  {
   "cell_type": "code",
   "execution_count": null,
   "id": "26893ff9-aeda-4ec6-a655-ac2e8799a558",
   "metadata": {},
   "outputs": [],
   "source": []
  }
 ],
 "metadata": {
  "kernelspec": {
   "display_name": "Python 3 (ipykernel)",
   "language": "python",
   "name": "python3"
  },
  "language_info": {
   "codemirror_mode": {
    "name": "ipython",
    "version": 3
   },
   "file_extension": ".py",
   "mimetype": "text/x-python",
   "name": "python",
   "nbconvert_exporter": "python",
   "pygments_lexer": "ipython3",
   "version": "3.10.8"
  }
 },
 "nbformat": 4,
 "nbformat_minor": 5
}
