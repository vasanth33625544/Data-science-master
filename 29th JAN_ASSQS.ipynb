{
 "cells": [
  {
   "cell_type": "markdown",
   "id": "121dc69a",
   "metadata": {},
   "source": [
    "## Q1. Who developed Python Programming Language? \n"
   ]
  },
  {
   "cell_type": "markdown",
   "id": "9dc0e412",
   "metadata": {},
   "source": [
    "* Guido van Rossum"
   ]
  },
  {
   "cell_type": "markdown",
   "id": "9db615ab",
   "metadata": {},
   "source": [
    "## Q2.Which type of Programming does Python support? "
   ]
  },
  {
   "cell_type": "markdown",
   "id": "d03570ef",
   "metadata": {},
   "source": [
    "* Python is an interpreted programming language, supporting object-oriented, structured, and functional programming."
   ]
  },
  {
   "cell_type": "markdown",
   "id": "5bc1f666",
   "metadata": {},
   "source": [
    "## Q3.Is Python case sensitive when dealing with identifiers? \n"
   ]
  },
  {
   "cell_type": "markdown",
   "id": "55dc8326",
   "metadata": {},
   "source": [
    " * Yes.python is case sensitive when dealing with identifiers"
   ]
  },
  {
   "cell_type": "markdown",
   "id": "6e1a466c",
   "metadata": {},
   "source": [
    "## Q4. What is the correct extension of the Python file? \n"
   ]
  },
  {
   "cell_type": "markdown",
   "id": "e84f6ce4",
   "metadata": {},
   "source": [
    "# * .py"
   ]
  },
  {
   "cell_type": "markdown",
   "id": "3ffdcea0",
   "metadata": {},
   "source": [
    "## Q5. Is Python code compiled or interpreted? \n"
   ]
  },
  {
   "cell_type": "markdown",
   "id": "f89ab4e4",
   "metadata": {},
   "source": [
    "* its is a interpreted "
   ]
  },
  {
   "cell_type": "markdown",
   "id": "e241a81d",
   "metadata": {},
   "source": [
    "## Q6. Name a few blocks of code used to define in Python language? "
   ]
  },
  {
   "cell_type": "code",
   "execution_count": 7,
   "id": "5735379f",
   "metadata": {},
   "outputs": [
    {
     "name": "stdout",
     "output_type": "stream",
     "text": [
      "enter the number a=2\n",
      "enter the number a=3\n",
      "2+3=5\n"
     ]
    }
   ],
   "source": [
    "a=int(input('enter the number a='))\n",
    "b=int(input('enter the number a='))\n",
    "c=a+b\n",
    "print(f'{a}+{b}={c}')"
   ]
  },
  {
   "cell_type": "markdown",
   "id": "303e7ec6",
   "metadata": {},
   "source": [
    "## Q7. State a character used to give single-line comments in Python? "
   ]
  },
  {
   "cell_type": "markdown",
   "id": "cdf289f6",
   "metadata": {},
   "source": [
    "* '#' is used for single line comments in python"
   ]
  },
  {
   "cell_type": "markdown",
   "id": "2d8d94b4",
   "metadata": {},
   "source": [
    "## Q8. Mention functions which can help us to find the version of python that we are currently working on? \n"
   ]
  },
  {
   "cell_type": "code",
   "execution_count": 9,
   "id": "72bc13ad",
   "metadata": {},
   "outputs": [
    {
     "name": "stdout",
     "output_type": "stream",
     "text": [
      "User Current Version:- 3.9.13 (main, Aug 25 2022, 23:51:50) [MSC v.1916 64 bit (AMD64)]\n"
     ]
    }
   ],
   "source": [
    "import sys\n",
    "print(\"User Current Version:-\", sys.version)"
   ]
  },
  {
   "cell_type": "markdown",
   "id": "19881b80",
   "metadata": {},
   "source": [
    "## Q9. Python supports the creation of anonymous functions at runtime, using a construct called "
   ]
  },
  {
   "cell_type": "markdown",
   "id": "f0e3124c",
   "metadata": {},
   "source": [
    "* In Python, the lambda keyword is used to define anonymous functions rather than the def keyword,"
   ]
  },
  {
   "cell_type": "markdown",
   "id": "23b007e6",
   "metadata": {},
   "source": [
    "## Q10. What does pip stand for python? \n"
   ]
  },
  {
   "cell_type": "markdown",
   "id": "2ef6742d",
   "metadata": {},
   "source": [
    "* \"Pip Installs Packages\"."
   ]
  },
  {
   "cell_type": "markdown",
   "id": "c1938fd5",
   "metadata": {},
   "source": [
    "## Q11. Mention a few built-in functions in python? \n"
   ]
  },
  {
   "cell_type": "markdown",
   "id": "b0734f28",
   "metadata": {},
   "source": [
    "* print( ) function.\n",
    "* type( ) function.\n",
    "* input( ) function.\n",
    "* abs( ) function.\n",
    "* pow( ) function.\n",
    "* dir( ) function.\n",
    "* sorted( ) function.\n",
    "* max( ) function."
   ]
  },
  {
   "cell_type": "markdown",
   "id": "c1537700",
   "metadata": {},
   "source": [
    "## Q12. What is the maximum possible length of an identifier in Python? \n"
   ]
  },
  {
   "cell_type": "markdown",
   "id": "6d1c9087",
   "metadata": {},
   "source": [
    "* An identifier can have a maximum length of 79 characters in Python."
   ]
  },
  {
   "cell_type": "markdown",
   "id": "3053f1c5",
   "metadata": {},
   "source": [
    "## Q13. What are the benefits of using Python? "
   ]
  },
  {
   "cell_type": "markdown",
   "id": "abc7654a",
   "metadata": {},
   "source": [
    "* Simple to Use and Understand. For newcomers, Python is simple to understand and use. \n",
    "* Free and Open-Source. Video Player is loading.\n",
    "* Productivity has Increased. \n",
    "* Interpreted Language.\n",
    "* Extensive library. \n",
    "* Dynamically Typed."
   ]
  },
  {
   "cell_type": "markdown",
   "id": "551c86b7",
   "metadata": {},
   "source": [
    "## Q14. How is memory managed in Python? \n"
   ]
  },
  {
   "cell_type": "markdown",
   "id": "e0abc477",
   "metadata": {},
   "source": [
    "* Static memory:-\n",
    "The stack data structure provides static memory allocation, meaning the variables are in the stack memory. Statically assigned variables, as the name implies, are permanent; this means that they must be allocated in advance and persist for the duration of the program. Another point to remember is that we cannot reuse the memory allocated in the stack memory. Therefore, memory reusability is not possible.\n",
    "x = 20\n",
    "y = [] \n",
    "z = \"\" 2. Dynamic memory\n",
    "\n",
    "* The dynamic memory :-\n",
    "allocation uses heap data structures in its implementation, implying that variables are in the heap memory. As the name suggests, dynamically allocated variables are not permanent and can be changed while a program is running. Additionally, allotted memory can be relinquished and reused. However, it takes longer to complete because dynamic memory allocation occurs during program execution. Furthermore, after utilizing the allocated memory, we must release it. Otherwise, problems such as memory leaks might arise.\n",
    "\n",
    "x = [0]*5  #This memory for 5 integers is allocated on heap.\n"
   ]
  },
  {
   "cell_type": "markdown",
   "id": "c38d4b4e",
   "metadata": {},
   "source": [
    "## Q15. How to install Python on Windows and set path variables? "
   ]
  },
  {
   "cell_type": "markdown",
   "id": "eae68d4a",
   "metadata": {},
   "source": [
    "Step 1: Download Python binaries from python.org\n",
    "\n",
    "Step 2: Install the binaries\n",
    "\n",
    "Step 3: Add Python to system environment variables\n",
    "\n",
    "Step 4: Install pip\n",
    "\n",
    "Step 5: [Optional] Install virtualenv using pip"
   ]
  },
  {
   "cell_type": "markdown",
   "id": "eca4adb6",
   "metadata": {},
   "source": [
    "## Q16. Is indentation required in python? "
   ]
  },
  {
   "cell_type": "markdown",
   "id": "cdb79e23",
   "metadata": {},
   "source": [
    "* Indentation is mandatory in python to define the blocks of statements. It is preferred to use whitespaces instead of tabs to indent in python. Python uses four spaces as default indentation spaces"
   ]
  },
  {
   "cell_type": "code",
   "execution_count": null,
   "id": "d1a4be1d",
   "metadata": {},
   "outputs": [],
   "source": []
  }
 ],
 "metadata": {
  "kernelspec": {
   "display_name": "Python 3 (ipykernel)",
   "language": "python",
   "name": "python3"
  },
  "language_info": {
   "codemirror_mode": {
    "name": "ipython",
    "version": 3
   },
   "file_extension": ".py",
   "mimetype": "text/x-python",
   "name": "python",
   "nbconvert_exporter": "python",
   "pygments_lexer": "ipython3",
   "version": "3.9.13"
  }
 },
 "nbformat": 4,
 "nbformat_minor": 5
}
