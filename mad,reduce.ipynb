{
 "cells": [
  {
   "cell_type": "code",
   "execution_count": 3,
   "id": "3f51475e",
   "metadata": {},
   "outputs": [],
   "source": [
    "l=[1,23,45,56,6]\n"
   ]
  },
  {
   "cell_type": "code",
   "execution_count": 4,
   "id": "d3ed2528",
   "metadata": {},
   "outputs": [],
   "source": [
    "def test1(l):\n",
    "    l1=[]\n",
    "    for i in l:\n",
    "        l1.append(i**2)\n",
    "    return l1"
   ]
  },
  {
   "cell_type": "markdown",
   "id": "78d69be1",
   "metadata": {},
   "source": [
    "test1(l)"
   ]
  },
  {
   "cell_type": "code",
   "execution_count": 5,
   "id": "ef4eae38",
   "metadata": {},
   "outputs": [
    {
     "data": {
      "text/plain": [
       "[1, 529, 2025, 3136, 36]"
      ]
     },
     "execution_count": 5,
     "metadata": {},
     "output_type": "execute_result"
    }
   ],
   "source": [
    "test1(l)"
   ]
  },
  {
   "cell_type": "code",
   "execution_count": 6,
   "id": "4bb40708",
   "metadata": {},
   "outputs": [],
   "source": [
    "def sqrr(m):\n",
    "    return m**2"
   ]
  },
  {
   "cell_type": "code",
   "execution_count": 8,
   "id": "7fdebfd9",
   "metadata": {},
   "outputs": [
    {
     "data": {
      "text/plain": [
       "[1, 529, 2025, 3136, 36]"
      ]
     },
     "execution_count": 8,
     "metadata": {},
     "output_type": "execute_result"
    }
   ],
   "source": [
    "list(map(sqrr,l))"
   ]
  },
  {
   "cell_type": "code",
   "execution_count": 10,
   "id": "a28687fc",
   "metadata": {},
   "outputs": [
    {
     "data": {
      "text/plain": [
       "[11, 33, 55, 66, 16]"
      ]
     },
     "execution_count": 10,
     "metadata": {},
     "output_type": "execute_result"
    }
   ],
   "source": [
    "list(map(lambda x:x+10,l))"
   ]
  },
  {
   "cell_type": "code",
   "execution_count": 11,
   "id": "582a2fe6",
   "metadata": {},
   "outputs": [],
   "source": [
    "from functools import reduce\n"
   ]
  },
  {
   "cell_type": "code",
   "execution_count": 12,
   "id": "46fe04a6",
   "metadata": {},
   "outputs": [],
   "source": [
    "l1=[1,2,3,4,5,6]"
   ]
  },
  {
   "cell_type": "code",
   "execution_count": 13,
   "id": "1e8761c0",
   "metadata": {},
   "outputs": [
    {
     "data": {
      "text/plain": [
       "21"
      ]
     },
     "execution_count": 13,
     "metadata": {},
     "output_type": "execute_result"
    }
   ],
   "source": [
    "reduce(lambda x,y:x+y,l1)"
   ]
  },
  {
   "cell_type": "code",
   "execution_count": 14,
   "id": "c57c0b47",
   "metadata": {},
   "outputs": [],
   "source": [
    "def summ(x,y):\n",
    "    return x+y\n",
    "    "
   ]
  },
  {
   "cell_type": "code",
   "execution_count": 15,
   "id": "199dd7b9",
   "metadata": {},
   "outputs": [
    {
     "data": {
      "text/plain": [
       "21"
      ]
     },
     "execution_count": 15,
     "metadata": {},
     "output_type": "execute_result"
    }
   ],
   "source": [
    "reduce(summ,l1)"
   ]
  },
  {
   "cell_type": "code",
   "execution_count": 16,
   "id": "28270963",
   "metadata": {},
   "outputs": [
    {
     "ename": "TypeError",
     "evalue": "<lambda>() missing 1 required positional argument: 'z'",
     "output_type": "error",
     "traceback": [
      "\u001b[1;31m---------------------------------------------------------------------------\u001b[0m",
      "\u001b[1;31mTypeError\u001b[0m                                 Traceback (most recent call last)",
      "\u001b[1;32m~\\AppData\\Local\\Temp\\ipykernel_26184\\3044817432.py\u001b[0m in \u001b[0;36m<module>\u001b[1;34m\u001b[0m\n\u001b[1;32m----> 1\u001b[1;33m \u001b[0mreduce\u001b[0m\u001b[1;33m(\u001b[0m\u001b[1;32mlambda\u001b[0m \u001b[0mx\u001b[0m\u001b[1;33m,\u001b[0m\u001b[0my\u001b[0m\u001b[1;33m,\u001b[0m\u001b[0mz\u001b[0m\u001b[1;33m:\u001b[0m\u001b[0mx\u001b[0m\u001b[1;33m+\u001b[0m\u001b[0my\u001b[0m\u001b[1;33m+\u001b[0m\u001b[0mz\u001b[0m\u001b[1;33m,\u001b[0m\u001b[0ml1\u001b[0m\u001b[1;33m)\u001b[0m\u001b[1;33m\u001b[0m\u001b[1;33m\u001b[0m\u001b[0m\n\u001b[0m",
      "\u001b[1;31mTypeError\u001b[0m: <lambda>() missing 1 required positional argument: 'z'"
     ]
    }
   ],
   "source": [
    "reduce(lambda x,y,z:x+y+z,l1)"
   ]
  },
  {
   "cell_type": "code",
   "execution_count": 17,
   "id": "c9037da4",
   "metadata": {},
   "outputs": [
    {
     "data": {
      "text/plain": [
       "[1, 2, 3, 4, 5, 6]"
      ]
     },
     "execution_count": 17,
     "metadata": {},
     "output_type": "execute_result"
    }
   ],
   "source": [
    "l1"
   ]
  },
  {
   "cell_type": "code",
   "execution_count": 23,
   "id": "43b52ec7",
   "metadata": {},
   "outputs": [
    {
     "data": {
      "text/plain": [
       "6"
      ]
     },
     "execution_count": 23,
     "metadata": {},
     "output_type": "execute_result"
    }
   ],
   "source": [
    "reduce(lambda x,y:x+y,{1,2,3})"
   ]
  },
  {
   "cell_type": "code",
   "execution_count": 24,
   "id": "3e03af63",
   "metadata": {},
   "outputs": [
    {
     "data": {
      "text/plain": [
       "6"
      ]
     },
     "execution_count": 24,
     "metadata": {},
     "output_type": "execute_result"
    }
   ],
   "source": [
    "reduce(lambda x,y:x if x>y else y,l1)"
   ]
  },
  {
   "cell_type": "markdown",
   "id": "1174e4a5",
   "metadata": {},
   "source": [
    "# Filetr function"
   ]
  },
  {
   "cell_type": "code",
   "execution_count": 28,
   "id": "7a660427",
   "metadata": {},
   "outputs": [
    {
     "data": {
      "text/plain": [
       "[1, 3, 5]"
      ]
     },
     "execution_count": 28,
     "metadata": {},
     "output_type": "execute_result"
    }
   ],
   "source": [
    "list(filter(lambda x:x%2==1,l1))\n"
   ]
  },
  {
   "cell_type": "code",
   "execution_count": 29,
   "id": "11aa9c1d",
   "metadata": {},
   "outputs": [],
   "source": [
    "l2=[-2,-4,-5,6,7,8,3,-4,-66,90]"
   ]
  },
  {
   "cell_type": "code",
   "execution_count": 31,
   "id": "d2a8a696",
   "metadata": {},
   "outputs": [
    {
     "data": {
      "text/plain": [
       "[-2, -4, -5, -4, -66]"
      ]
     },
     "execution_count": 31,
     "metadata": {},
     "output_type": "execute_result"
    }
   ],
   "source": [
    "list(filter(lambda x:x<0,l2))"
   ]
  },
  {
   "cell_type": "code",
   "execution_count": 32,
   "id": "339e20e2",
   "metadata": {},
   "outputs": [
    {
     "data": {
      "text/plain": [
       "[6, 7, 8, 3, 90]"
      ]
     },
     "execution_count": 32,
     "metadata": {},
     "output_type": "execute_result"
    }
   ],
   "source": [
    "list(filter(lambda x:x>0,l2))"
   ]
  },
  {
   "cell_type": "code",
   "execution_count": 33,
   "id": "5b09984a",
   "metadata": {},
   "outputs": [],
   "source": [
    "l3=['vasanth','gghgh','rrrr','kumar','ertuertykshc','scsc']"
   ]
  },
  {
   "cell_type": "code",
   "execution_count": 35,
   "id": "3b715641",
   "metadata": {},
   "outputs": [
    {
     "data": {
      "text/plain": [
       "['vasanth', 'ertuertykshc']"
      ]
     },
     "execution_count": 35,
     "metadata": {},
     "output_type": "execute_result"
    }
   ],
   "source": [
    "list(filter(lambda x:len(x)>6,l3))"
   ]
  },
  {
   "cell_type": "code",
   "execution_count": 36,
   "id": "fa136e80",
   "metadata": {},
   "outputs": [
    {
     "data": {
      "text/plain": [
       "['gghgh', 'rrrr', 'kumar', 'scsc']"
      ]
     },
     "execution_count": 36,
     "metadata": {},
     "output_type": "execute_result"
    }
   ],
   "source": [
    "list(filter(lambda x:len(x)<6,l3))"
   ]
  },
  {
   "cell_type": "code",
   "execution_count": null,
   "id": "d1ff9880",
   "metadata": {},
   "outputs": [],
   "source": []
  }
 ],
 "metadata": {
  "kernelspec": {
   "display_name": "Python 3 (ipykernel)",
   "language": "python",
   "name": "python3"
  },
  "language_info": {
   "codemirror_mode": {
    "name": "ipython",
    "version": 3
   },
   "file_extension": ".py",
   "mimetype": "text/x-python",
   "name": "python",
   "nbconvert_exporter": "python",
   "pygments_lexer": "ipython3",
   "version": "3.9.13"
  }
 },
 "nbformat": 4,
 "nbformat_minor": 5
}
