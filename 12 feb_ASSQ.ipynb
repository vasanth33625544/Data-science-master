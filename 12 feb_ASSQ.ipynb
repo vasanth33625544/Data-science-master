{
 "cells": [
  {
   "cell_type": "markdown",
   "id": "ed183af1",
   "metadata": {},
   "source": [
    "## Q1. What is an Exception in python? Write the difference between Exceptions and synrax errors"
   ]
  },
  {
   "cell_type": "markdown",
   "id": "2f503d19",
   "metadata": {},
   "source": [
    "* When in the runtime an error that occurs after passing the syntax test is called exception or logical type. For example, when we divide any number by zero then the ZeroDivisionError exception is raised, or when we import a module that does not exist then ImportError is raised."
   ]
  },
  {
   "cell_type": "markdown",
   "id": "1651078b",
   "metadata": {},
   "source": [
    "* Errors mostly happen at compile-time like syntax error; however it can happen at runtime as well. Whereas an Exception occurs at runtime (checked exceptions can be detected at compile time)."
   ]
  },
  {
   "cell_type": "markdown",
   "id": "427616e5",
   "metadata": {},
   "source": [
    " ## Q2.What happens when an exception is not handled? Explain with an example  \n"
   ]
  },
  {
   "cell_type": "markdown",
   "id": "e387094d",
   "metadata": {},
   "source": [
    "* If the exception is not handled by an except clause, the exception is re-raised after the finally clause has been executed."
   ]
  },
  {
   "cell_type": "markdown",
   "id": "c86bbf87",
   "metadata": {},
   "source": [
    "* Python provides a keyword finally, which is always executed after the try and except blocks. The final block always executes after the normal termination of the try block or after the try block terminates due to some exception"
   ]
  },
  {
   "cell_type": "code",
   "execution_count": 3,
   "id": "f01f76a7",
   "metadata": {},
   "outputs": [
    {
     "name": "stdout",
     "output_type": "stream",
     "text": [
      "5\n",
      "This is always executed\n"
     ]
    }
   ],
   "source": [
    "try:\n",
    "    k = 5//1  # raises divide by zero exception.\n",
    "    print(k)\n",
    "except ZeroDivisionError:\n",
    "    print(\"Can't divide by zero\")\n",
    " \n",
    "finally:\n",
    "    print('This is always executed')"
   ]
  },
  {
   "cell_type": "markdown",
   "id": "2e33c39b",
   "metadata": {},
   "source": [
    "## Q3. Which Python statements are used to catcht and handle exceptions? Explain with an example?\n"
   ]
  },
  {
   "cell_type": "markdown",
   "id": "6dfcafc0",
   "metadata": {},
   "source": [
    "* The try and except block in Python is used to catch and handle exceptions. Python executes code following the try statement as a “normal” part of the program. The code that follows the except statement is the program’s response to any exceptions in the preceding try clause."
   ]
  },
  {
   "cell_type": "code",
   "execution_count": 4,
   "id": "27df80f8",
   "metadata": {},
   "outputs": [
    {
     "name": "stdout",
     "output_type": "stream",
     "text": [
      "Could not open file.log\n"
     ]
    }
   ],
   "source": [
    "try:\n",
    "    with open('file.log') as file:\n",
    "        read_data = file.read()\n",
    "except:\n",
    "    print('Could not open file.log')"
   ]
  },
  {
   "cell_type": "markdown",
   "id": "8de2aacf",
   "metadata": {},
   "source": [
    "* in above code we try to read the log file if file is exist in current directory try will execute normally if file is not found except block will execute raise the exception error."
   ]
  },
  {
   "cell_type": "markdown",
   "id": "544e4ed9",
   "metadata": {},
   "source": [
    "## Q4. Explain with an example:"
   ]
  },
  {
   "cell_type": "markdown",
   "id": "9cf83a76",
   "metadata": {},
   "source": [
    "## a.try and else\n",
    "* ### In some situations, we might want to run a certain block of code if the code block inside try runs without any errors.For these cases, you can use the optional else keyword with the try statement.\n",
    "\n"
   ]
  },
  {
   "cell_type": "code",
   "execution_count": 9,
   "id": "46b5b72b",
   "metadata": {},
   "outputs": [
    {
     "name": "stdout",
     "output_type": "stream",
     "text": [
      "0.25\n"
     ]
    }
   ],
   "source": [
    "try:\n",
    "    num=4\n",
    "    assert num % 2 == 0\n",
    "except:\n",
    "    print(\"Not an even number!\")\n",
    "else:\n",
    "    reciprocal = 1/num\n",
    "    print(reciprocal)"
   ]
  },
  {
   "cell_type": "markdown",
   "id": "2c03007f",
   "metadata": {},
   "source": [
    "## b.Finally\n",
    "* ###  the finally block is always executed no matter whether there is an exception or not.The finally block is optional. And, for each try block, there can be only one finally block."
   ]
  },
  {
   "cell_type": "code",
   "execution_count": 11,
   "id": "efb6a2b5",
   "metadata": {},
   "outputs": [
    {
     "name": "stdout",
     "output_type": "stream",
     "text": [
      "Error: Denominator cannot be 0.\n",
      "This is finally block.\n"
     ]
    }
   ],
   "source": [
    "try:\n",
    "    numerator = 10\n",
    "    denominator = 0\n",
    "\n",
    "    result = numerator/denominator\n",
    "\n",
    "    print(result)\n",
    "except:\n",
    "    print(\"Error: Denominator cannot be 0.\")\n",
    "    \n",
    "finally:\n",
    "    print(\"This is finally block.\")"
   ]
  },
  {
   "cell_type": "markdown",
   "id": "87e7f120",
   "metadata": {},
   "source": [
    "## c.raise\n",
    "* ### The raise keyword is used to raise an exception.You can define what kind of error to raise, and the text to print to the user."
   ]
  },
  {
   "cell_type": "code",
   "execution_count": 13,
   "id": "ea9a005e",
   "metadata": {},
   "outputs": [
    {
     "ename": "TypeError",
     "evalue": "Only integers are allowed",
     "output_type": "error",
     "traceback": [
      "\u001b[1;31m---------------------------------------------------------------------------\u001b[0m",
      "\u001b[1;31mTypeError\u001b[0m                                 Traceback (most recent call last)",
      "\u001b[1;32m~\\AppData\\Local\\Temp\\ipykernel_16224\\3660753527.py\u001b[0m in \u001b[0;36m<module>\u001b[1;34m\u001b[0m\n\u001b[0;32m      2\u001b[0m \u001b[1;33m\u001b[0m\u001b[0m\n\u001b[0;32m      3\u001b[0m \u001b[1;32mif\u001b[0m \u001b[1;32mnot\u001b[0m \u001b[0mtype\u001b[0m\u001b[1;33m(\u001b[0m\u001b[0mx\u001b[0m\u001b[1;33m)\u001b[0m \u001b[1;32mis\u001b[0m \u001b[0mint\u001b[0m\u001b[1;33m:\u001b[0m\u001b[1;33m\u001b[0m\u001b[1;33m\u001b[0m\u001b[0m\n\u001b[1;32m----> 4\u001b[1;33m       \u001b[1;32mraise\u001b[0m \u001b[0mTypeError\u001b[0m\u001b[1;33m(\u001b[0m\u001b[1;34m\"Only integers are allowed\"\u001b[0m\u001b[1;33m)\u001b[0m\u001b[1;33m\u001b[0m\u001b[1;33m\u001b[0m\u001b[0m\n\u001b[0m",
      "\u001b[1;31mTypeError\u001b[0m: Only integers are allowed"
     ]
    }
   ],
   "source": [
    "x = \"hello\"\n",
    "\n",
    "if not type(x) is int:\n",
    "      raise TypeError(\"Only integers are allowed\")"
   ]
  },
  {
   "cell_type": "markdown",
   "id": "4716ddc7",
   "metadata": {},
   "source": [
    "### Q5. What are Custom Exceptions in python? Why do we need Custom Exceptions? Explain with an example"
   ]
  },
  {
   "cell_type": "code",
   "execution_count": 14,
   "id": "05f58d14",
   "metadata": {},
   "outputs": [
    {
     "name": "stdout",
     "output_type": "stream",
     "text": [
      "Enter the age=222\n",
      "age is should not greater than 200\n"
     ]
    }
   ],
   "source": [
    "class validage(Exception):\n",
    "    def __init__(self,msg):\n",
    "        self.msg=msg\n",
    "\n",
    "def vaildate_age(age):\n",
    "    if age<0:\n",
    "        raise validage(\"age should not less than zero\")\n",
    "    elif age>200:\n",
    "        raise validage('age is should not greater than 200')\n",
    "    else:\n",
    "        raise validage('correct age')\n",
    "\n",
    "try:\n",
    "    age=int(input(\"Enter the age=\"))\n",
    "    vaildate_age(age)\n",
    "except validage as e:\n",
    "    print(e)"
   ]
  },
  {
   "cell_type": "markdown",
   "id": "a612bad3",
   "metadata": {},
   "source": [
    "* In Python, we can define custom exceptions by creating a new class that is derived from the built-in Exception class.\n",
    "* Here, CustomError is a user-defined error which inherits from the Exception class."
   ]
  },
  {
   "cell_type": "markdown",
   "id": "c3ff6c60",
   "metadata": {},
   "source": [
    "### Q6. Create custom exception class. Use this class to handle an exception."
   ]
  },
  {
   "cell_type": "code",
   "execution_count": 19,
   "id": "7d643e9f",
   "metadata": {},
   "outputs": [
    {
     "name": "stdout",
     "output_type": "stream",
     "text": [
      "enter the age=300\n",
      "age should not greater than 200\n"
     ]
    }
   ],
   "source": [
    "class validate(Exception):\n",
    "    def __init__(self,msg):\n",
    "        self.msg=msg\n",
    "\n",
    "def validation_age(age):\n",
    "    if age<0:\n",
    "        raise validate(\"age should not less than 0\")\n",
    "    elif age>200:\n",
    "        raise validate(\"age should not greater than 200\")\n",
    "    else:\n",
    "         raise validate(\"correct age\")\n",
    "            \n",
    "try:\n",
    "    age=int(input(\"enter the age=\"))\n",
    "    validation_age(age)\n",
    "except validate as e:\n",
    "    print(e)"
   ]
  },
  {
   "cell_type": "code",
   "execution_count": null,
   "id": "15cf3201",
   "metadata": {},
   "outputs": [],
   "source": []
  }
 ],
 "metadata": {
  "kernelspec": {
   "display_name": "Python 3 (ipykernel)",
   "language": "python",
   "name": "python3"
  },
  "language_info": {
   "codemirror_mode": {
    "name": "ipython",
    "version": 3
   },
   "file_extension": ".py",
   "mimetype": "text/x-python",
   "name": "python",
   "nbconvert_exporter": "python",
   "pygments_lexer": "ipython3",
   "version": "3.9.13"
  }
 },
 "nbformat": 4,
 "nbformat_minor": 5
}
