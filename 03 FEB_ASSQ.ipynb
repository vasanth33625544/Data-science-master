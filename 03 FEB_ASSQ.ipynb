{
 "cells": [
  {
   "cell_type": "markdown",
   "id": "176a7d29",
   "metadata": {},
   "source": [
    "## Q1. Which keyword is used to create a function? Create a function to return a list of odd numbers in the range of 1 to 25."
   ]
  },
  {
   "cell_type": "markdown",
   "id": "3dd2c7ef",
   "metadata": {},
   "source": [
    "* def keyword is used for creat a function\n"
   ]
  },
  {
   "cell_type": "code",
   "execution_count": 3,
   "id": "cab9ea07",
   "metadata": {},
   "outputs": [
    {
     "data": {
      "text/plain": [
       "[1, 3, 5, 7, 9, 11, 13, 15, 17, 19, 21, 23]"
      ]
     },
     "execution_count": 3,
     "metadata": {},
     "output_type": "execute_result"
    }
   ],
   "source": [
    "def odd_num():\n",
    "    l=[]\n",
    "    for i in range(1,25):\n",
    "        if i%2==1:\n",
    "            l.append(i)\n",
    "    return l\n",
    "odd_num()"
   ]
  },
  {
   "cell_type": "markdown",
   "id": "9490ce0d",
   "metadata": {},
   "source": [
    "## Q2. Why *args and **kwargs is used in some functions? Create a function each for *args and **kwargs to demonstrate their use."
   ]
  },
  {
   "cell_type": "markdown",
   "id": "6b8a7923",
   "metadata": {},
   "source": [
    "* args allows us to pass a variable number of non-keyword arguments to a Python function.\n",
    "*def add(x, y, z):\n",
    "    return x+y+z\n",
    "\n",
    "*passing 2 argumnets instead of 3 compiler gives error to over this issue *args and *kwargs are used we can send multiple argumnet .\n",
    "* **kwargs allows us to pass a variable number of keyword arguments to a Python function. In the function\n"
   ]
  },
  {
   "cell_type": "code",
   "execution_count": 4,
   "id": "1af22783",
   "metadata": {},
   "outputs": [],
   "source": [
    "def add(*numbers):\n",
    "    total = 0\n",
    "    for num in numbers:\n",
    "        total += num\n",
    "    return total"
   ]
  },
  {
   "cell_type": "code",
   "execution_count": 5,
   "id": "1066ac8a",
   "metadata": {},
   "outputs": [
    {
     "name": "stdout",
     "output_type": "stream",
     "text": [
      "5\n",
      "10\n",
      "17\n",
      "26\n"
     ]
    }
   ],
   "source": [
    "print(add(2, 3))\n",
    "print(add(2, 3, 5))\n",
    "print(add(2, 3, 5, 7))\n",
    "print(add(2, 3, 5, 7, 9))"
   ]
  },
  {
   "cell_type": "code",
   "execution_count": 7,
   "id": "4aa8e087",
   "metadata": {},
   "outputs": [
    {
     "name": "stdout",
     "output_type": "stream",
     "text": [
      "{'banana': 5, 'mango': 7, 'apple': 8} <class 'dict'>\n",
      "{'banana': 5, 'mango': 7, 'apple': 8, 'oranges': 10} <class 'dict'>\n",
      "None\n",
      "{'banana': 5, 'mango': 7} <class 'dict'>\n",
      "None\n"
     ]
    }
   ],
   "source": [
    "def total_fruits(**kwargs):\n",
    "    print(kwargs, type(kwargs))\n",
    "\n",
    "\n",
    "total_fruits(banana=5, mango=7, apple=8)\n",
    "print(total_fruits(banana=5, mango=7, apple=8, oranges=10))\n",
    "print(total_fruits(banana=5, mango=7))"
   ]
  },
  {
   "cell_type": "markdown",
   "id": "00d789bc",
   "metadata": {},
   "source": [
    "## Q3. What is an iterator in python? Name the method used to initialise the iterator object and the method used for iteration. Use these methods to print the first five elements of the given list [2, 4, 6, 8, 10, 12, 14, 16,18, 20]."
   ]
  },
  {
   "cell_type": "markdown",
   "id": "1cec19d5",
   "metadata": {},
   "source": [
    "* Iterator in Python is an object that is used to iterate over iterable objects like lists, tuples, dicts, and sets. The iterator object is initialized using the iter() method. It uses the next() method for iteration."
   ]
  },
  {
   "cell_type": "code",
   "execution_count": 10,
   "id": "08df7ef1",
   "metadata": {},
   "outputs": [
    {
     "name": "stdout",
     "output_type": "stream",
     "text": [
      "2\n",
      "4\n",
      "6\n",
      "8\n",
      "10\n"
     ]
    }
   ],
   "source": [
    "l1=[2, 4, 6, 8, 10, 12, 14, 16,18, 20]\n",
    "iterator=iter(l1)\n",
    "for i in range(5):\n",
    "    print(next(iterator))"
   ]
  },
  {
   "cell_type": "markdown",
   "id": "38860ec3",
   "metadata": {},
   "source": [
    "## Q4. What is a generator function in python? Why yield keyword is used? Give an example of a generator function."
   ]
  },
  {
   "cell_type": "markdown",
   "id": "67a6e110",
   "metadata": {},
   "source": [
    "* A generator is a function that returns an iterator that produces a sequence of values when iterated over.\n",
    "* the yield keyword is used to produce a value from the generator."
   ]
  },
  {
   "cell_type": "code",
   "execution_count": 12,
   "id": "c0ad5d89",
   "metadata": {},
   "outputs": [
    {
     "name": "stdout",
     "output_type": "stream",
     "text": [
      "0\n",
      "1\n",
      "2\n",
      "3\n",
      "4\n",
      "5\n"
     ]
    }
   ],
   "source": [
    "def my_generator(n):\n",
    "    value = 0\n",
    "    while value < n:\n",
    "        yield value\n",
    "        value += 1\n",
    "        \n",
    "for value in my_generator(6):\n",
    "    print(value)"
   ]
  },
  {
   "cell_type": "markdown",
   "id": "a6e43370",
   "metadata": {},
   "source": [
    "## Q5. Create a generator function for prime numbers less than 1000. Use the next() method to print the first 20 prime numbers."
   ]
  },
  {
   "cell_type": "code",
   "execution_count": 64,
   "id": "26418328",
   "metadata": {},
   "outputs": [],
   "source": [
    "def printPrimes():\n",
    "    for k in range(2,1000):\n",
    "        prime=True\n",
    "        for i in range(2,k):\n",
    "            if k%i==0:\n",
    "                prime=False\n",
    "        if (prime==True):\n",
    "            yield k\n",
    "       "
   ]
  },
  {
   "cell_type": "code",
   "execution_count": 58,
   "id": "533dd8ee",
   "metadata": {},
   "outputs": [
    {
     "name": "stdout",
     "output_type": "stream",
     "text": [
      "2\n",
      "3\n",
      "5\n",
      "7\n",
      "11\n",
      "13\n",
      "17\n",
      "19\n"
     ]
    }
   ],
   "source": [
    "for i in printPrimes(20):\n",
    "    print(i)"
   ]
  },
  {
   "cell_type": "code",
   "execution_count": 65,
   "id": "9e42a189",
   "metadata": {},
   "outputs": [],
   "source": [
    "gene=printPrimes()"
   ]
  },
  {
   "cell_type": "code",
   "execution_count": 66,
   "id": "661307c6",
   "metadata": {},
   "outputs": [
    {
     "name": "stdout",
     "output_type": "stream",
     "text": [
      "2,3,5,7,11,13,17,19,23,29,31,37,41,43,47,53,59,61,67,71,"
     ]
    }
   ],
   "source": [
    "for i in range(20):\n",
    "    print(next(gene),end=',')\n",
    "    "
   ]
  },
  {
   "cell_type": "code",
   "execution_count": null,
   "id": "c5f29c77",
   "metadata": {},
   "outputs": [],
   "source": []
  }
 ],
 "metadata": {
  "kernelspec": {
   "display_name": "Python 3 (ipykernel)",
   "language": "python",
   "name": "python3"
  },
  "language_info": {
   "codemirror_mode": {
    "name": "ipython",
    "version": 3
   },
   "file_extension": ".py",
   "mimetype": "text/x-python",
   "name": "python",
   "nbconvert_exporter": "python",
   "pygments_lexer": "ipython3",
   "version": "3.9.13"
  }
 },
 "nbformat": 4,
 "nbformat_minor": 5
}
