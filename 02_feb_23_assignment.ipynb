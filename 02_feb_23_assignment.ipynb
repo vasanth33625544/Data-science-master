{
 "cells": [
  {
   "cell_type": "markdown",
   "id": "8f871965",
   "metadata": {},
   "source": [
    "## Q1. What are the characteristics of the tuples? Is tuple immutable?"
   ]
  },
  {
   "cell_type": "markdown",
   "id": "625c2c10",
   "metadata": {},
   "source": [
    "* tuples is collection of diffrerent data types,\n",
    "* tupels each element sepaarted by commas\n",
    "* tuples elements cant be add or remove \n",
    "* tuples are immutable data type"
   ]
  },
  {
   "cell_type": "markdown",
   "id": "d10a6e89",
   "metadata": {},
   "source": [
    "## Q2. What are the two tuple methods in python? Give an example of each method. Give a reason why tuples have only two in-built methods as compared to Lists.\n"
   ]
  },
  {
   "cell_type": "code",
   "execution_count": 7,
   "id": "a0d7270b",
   "metadata": {},
   "outputs": [],
   "source": [
    "t=(1,2,3)# count and index methods are available in tuple"
   ]
  },
  {
   "cell_type": "code",
   "execution_count": 4,
   "id": "8e8c5b4d",
   "metadata": {},
   "outputs": [
    {
     "data": {
      "text/plain": [
       "1"
      ]
     },
     "execution_count": 4,
     "metadata": {},
     "output_type": "execute_result"
    }
   ],
   "source": [
    "t.count(1)# its count number data occured in tupple"
   ]
  },
  {
   "cell_type": "code",
   "execution_count": 6,
   "id": "82d79a64",
   "metadata": {},
   "outputs": [
    {
     "data": {
      "text/plain": [
       "1"
      ]
     },
     "execution_count": 6,
     "metadata": {},
     "output_type": "execute_result"
    }
   ],
   "source": [
    "t.index(2)# its gives the index value of passed data"
   ]
  },
  {
   "cell_type": "markdown",
   "id": "08289773",
   "metadata": {},
   "source": [
    "## Q3. Which collection datatypes in python do not allow duplicate items? Write a code using a set to remove duplicates from the given list.\n",
    "\n",
    "### List = [1, 1, 1, 2, 1, 3, 1, 4, 2, 1, 2, 2, 2, 3, 2, 4, 3, 1, 3, 2, 3, 3, 3, 4, 4, 1, 4, 2, 4, 3, 4, 4]"
   ]
  },
  {
   "cell_type": "code",
   "execution_count": 8,
   "id": "42256d73",
   "metadata": {},
   "outputs": [],
   "source": [
    "List = [1, 1, 1, 2, 1, 3, 1, 4, 2, 1, 2, 2, 2, 3, 2, 4, 3, 1, 3, 2, 3, 3, 3, 4, 4, 1, 4, 2, 4, 3, 4, 4]"
   ]
  },
  {
   "cell_type": "markdown",
   "id": "10d9dc11",
   "metadata": {},
   "source": [
    "## set data type do not allows the duplicate items"
   ]
  },
  {
   "cell_type": "code",
   "execution_count": 9,
   "id": "889ee2a9",
   "metadata": {},
   "outputs": [],
   "source": [
    "l=list(set(List))"
   ]
  },
  {
   "cell_type": "code",
   "execution_count": 10,
   "id": "06cdeabc",
   "metadata": {},
   "outputs": [
    {
     "name": "stdout",
     "output_type": "stream",
     "text": [
      "[1, 2, 3, 4]\n"
     ]
    }
   ],
   "source": [
    "print(l)"
   ]
  },
  {
   "cell_type": "markdown",
   "id": "cb1a9ba2",
   "metadata": {},
   "source": [
    "## Q4. Explain the difference between the union() and update() methods for a set. Give an example of each method."
   ]
  },
  {
   "cell_type": "markdown",
   "id": "547f5480",
   "metadata": {},
   "source": [
    "### update()=Update a set with the union of itself and others."
   ]
  },
  {
   "cell_type": "markdown",
   "id": "c093b995",
   "metadata": {},
   "source": [
    "### set.union()=its Return the union of sets as a new set."
   ]
  },
  {
   "cell_type": "code",
   "execution_count": 26,
   "id": "4cb8cf14",
   "metadata": {},
   "outputs": [],
   "source": [
    "set1={1,2,3,4}\n",
    "set2={3,4,7,8}"
   ]
  },
  {
   "cell_type": "code",
   "execution_count": 23,
   "id": "7f9eb67f",
   "metadata": {},
   "outputs": [
    {
     "data": {
      "text/plain": [
       "{1, 2, 3, 4, 7, 8}"
      ]
     },
     "execution_count": 23,
     "metadata": {},
     "output_type": "execute_result"
    }
   ],
   "source": [
    "set1.union(set2)"
   ]
  },
  {
   "cell_type": "code",
   "execution_count": 29,
   "id": "9557b128",
   "metadata": {},
   "outputs": [],
   "source": [
    "set2.update(set1)"
   ]
  },
  {
   "cell_type": "code",
   "execution_count": 31,
   "id": "337b0c8f",
   "metadata": {},
   "outputs": [
    {
     "name": "stdout",
     "output_type": "stream",
     "text": [
      "{1, 2, 3, 4, 7, 8}\n"
     ]
    }
   ],
   "source": [
    "print(set2)"
   ]
  },
  {
   "cell_type": "markdown",
   "id": "7e817f16",
   "metadata": {},
   "source": [
    "## Q5. What is a dictionary? Give an example. Also, state whether a dictionary is ordered or unordered."
   ]
  },
  {
   "cell_type": "markdown",
   "id": "8bc40d92",
   "metadata": {},
   "source": [
    "* Dictinary is data type its has collection of differnt data type with key and values\n",
    "* in dictionary there is no concept of order or unorder its work with respect to keys"
   ]
  },
  {
   "cell_type": "markdown",
   "id": "940b70c2",
   "metadata": {},
   "source": [
    "## Q6. Can we create a nested dictionary? If so, please give an example by creating a simple one-level nested dictionary."
   ]
  },
  {
   "cell_type": "markdown",
   "id": "45addb0e",
   "metadata": {},
   "source": [
    "* yes, we can created nested dictinary\n",
    "* example "
   ]
  },
  {
   "cell_type": "code",
   "execution_count": 32,
   "id": "2701b1c3",
   "metadata": {},
   "outputs": [],
   "source": [
    "dict1={'dict2':{'dict3':1,'dict4':4,'dict5':6}}"
   ]
  },
  {
   "cell_type": "code",
   "execution_count": 33,
   "id": "4730540f",
   "metadata": {},
   "outputs": [
    {
     "data": {
      "text/plain": [
       "{'dict2': {'dict3': 1, 'dict4': 4, 'dict5': 6}}"
      ]
     },
     "execution_count": 33,
     "metadata": {},
     "output_type": "execute_result"
    }
   ],
   "source": [
    "dict1"
   ]
  },
  {
   "cell_type": "markdown",
   "id": "a0432150",
   "metadata": {},
   "source": [
    "## Q7. Using setdefault() method, create key named topics in the given dictionary and also add the value of the key as this list ['Python', 'Machine Learning’, 'Deep Learning']"
   ]
  },
  {
   "cell_type": "code",
   "execution_count": 41,
   "id": "743ecbee",
   "metadata": {},
   "outputs": [],
   "source": [
    "dict1 = {'language' : 'Python', 'course': 'Data Science Masters'}"
   ]
  },
  {
   "cell_type": "code",
   "execution_count": 38,
   "id": "dd48c9c1",
   "metadata": {},
   "outputs": [],
   "source": [
    "l=['Python', 'Machine Learning','Deep Learning']"
   ]
  },
  {
   "cell_type": "code",
   "execution_count": 42,
   "id": "a0668008",
   "metadata": {},
   "outputs": [],
   "source": [
    "for i in l:\n",
    "    dict1.setdefault(i)"
   ]
  },
  {
   "cell_type": "code",
   "execution_count": 43,
   "id": "4a943efb",
   "metadata": {},
   "outputs": [
    {
     "data": {
      "text/plain": [
       "{'language': 'Python',\n",
       " 'course': 'Data Science Masters',\n",
       " 'Python': None,\n",
       " 'Machine Learning': None,\n",
       " 'Deep Learning': None}"
      ]
     },
     "execution_count": 43,
     "metadata": {},
     "output_type": "execute_result"
    }
   ],
   "source": [
    "dict1"
   ]
  },
  {
   "cell_type": "markdown",
   "id": "2b620ea5",
   "metadata": {},
   "source": [
    "## Q8. What are the three view objects in dictionaries? Use the three in-built methods in python to display these three view objects for the given dictionary.\n",
    "### dict1 = {'Sport': 'Cricket' , 'Teams': ['India', 'Australia', 'England', 'South Africa', 'Sri Lanka', 'New Zealand']}"
   ]
  },
  {
   "cell_type": "code",
   "execution_count": 2,
   "id": "ba54f5ab",
   "metadata": {},
   "outputs": [],
   "source": [
    "dict1 = {'Sport': 'Cricket' , 'Teams': ['India', 'Australia', 'England', 'South Africa', 'Sri Lanka', 'New Zealand']}"
   ]
  },
  {
   "cell_type": "code",
   "execution_count": 3,
   "id": "c2692bb6",
   "metadata": {},
   "outputs": [
    {
     "data": {
      "text/plain": [
       "dict_keys(['Sport', 'Teams'])"
      ]
     },
     "execution_count": 3,
     "metadata": {},
     "output_type": "execute_result"
    }
   ],
   "source": [
    "dict1.keys()"
   ]
  },
  {
   "cell_type": "code",
   "execution_count": 4,
   "id": "c9f9128d",
   "metadata": {},
   "outputs": [
    {
     "data": {
      "text/plain": [
       "dict_values(['Cricket', ['India', 'Australia', 'England', 'South Africa', 'Sri Lanka', 'New Zealand']])"
      ]
     },
     "execution_count": 4,
     "metadata": {},
     "output_type": "execute_result"
    }
   ],
   "source": [
    "dict1.values()"
   ]
  },
  {
   "cell_type": "code",
   "execution_count": 6,
   "id": "d046fcbf",
   "metadata": {},
   "outputs": [
    {
     "data": {
      "text/plain": [
       "'Cricket'"
      ]
     },
     "execution_count": 6,
     "metadata": {},
     "output_type": "execute_result"
    }
   ],
   "source": [
    "dict1['Sport']"
   ]
  },
  {
   "cell_type": "code",
   "execution_count": 10,
   "id": "e36afbef",
   "metadata": {},
   "outputs": [
    {
     "data": {
      "text/plain": [
       "['India', 'Australia', 'England', 'South Africa', 'Sri Lanka', 'New Zealand']"
      ]
     },
     "execution_count": 10,
     "metadata": {},
     "output_type": "execute_result"
    }
   ],
   "source": [
    "dict1.get('Teams')"
   ]
  },
  {
   "cell_type": "markdown",
   "id": "8d550884",
   "metadata": {},
   "source": []
  }
 ],
 "metadata": {
  "kernelspec": {
   "display_name": "Python 3 (ipykernel)",
   "language": "python",
   "name": "python3"
  },
  "language_info": {
   "codemirror_mode": {
    "name": "ipython",
    "version": 3
   },
   "file_extension": ".py",
   "mimetype": "text/x-python",
   "name": "python",
   "nbconvert_exporter": "python",
   "pygments_lexer": "ipython3",
   "version": "3.9.13"
  }
 },
 "nbformat": 4,
 "nbformat_minor": 5
}
