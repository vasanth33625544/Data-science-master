{
 "cells": [
  {
   "cell_type": "markdown",
   "id": "1532e8d7",
   "metadata": {},
   "source": [
    "## Q1. Explain Class and Object with respect to Object-Oriented Programming. Give a suitable example."
   ]
  },
  {
   "cell_type": "markdown",
   "id": "448749fd",
   "metadata": {},
   "source": [
    "* Object − Objects have states and behaviors. Example: A dog has states - color, name, breed as well as behaviors – wagging the tail, barking, eating. An object is an instance of a class.\n",
    "\n",
    "* Class − A class can be defined as a template/blueprint that describes the behavior/state that the object of its type support."
   ]
  },
  {
   "cell_type": "code",
   "execution_count": 1,
   "id": "e6ff7933",
   "metadata": {},
   "outputs": [
    {
     "name": "stdout",
     "output_type": "stream",
     "text": [
      "vasanth\n"
     ]
    }
   ],
   "source": [
    "class example1:\n",
    "    def __init__(self,name):\n",
    "        self.name=name\n",
    "        \n",
    "ex1=example1('vasanth')\n",
    "print(ex1.name)"
   ]
  },
  {
   "cell_type": "markdown",
   "id": "adf09703",
   "metadata": {},
   "source": [
    "## Q2. Name the four pillars of OOPs."
   ]
  },
  {
   "cell_type": "markdown",
   "id": "01b2d026",
   "metadata": {},
   "source": [
    "* Data abstraction is the process of hiding unnecessary details of an object’s internal structure. By abstracting an object’s data, its structure and behavior can be kept separate and more easily understood.\n",
    "* Encapsulation is the process of wrapping data and related functions into a single unit (object). Encapsulation limits access to object data and methods, preventing their misuse and ensuring their proper functioning.\n",
    "* Inheritance is the ability to create a new class (child class) from an existing one (parent class). The child class typically inherits the attributes (members and methods) of the parent class, although it can also redefine them. \n",
    "* Polymorphism is the ability of an object to take on multiple forms. This allows objects of different classes to be used interchangeably, as long as they implement a certain interface (have methods of the same name)."
   ]
  },
  {
   "cell_type": "markdown",
   "id": "b8ad41fd",
   "metadata": {},
   "source": [
    "## Q3. Explain why the __init__() function is used. Give a suitable example."
   ]
  },
  {
   "cell_type": "markdown",
   "id": "d4db3c83",
   "metadata": {},
   "source": [
    "* The Default __init__ Constructor in python . Constructors are used to initializing the object’s state. The task of constructors is to initialize(assign values) to the data members of the class when an object of the class is created. \n"
   ]
  },
  {
   "cell_type": "code",
   "execution_count": 3,
   "id": "d11665ca",
   "metadata": {},
   "outputs": [],
   "source": [
    "class example_init:\n",
    "    def __init__(self,name,age):\n",
    "        self.name=name\n",
    "        self.age=age\n",
    "\n",
    "ex1=example_init('vasanth',30)"
   ]
  },
  {
   "cell_type": "markdown",
   "id": "07d3f66c",
   "metadata": {},
   "source": [
    "## Q4. Why self is used in OOPs?"
   ]
  },
  {
   "cell_type": "markdown",
   "id": "d20b4ba3",
   "metadata": {},
   "source": [
    "* The self parameter is a reference to the current instance of the class, and is used to access variables that belongs to the class"
   ]
  },
  {
   "cell_type": "markdown",
   "id": "fda7f636",
   "metadata": {},
   "source": [
    "## Q5. What is inheritance? Give an example for each type of inheritance."
   ]
  },
  {
   "cell_type": "markdown",
   "id": "65d89263",
   "metadata": {},
   "source": [
    "* Inheritance is a mechanism in which one class acquires the property of another class. For example, a child inherits the traits of his/her parents. With inheritance, we can reuse the fields and methods of the existing class. Hence, inheritance facilitates Reusability and is an important concept of OOPs."
   ]
  },
  {
   "cell_type": "code",
   "execution_count": 4,
   "id": "78fa0e5d",
   "metadata": {},
   "outputs": [
    {
     "name": "stdout",
     "output_type": "stream",
     "text": [
      "Function of parent class.\n",
      "Function of child class.\n"
     ]
    }
   ],
   "source": [
    "#Single Inheritance\n",
    "class Parent:\n",
    "    def f1(self):\n",
    "        print(\"Function of parent class.\")\n",
    "\n",
    "class Child(Parent):\n",
    "    def f2(self):\n",
    "        print(\"Function of child class.\")\n",
    "\n",
    "object1 = Child()\n",
    "object1.f1()\n",
    "object1.f2()"
   ]
  },
  {
   "cell_type": "code",
   "execution_count": 5,
   "id": "1358eef3",
   "metadata": {},
   "outputs": [
    {
     "name": "stdout",
     "output_type": "stream",
     "text": [
      "Function of parent_1 class.\n",
      "Function of parent_2 class.\n",
      "function of parent_3 class.\n",
      "Function of child class.\n"
     ]
    }
   ],
   "source": [
    "# multiple Inheritence\n",
    "class Parent_1:\n",
    "      def f1(self):\n",
    "        print(\"Function of parent_1 class.\")\n",
    "\n",
    "class Parent_2:\n",
    "      def f2(self):\n",
    "        print(\"Function of parent_2 class.\")\n",
    "\n",
    "class Parent_3:\n",
    "      def f3(self):\n",
    "        print(\"function of parent_3 class.\")\n",
    "\n",
    "class Child(Parent_1, Parent_2, Parent_3):\n",
    "      def f4(self):\n",
    "        print(\"Function of child class.\")\n",
    "\n",
    "object_1 = Child()\n",
    "object_1.f1()\n",
    "object_1.f2()\n",
    "object_1.f3()\n",
    "object_1.f4()"
   ]
  },
  {
   "cell_type": "code",
   "execution_count": 7,
   "id": "3e853f95",
   "metadata": {},
   "outputs": [
    {
     "name": "stdout",
     "output_type": "stream",
     "text": [
      "Function of parent class.\n",
      "Function of child_1 class.\n",
      "Function of parent class.\n",
      "Function of child_1 class.\n",
      "Function of child_2 class.\n"
     ]
    }
   ],
   "source": [
    "# Multi-level Inheritance\n",
    "class Parent:\n",
    "      def f1(self):\n",
    "        print(\"Function of parent class.\")\n",
    "\n",
    "class Child_1(Parent):\n",
    "      def f2(self):\n",
    "        print(\"Function of child_1 class.\")\n",
    "\n",
    "class Child_2(Child_1):\n",
    "      def f3(self):\n",
    "        print(\"Function of child_2 class.\")\n",
    "\n",
    "obj_1 = Child_1()\n",
    "obj_2 = Child_2()\n",
    "\n",
    "obj_1.f1()\n",
    "obj_1.f2()\n",
    "\n",
    "obj_2.f1()\n",
    "obj_2.f2()\n",
    "obj_2.f3()"
   ]
  },
  {
   "cell_type": "code",
   "execution_count": 8,
   "id": "56e2fb93",
   "metadata": {},
   "outputs": [
    {
     "name": "stdout",
     "output_type": "stream",
     "text": [
      "Function of parent class.\n",
      "Function of child_1 class.\n",
      "\n",
      "\n",
      "Function of parent class.\n",
      "Function of child_2 class.\n"
     ]
    }
   ],
   "source": [
    "# Hierarchical Inheritance\n",
    "class Parent:\n",
    "    def f1(self):\n",
    "        print(\"Function of parent class.\")\n",
    "\n",
    "class Child_1(Parent):\n",
    "    def f2(self):\n",
    "        print(\"Function of child_1 class.\")\n",
    "\n",
    "class Child_2(Parent):\n",
    "    def f3(self):\n",
    "        print(\"Function of child_2 class.\")\n",
    "\n",
    "obj_1 = Child_1()\n",
    "obj_2 = Child_2()\n",
    "\n",
    "obj_1.f1()\n",
    "obj_1.f2()\n",
    "\n",
    "print('\\n')\n",
    "obj_2.f1()\n",
    "obj_2.f3()"
   ]
  },
  {
   "cell_type": "code",
   "execution_count": 9,
   "id": "a8a523c5",
   "metadata": {},
   "outputs": [
    {
     "name": "stdout",
     "output_type": "stream",
     "text": [
      "Function of parent class.\n",
      "Function of child_1 class.\n",
      "Function of child_2 class.\n",
      "Function of child_3 class.\n"
     ]
    }
   ],
   "source": [
    "#Hybrid Inheritance\n",
    "class Parent:\n",
    "      def f1(self):\n",
    "        print(\"Function of parent class.\")\n",
    "\n",
    "class Child_1(Parent):\n",
    "      def f2(self):\n",
    "        print(\"Function of child_1 class.\")\n",
    "\n",
    "class Child_2(Parent):\n",
    "      def f3(self):\n",
    "        print(\"Function of child_2 class.\")\n",
    "\n",
    "class Child_3(Child_1, Child_2):\n",
    "      def f4(self):\n",
    "        print(\"Function of child_3 class.\")\n",
    "\n",
    "obj = Child_3()\n",
    "obj.f1()\n",
    "obj.f2()\n",
    "obj.f3()\n",
    "obj.f4()"
   ]
  },
  {
   "cell_type": "code",
   "execution_count": null,
   "id": "e1d82207",
   "metadata": {},
   "outputs": [],
   "source": []
  }
 ],
 "metadata": {
  "kernelspec": {
   "display_name": "Python 3 (ipykernel)",
   "language": "python",
   "name": "python3"
  },
  "language_info": {
   "codemirror_mode": {
    "name": "ipython",
    "version": 3
   },
   "file_extension": ".py",
   "mimetype": "text/x-python",
   "name": "python",
   "nbconvert_exporter": "python",
   "pygments_lexer": "ipython3",
   "version": "3.9.13"
  }
 },
 "nbformat": 4,
 "nbformat_minor": 5
}
