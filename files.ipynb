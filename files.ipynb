{
 "cells": [
  {
   "cell_type": "code",
   "execution_count": 1,
   "id": "e3919dc0-0a14-464a-a5b9-cef83c99c6ac",
   "metadata": {},
   "outputs": [
    {
     "data": {
      "text/plain": [
       "'/home/jovyan/work'"
      ]
     },
     "execution_count": 1,
     "metadata": {},
     "output_type": "execute_result"
    }
   ],
   "source": [
    "pwd"
   ]
  },
  {
   "cell_type": "code",
   "execution_count": 2,
   "id": "8749c429-2b67-4438-9401-008816731f81",
   "metadata": {},
   "outputs": [
    {
     "name": "stdout",
     "output_type": "stream",
     "text": [
      " 09FEB_ASSQ.ipynb             functions.ipynb     \u001b[0m\u001b[01;34mtest1\u001b[0m/\n",
      "'Day5 Tuple_set_dict.ipynb'   oops.ipynb         \u001b[01;34m'Untitled Folder'\u001b[0m/\n",
      " files.ipynb                  README.md           Untitled.ipynb\n",
      " files.txt                    sample-code.ipynb\n"
     ]
    }
   ],
   "source": [
    "ls"
   ]
  },
  {
   "cell_type": "code",
   "execution_count": 19,
   "id": "4fad5683-0978-43ad-a7ff-7a42578a8a59",
   "metadata": {},
   "outputs": [],
   "source": [
    "f=open('files.txt','w')"
   ]
  },
  {
   "cell_type": "code",
   "execution_count": 20,
   "id": "f8397d26-90b9-443c-b6a5-86a370ea63d3",
   "metadata": {},
   "outputs": [
    {
     "data": {
      "text/plain": [
       "152"
      ]
     },
     "execution_count": 20,
     "metadata": {},
     "output_type": "execute_result"
    }
   ],
   "source": [
    "f.write(\"The CSV files on this page contain the latest data from Infoshare and our information releases. 2013 Census meshblock data is also available in CSV forh\")"
   ]
  },
  {
   "cell_type": "code",
   "execution_count": 21,
   "id": "ff61f09f-c822-48b3-929f-acbc7654de2c",
   "metadata": {},
   "outputs": [],
   "source": [
    "f.close()"
   ]
  },
  {
   "cell_type": "code",
   "execution_count": 22,
   "id": "49037d40-fcc0-41b9-b074-27b1735fb6b3",
   "metadata": {},
   "outputs": [],
   "source": [
    "f=open('files.txt','r')"
   ]
  },
  {
   "cell_type": "code",
   "execution_count": 28,
   "id": "5a7e3c21-aef9-43e9-8783-674b6476dfd5",
   "metadata": {},
   "outputs": [
    {
     "data": {
      "text/plain": [
       "'The CSV files on this page contain the latest data from Infoshare and our information releases. 2013 Census meshblock data is also available in CSV forh'"
      ]
     },
     "execution_count": 28,
     "metadata": {},
     "output_type": "execute_result"
    }
   ],
   "source": [
    "f.read()"
   ]
  },
  {
   "cell_type": "code",
   "execution_count": 33,
   "id": "3f6da07d-ecc8-4910-8b1d-e085a381f419",
   "metadata": {},
   "outputs": [
    {
     "data": {
      "text/plain": [
       "0"
      ]
     },
     "execution_count": 33,
     "metadata": {},
     "output_type": "execute_result"
    }
   ],
   "source": [
    "f.seek(0)\n"
   ]
  },
  {
   "cell_type": "code",
   "execution_count": 32,
   "id": "5c00eee2-c47b-44e7-b6b8-578b8d1539a0",
   "metadata": {},
   "outputs": [
    {
     "name": "stdout",
     "output_type": "stream",
     "text": [
      "The CSV files on this page contain the latest data from Infoshare and our information releases. 2013 Census meshblock data is also available in CSV forh\n"
     ]
    }
   ],
   "source": [
    "for i in f:\n",
    "    print(i)"
   ]
  },
  {
   "cell_type": "code",
   "execution_count": 34,
   "id": "fc81d875-59fd-46d0-8041-3b94ee43fd36",
   "metadata": {},
   "outputs": [
    {
     "data": {
      "text/plain": [
       "'The CSV files on this page contain the latest data from Infoshare and our information releases. 2013 Census meshblock data is also available in CSV forh'"
      ]
     },
     "execution_count": 34,
     "metadata": {},
     "output_type": "execute_result"
    }
   ],
   "source": [
    "f.readline()"
   ]
  },
  {
   "cell_type": "code",
   "execution_count": 35,
   "id": "92a680f9-7d6f-458c-9c39-822c9f4c1615",
   "metadata": {},
   "outputs": [],
   "source": [
    "import os"
   ]
  },
  {
   "cell_type": "code",
   "execution_count": 36,
   "id": "3c845e9e-edaa-451e-88e9-1df73da4467a",
   "metadata": {},
   "outputs": [
    {
     "data": {
      "text/plain": [
       "152"
      ]
     },
     "execution_count": 36,
     "metadata": {},
     "output_type": "execute_result"
    }
   ],
   "source": [
    "os.path.getsize('files.txt')"
   ]
  },
  {
   "cell_type": "code",
   "execution_count": 37,
   "id": "21f9b378-b9ca-4ec2-9685-835ff29e866e",
   "metadata": {},
   "outputs": [],
   "source": [
    "import shutil"
   ]
  },
  {
   "cell_type": "code",
   "execution_count": 38,
   "id": "492da3ae-7dbd-4083-b2b7-382bb25cc2b8",
   "metadata": {},
   "outputs": [
    {
     "data": {
      "text/plain": [
       "'newtxt.txt'"
      ]
     },
     "execution_count": 38,
     "metadata": {},
     "output_type": "execute_result"
    }
   ],
   "source": [
    "shutil.copy('files.txt','newtxt.txt')"
   ]
  },
  {
   "cell_type": "code",
   "execution_count": 39,
   "id": "595a3c35-48dc-4694-b0f2-64a32f640eed",
   "metadata": {},
   "outputs": [],
   "source": [
    "os.remove('newtxt.txt')"
   ]
  },
  {
   "cell_type": "code",
   "execution_count": 41,
   "id": "ed38dc42-32d6-4e4d-9c66-0798288fe326",
   "metadata": {},
   "outputs": [
    {
     "name": "stdout",
     "output_type": "stream",
     "text": [
      "The CSV files on this page contain the latest data from Infoshare and our information releases. 2013 Census meshblock data is also available in CSV forh\n"
     ]
    }
   ],
   "source": [
    "with open('files.txt','r+') as f:\n",
    "    print(f.read())\n",
    "    "
   ]
  },
  {
   "cell_type": "code",
   "execution_count": 43,
   "id": "17c7cde5-c1f7-48c0-958a-29757ff59c26",
   "metadata": {},
   "outputs": [],
   "source": [
    "data={'name':'vasanth kaumar',\n",
    "      'mail_id':'vasu0920@gmail.com',\n",
    "      'phone number':99897668687,\n",
    "      'subject':['data science','python','weddev']}\n"
   ]
  },
  {
   "cell_type": "code",
   "execution_count": 44,
   "id": "48a1bcc5-03a3-4775-a957-10ec43c60fd1",
   "metadata": {},
   "outputs": [],
   "source": [
    "import json"
   ]
  },
  {
   "cell_type": "code",
   "execution_count": 46,
   "id": "2b1c0031-3723-4412-8a61-ffda9bf7423e",
   "metadata": {},
   "outputs": [],
   "source": [
    "with open('test1.json','w')as f:\n",
    "    json.dump(data,f)"
   ]
  },
  {
   "cell_type": "code",
   "execution_count": 49,
   "id": "6b14ea6e-4d3d-4fbc-a830-d0bbbbb79839",
   "metadata": {},
   "outputs": [],
   "source": [
    "with open('test1.json','r')as f:\n",
    "    data1=json.load(f)"
   ]
  },
  {
   "cell_type": "code",
   "execution_count": 53,
   "id": "e0a06dc5-878c-424f-be5b-835b19061653",
   "metadata": {},
   "outputs": [
    {
     "name": "stdout",
     "output_type": "stream",
     "text": [
      "name\n",
      "mail_id\n",
      "phone number\n",
      "subject\n"
     ]
    }
   ],
   "source": [
    "for i in data1:\n",
    "    print(i)"
   ]
  },
  {
   "cell_type": "code",
   "execution_count": 57,
   "id": "e0a3a816-7515-4c98-a92a-c92c587d1df2",
   "metadata": {},
   "outputs": [],
   "source": [
    "f.close()"
   ]
  },
  {
   "cell_type": "code",
   "execution_count": 55,
   "id": "6c981f21-85ac-48bf-a21a-e271391b1c73",
   "metadata": {},
   "outputs": [],
   "source": [
    "data=[['name','email_id','number'],\n",
    "      ['vasanth','vasu09200@gmail.com',9979797979],['kumar','vgfgfhh@gamil.com',78678678578]]"
   ]
  },
  {
   "cell_type": "code",
   "execution_count": 54,
   "id": "fb2390d0-e1e4-4747-8809-1f0d40c0399a",
   "metadata": {},
   "outputs": [],
   "source": [
    "import csv"
   ]
  },
  {
   "cell_type": "code",
   "execution_count": 59,
   "id": "147d31b0-6790-434a-8718-98d7ff3414a4",
   "metadata": {},
   "outputs": [],
   "source": [
    "with open('test2.csv','w') as f1:\n",
    "    w=csv.writer(f1)\n",
    "    for i in data:\n",
    "        w.writerow(i)"
   ]
  },
  {
   "cell_type": "code",
   "execution_count": 62,
   "id": "688bf5ef-0b8b-4c54-a3b4-d8fd0903aa88",
   "metadata": {},
   "outputs": [
    {
     "name": "stdout",
     "output_type": "stream",
     "text": [
      "['name', 'email_id', 'number']\n",
      "['vasanth', 'vasu09200@gmail.com', '9979797979']\n",
      "['kumar', 'vgfgfhh@gamil.com', '78678678578']\n"
     ]
    }
   ],
   "source": [
    "with open('test2.csv','r') as f1:\n",
    "    r=csv.reader(f1)\n",
    "    for i in r:\n",
    "        print(i)"
   ]
  },
  {
   "cell_type": "code",
   "execution_count": 64,
   "id": "04074a29-5e55-41f6-82dd-e18f646edff1",
   "metadata": {},
   "outputs": [],
   "source": [
    "with open('test3.bin','wb') as f2:\n",
    "    f2.write(b'\\x01\\x02\\x03\\x04')"
   ]
  },
  {
   "cell_type": "code",
   "execution_count": 65,
   "id": "491eb01a-f9a3-4ac1-9fb3-0255195cbdfd",
   "metadata": {},
   "outputs": [],
   "source": [
    "with open('test3.bin','rb') as f2:\n",
    "    w=f2.read()"
   ]
  },
  {
   "cell_type": "code",
   "execution_count": 66,
   "id": "b7177a1e-4cfe-4404-9bb9-4a4a1f47454d",
   "metadata": {},
   "outputs": [
    {
     "data": {
      "text/plain": [
       "b'\\x01\\x02\\x03\\x04'"
      ]
     },
     "execution_count": 66,
     "metadata": {},
     "output_type": "execute_result"
    }
   ],
   "source": [
    "w"
   ]
  },
  {
   "cell_type": "markdown",
   "id": "a6e9d388-ddf0-4993-902c-5032c5adc10f",
   "metadata": {},
   "source": [
    "## BUFFER WRITER"
   ]
  },
  {
   "cell_type": "code",
   "execution_count": 76,
   "id": "7ed39a8c-7f37-44c4-ae14-3ceea58afec9",
   "metadata": {},
   "outputs": [],
   "source": [
    "import io\n",
    "with open('text.txt','wb') as f:\n",
    "    file=io.BufferedWriter(f)\n",
    "    file.write(b'this is the fisrt line\\n')\n",
    "    file.write(b'this is the second line')\n",
    "    file.flush()"
   ]
  },
  {
   "cell_type": "code",
   "execution_count": 81,
   "id": "03c06e42-68a0-4d14-bc14-d81d02af52ea",
   "metadata": {},
   "outputs": [
    {
     "name": "stdout",
     "output_type": "stream",
     "text": [
      "[b'this is the fisrt line\\n', b'this is the second line']\n"
     ]
    }
   ],
   "source": [
    "with open('text.txt','rb') as f:\n",
    "    file=io.BufferedReader(f)\n",
    "    data=file.readlines()\n",
    "    print(data)\n",
    "    "
   ]
  },
  {
   "cell_type": "code",
   "execution_count": 83,
   "id": "bbc76d21-5b81-42ac-914b-5131e671d790",
   "metadata": {},
   "outputs": [
    {
     "ename": "SyntaxError",
     "evalue": "positional argument follows keyword argument (1653451506.py, line 1)",
     "output_type": "error",
     "traceback": [
      "\u001b[0;36m  Cell \u001b[0;32mIn[83], line 1\u001b[0;36m\u001b[0m\n\u001b[0;31m    infile = open(file ='c:\\scores.txt', 'r')\u001b[0m\n\u001b[0m                                            ^\u001b[0m\n\u001b[0;31mSyntaxError\u001b[0m\u001b[0;31m:\u001b[0m positional argument follows keyword argument\n"
     ]
    }
   ],
   "source": [
    "infile = open(file ='c:\\scores.txt', 'r')"
   ]
  },
  {
   "cell_type": "code",
   "execution_count": 1,
   "id": "1ba8a37e-2de2-4f2e-9193-d1b126a67390",
   "metadata": {},
   "outputs": [],
   "source": [
    "import logging\n"
   ]
  },
  {
   "cell_type": "code",
   "execution_count": 3,
   "id": "b571beba-e06a-400b-acaf-40ba0ae9be70",
   "metadata": {},
   "outputs": [],
   "source": [
    "logging.basicConfig(filename=\"text4.log\", level=logging.INFO)"
   ]
  },
  {
   "cell_type": "code",
   "execution_count": 4,
   "id": "3bd0e37a-fd3e-4682-89e3-8a9136b6866a",
   "metadata": {},
   "outputs": [],
   "source": [
    "logging.info(\"this is my first line\")"
   ]
  },
  {
   "cell_type": "code",
   "execution_count": 5,
   "id": "f61d458d-9d64-4094-8244-2245512d5b58",
   "metadata": {},
   "outputs": [],
   "source": [
    "logging.error('this is my error')"
   ]
  },
  {
   "cell_type": "code",
   "execution_count": 6,
   "id": "9912e587-1721-4947-bb32-3610a95b5a90",
   "metadata": {},
   "outputs": [],
   "source": [
    "logging.critical('this is my critical ')"
   ]
  },
  {
   "cell_type": "code",
   "execution_count": 7,
   "id": "044d9acf-cae8-4bc9-be47-8dc8de2183fd",
   "metadata": {},
   "outputs": [],
   "source": [
    "logging.warning('this is my warning')"
   ]
  },
  {
   "cell_type": "code",
   "execution_count": 8,
   "id": "05bf8b22-6505-4b52-8b13-8e916483ee50",
   "metadata": {},
   "outputs": [],
   "source": [
    "logging.shutdown(),format ='%(asctime)s %(name)s %(levelname)s %(meassge)s'"
   ]
  },
  {
   "cell_type": "code",
   "execution_count": 9,
   "id": "2eff4ea5-e8ea-4914-b323-e09c24e01aba",
   "metadata": {},
   "outputs": [],
   "source": [
    "logging.basicConfig(filename=\"text5.log\", level=logging.DEBUG )"
   ]
  },
  {
   "cell_type": "code",
   "execution_count": 10,
   "id": "c15aa036-596f-4d39-aec9-bddd95b64129",
   "metadata": {},
   "outputs": [
    {
     "name": "stderr",
     "output_type": "stream",
     "text": [
      "--- Logging error ---\n",
      "Traceback (most recent call last):\n",
      "  File \"/opt/conda/lib/python3.10/logging/__init__.py\", line 440, in format\n",
      "    return self._format(record)\n",
      "  File \"/opt/conda/lib/python3.10/logging/__init__.py\", line 436, in _format\n",
      "    return self._fmt % values\n",
      "KeyError: 'meassge'\n",
      "\n",
      "During handling of the above exception, another exception occurred:\n",
      "\n",
      "Traceback (most recent call last):\n",
      "  File \"/opt/conda/lib/python3.10/logging/__init__.py\", line 1100, in emit\n",
      "    msg = self.format(record)\n",
      "  File \"/opt/conda/lib/python3.10/logging/__init__.py\", line 943, in format\n",
      "    return fmt.format(record)\n",
      "  File \"/opt/conda/lib/python3.10/logging/__init__.py\", line 681, in format\n",
      "    s = self.formatMessage(record)\n",
      "  File \"/opt/conda/lib/python3.10/logging/__init__.py\", line 650, in formatMessage\n",
      "    return self._style.format(record)\n",
      "  File \"/opt/conda/lib/python3.10/logging/__init__.py\", line 442, in format\n",
      "    raise ValueError('Formatting field not found in record: %s' % e)\n",
      "ValueError: Formatting field not found in record: 'meassge'\n",
      "Call stack:\n",
      "  File \"/opt/conda/lib/python3.10/runpy.py\", line 196, in _run_module_as_main\n",
      "    return _run_code(code, main_globals, None,\n",
      "  File \"/opt/conda/lib/python3.10/runpy.py\", line 86, in _run_code\n",
      "    exec(code, run_globals)\n",
      "  File \"/opt/conda/lib/python3.10/site-packages/ipykernel_launcher.py\", line 17, in <module>\n",
      "    app.launch_new_instance()\n",
      "  File \"/opt/conda/lib/python3.10/site-packages/traitlets/config/application.py\", line 992, in launch_instance\n",
      "    app.start()\n",
      "  File \"/opt/conda/lib/python3.10/site-packages/ipykernel/kernelapp.py\", line 711, in start\n",
      "    self.io_loop.start()\n",
      "  File \"/opt/conda/lib/python3.10/site-packages/tornado/platform/asyncio.py\", line 199, in start\n",
      "    self.asyncio_loop.run_forever()\n",
      "  File \"/opt/conda/lib/python3.10/asyncio/base_events.py\", line 603, in run_forever\n",
      "    self._run_once()\n",
      "  File \"/opt/conda/lib/python3.10/asyncio/base_events.py\", line 1899, in _run_once\n",
      "    handle._run()\n",
      "  File \"/opt/conda/lib/python3.10/asyncio/events.py\", line 80, in _run\n",
      "    self._context.run(self._callback, *self._args)\n",
      "  File \"/opt/conda/lib/python3.10/site-packages/ipykernel/kernelbase.py\", line 510, in dispatch_queue\n",
      "    await self.process_one()\n",
      "  File \"/opt/conda/lib/python3.10/site-packages/ipykernel/kernelbase.py\", line 499, in process_one\n",
      "    await dispatch(*args)\n",
      "  File \"/opt/conda/lib/python3.10/site-packages/ipykernel/kernelbase.py\", line 406, in dispatch_shell\n",
      "    await result\n",
      "  File \"/opt/conda/lib/python3.10/site-packages/ipykernel/kernelbase.py\", line 729, in execute_request\n",
      "    reply_content = await reply_content\n",
      "  File \"/opt/conda/lib/python3.10/site-packages/ipykernel/ipkernel.py\", line 411, in do_execute\n",
      "    res = shell.run_cell(\n",
      "  File \"/opt/conda/lib/python3.10/site-packages/ipykernel/zmqshell.py\", line 531, in run_cell\n",
      "    return super().run_cell(*args, **kwargs)\n",
      "  File \"/opt/conda/lib/python3.10/site-packages/IPython/core/interactiveshell.py\", line 2940, in run_cell\n",
      "    result = self._run_cell(\n",
      "  File \"/opt/conda/lib/python3.10/site-packages/IPython/core/interactiveshell.py\", line 2995, in _run_cell\n",
      "    return runner(coro)\n",
      "  File \"/opt/conda/lib/python3.10/site-packages/IPython/core/async_helpers.py\", line 129, in _pseudo_sync_runner\n",
      "    coro.send(None)\n",
      "  File \"/opt/conda/lib/python3.10/site-packages/IPython/core/interactiveshell.py\", line 3194, in run_cell_async\n",
      "    has_raised = await self.run_ast_nodes(code_ast.body, cell_name,\n",
      "  File \"/opt/conda/lib/python3.10/site-packages/IPython/core/interactiveshell.py\", line 3373, in run_ast_nodes\n",
      "    if await self.run_code(code, result, async_=asy):\n",
      "  File \"/opt/conda/lib/python3.10/site-packages/IPython/core/interactiveshell.py\", line 3433, in run_code\n",
      "    exec(code_obj, self.user_global_ns, self.user_ns)\n",
      "  File \"/tmp/ipykernel_878/1074594351.py\", line 1, in <module>\n",
      "    logging.info('this is the first program')\n",
      "Message: 'this is the first program'\n",
      "Arguments: ()\n"
     ]
    }
   ],
   "source": [
    "logging.info('this is the first program')"
   ]
  },
  {
   "cell_type": "code",
   "execution_count": null,
   "id": "3de59913-4075-4f8a-8a6f-06cce4fe1f72",
   "metadata": {},
   "outputs": [],
   "source": []
  }
 ],
 "metadata": {
  "kernelspec": {
   "display_name": "Python 3 (ipykernel)",
   "language": "python",
   "name": "python3"
  },
  "language_info": {
   "codemirror_mode": {
    "name": "ipython",
    "version": 3
   },
   "file_extension": ".py",
   "mimetype": "text/x-python",
   "name": "python",
   "nbconvert_exporter": "python",
   "pygments_lexer": "ipython3",
   "version": "3.10.8"
  }
 },
 "nbformat": 4,
 "nbformat_minor": 5
}
