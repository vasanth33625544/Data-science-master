{
 "cells": [
  {
   "cell_type": "markdown",
   "id": "22c8968b-460d-41b8-a69a-683372b870c0",
   "metadata": {},
   "source": [
    "## Q1. You are writing code for a company. The requirement of the company is that you create a python function that will check whether the password entered by the user is correct or not. The function should take the password as input and return the string “Valid Password” if the entered password follows the below-given password guidelines else it should return “Invalid Password”.\n",
    "## Note: 1. The Password should contain at least two uppercase letters and at least two lowercase letters.\n",
    "## 2. The Password should contain at least a number and three special characters.\n",
    "## 3. The length of the password should be 10 characters long."
   ]
  },
  {
   "cell_type": "code",
   "execution_count": 13,
   "id": "d36aa1de-f4ec-444b-a144-cee7049dce69",
   "metadata": {},
   "outputs": [
    {
     "name": "stdin",
     "output_type": "stream",
     "text": [
      "Please enter the Password:- Aaaa6#6%$#\n"
     ]
    },
    {
     "name": "stdout",
     "output_type": "stream",
     "text": [
      "1 2 4 3 10\n",
      "Invalid Password\n"
     ]
    }
   ],
   "source": [
    "password=input(\"Please enter the Password:-\")\n",
    "def password_validation(password):\n",
    "    case1=0\n",
    "    case2=0\n",
    "    case3=0\n",
    "    case4=0\n",
    "    for i in password:\n",
    "        if i.isupper():\n",
    "            case1+=1\n",
    "        elif i.isnumeric():\n",
    "            case2+=1\n",
    "        elif i in ['!','@','#','$','%','&','*','~','_','-']:\n",
    "            case3+=1\n",
    "        elif i.islower():\n",
    "            case4+=1\n",
    "    print(case1,case2,case3,case4,len(password))\n",
    "    if case1>=2 and case4>=2 and case2>=1 and case3==3 and len(password)>=10:\n",
    "        print(\"Valid Password\")\n",
    "    else:\n",
    "        print(\"Invalid Password\")\n",
    "        \n",
    "password_validation(password)"
   ]
  },
  {
   "cell_type": "markdown",
   "id": "c26ae09a-9a01-4464-8076-d97b37300461",
   "metadata": {},
   "source": [
    "## Q2. Solve the below-given questions using at least one of the following:\n",
    "1. Lambda function\n",
    "2. Filter function\n",
    "3. Map function\n",
    "4. List Comprehension\n",
    "* Check if the string starts with a particular letter\n",
    "* Check if the string is numeric\n",
    "* Sort a list of tuples having fruit names and their quantity. [(\"mango\",99),(\"orange\",80), (\"grapes\", 1000)]\n",
    "* Find the squares of numbers from 1 to 10\n",
    "* Find the cube root of numbers from 1 to 10\n",
    "* Check if a given number is even\n",
    "* Filter odd numbers from the given list.[1,2,3,4,5,6,7,8,9,10]\n",
    "* Sort a list of integers into positive and negative integers lists.[1,2,3,4,5,6,-1,-2,-3,-4,-5,0]"
   ]
  },
  {
   "cell_type": "code",
   "execution_count": 8,
   "id": "5e4cfe79-a7f3-4cd3-b499-ff7429a61bc7",
   "metadata": {},
   "outputs": [
    {
     "data": {
      "text/plain": [
       "True"
      ]
     },
     "execution_count": 8,
     "metadata": {},
     "output_type": "execute_result"
    }
   ],
   "source": [
    "#Check if the string starts with a particular letter\n",
    "string=lambda x: True if x[0]=='Y' else False\n",
    "string('Yamaha')"
   ]
  },
  {
   "cell_type": "code",
   "execution_count": 17,
   "id": "f55b0a9d-dfef-484f-9916-919e68f946b7",
   "metadata": {},
   "outputs": [
    {
     "name": "stdin",
     "output_type": "stream",
     "text": [
      "Enter the Input string ksjfkdooioio9898\n"
     ]
    },
    {
     "name": "stdout",
     "output_type": "stream",
     "text": [
      "This string is not numaric\n"
     ]
    }
   ],
   "source": [
    "# Check if the string is numeric\n",
    "string1=lambda x: True if x.isnumeric() else False\n",
    "input_str=input(\"Enter the Input string\")\n",
    "if string1(input_str):\n",
    "    print(\"This string is numaric\")\n",
    "else:\n",
    "    print(\"This string is not numaric\")"
   ]
  },
  {
   "cell_type": "code",
   "execution_count": 13,
   "id": "e3717cf7-3988-4884-9446-d7955a0fefab",
   "metadata": {},
   "outputs": [
    {
     "data": {
      "text/plain": [
       "True"
      ]
     },
     "execution_count": 13,
     "metadata": {},
     "output_type": "execute_result"
    }
   ],
   "source": [
    "d.isnumeric()"
   ]
  },
  {
   "cell_type": "code",
   "execution_count": 49,
   "id": "3830fdcb-4284-46af-954d-3086dd18fdec",
   "metadata": {},
   "outputs": [
    {
     "name": "stdout",
     "output_type": "stream",
     "text": [
      "[('grapes', 1000), ('mango', 99), ('orange', 80)]\n"
     ]
    }
   ],
   "source": [
    "#B Sort a list of tuples having fruit names and their quantity.\n",
    "#[(\"mango\",99),(\"orange\",80), (\"grapes\", 1000)]\n",
    "l=[(\"mango\",99),(\"orange\",80), (\"grapes\", 1000)]\n",
    "l.sort(key=lambda x:x[0])\n",
    "print(l)"
   ]
  },
  {
   "cell_type": "code",
   "execution_count": 51,
   "id": "faa448da-b6c2-42fd-b371-ca8966a72bef",
   "metadata": {},
   "outputs": [
    {
     "data": {
      "text/plain": [
       "[1, 4, 9, 16, 25, 36, 49, 64, 81]"
      ]
     },
     "execution_count": 51,
     "metadata": {},
     "output_type": "execute_result"
    }
   ],
   "source": [
    "#Find the squares of numbers from 1 to 10\n",
    "square_list=list(map(lambda x:x**2,[i for i in range(1,10)]))\n",
    "square_list"
   ]
  },
  {
   "cell_type": "code",
   "execution_count": 52,
   "id": "7a8cf404-feb0-4705-b527-a9e1092bf5f0",
   "metadata": {},
   "outputs": [
    {
     "data": {
      "text/plain": [
       "[1.0,\n",
       " 1.2599210498948732,\n",
       " 1.4422495703074083,\n",
       " 1.5874010519681994,\n",
       " 1.7099759466766968,\n",
       " 1.8171205928321397,\n",
       " 1.912931182772389,\n",
       " 2.0,\n",
       " 2.080083823051904]"
      ]
     },
     "execution_count": 52,
     "metadata": {},
     "output_type": "execute_result"
    }
   ],
   "source": [
    "# Find the cube root of numbers from 1 to 10\n",
    "cube_root=list(map(lambda x:x**(1/3),[i for i in range(1,10)]))\n",
    "cube_root"
   ]
  },
  {
   "cell_type": "code",
   "execution_count": 56,
   "id": "051f3411-b437-48fc-b0b5-2e5132337f88",
   "metadata": {},
   "outputs": [
    {
     "name": "stdin",
     "output_type": "stream",
     "text": [
      "Enter the input Number= 1\n"
     ]
    },
    {
     "name": "stdout",
     "output_type": "stream",
     "text": [
      "ODD Number\n"
     ]
    }
   ],
   "source": [
    "#Check if a given number is even\n",
    "number=int(input(\"Enter the input Number=\"))\n",
    "even=lambda x:\"Even Number\" if x%2==0 else \"ODD Number\"\n",
    "print(even(number))"
   ]
  },
  {
   "cell_type": "code",
   "execution_count": 59,
   "id": "1ca0c846-d925-4d5a-95da-70b08c49b271",
   "metadata": {},
   "outputs": [
    {
     "data": {
      "text/plain": [
       "[1, 3, 5, 7, 9]"
      ]
     },
     "execution_count": 59,
     "metadata": {},
     "output_type": "execute_result"
    }
   ],
   "source": [
    "# odd numbers from the given list1=[1,2,3,4,5,6,7,8,9,10]\n",
    "list1=[1,2,3,4,5,6,7,8,9,10]\n",
    "odd_number=[i for i in list1 if i%2==1]\n",
    "odd_number"
   ]
  },
  {
   "cell_type": "code",
   "execution_count": 64,
   "id": "4499c721-80fe-44e1-9ca1-1577745bfef2",
   "metadata": {},
   "outputs": [
    {
     "name": "stdout",
     "output_type": "stream",
     "text": [
      "Positive integer List= [0, 1, 2, 3, 4, 5, 6]\n",
      "Negative integer List= [-5, -4, -3, -2, -1]\n"
     ]
    }
   ],
   "source": [
    "#Sort a list of integers into positive and negative integers lists.[1,2,3,4,5,6,-1,-2,-3,-4,-5,0]\n",
    "lists=[1,2,3,4,5,6,-1,-2,-3,-4,-5,0]\n",
    "lists.sort()\n",
    "positive_list=[i for i in lists if i>=0]\n",
    "negative_list=[i for i in lists if i<0]\n",
    "print(\"Positive integer List=\",positive_list)\n",
    "print(\"Negative integer List=\",negative_list)"
   ]
  },
  {
   "cell_type": "code",
   "execution_count": null,
   "id": "37179c20-ab89-4a34-8617-365b93cca26d",
   "metadata": {},
   "outputs": [],
   "source": []
  }
 ],
 "metadata": {
  "kernelspec": {
   "display_name": "Python 3 (ipykernel)",
   "language": "python",
   "name": "python3"
  },
  "language_info": {
   "codemirror_mode": {
    "name": "ipython",
    "version": 3
   },
   "file_extension": ".py",
   "mimetype": "text/x-python",
   "name": "python",
   "nbconvert_exporter": "python",
   "pygments_lexer": "ipython3",
   "version": "3.10.8"
  }
 },
 "nbformat": 4,
 "nbformat_minor": 5
}
