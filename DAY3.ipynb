{
 "cells": [
  {
   "cell_type": "markdown",
   "id": "452b05d9",
   "metadata": {},
   "source": [
    "# Logical operator\n",
    "* OR\n",
    "* AND\n",
    "* NOT"
   ]
  },
  {
   "cell_type": "code",
   "execution_count": 22,
   "id": "d4cc3b01",
   "metadata": {},
   "outputs": [
    {
     "name": "stdout",
     "output_type": "stream",
     "text": [
      "2\n"
     ]
    }
   ],
   "source": [
    "print(int(5/2))"
   ]
  },
  {
   "cell_type": "code",
   "execution_count": 63,
   "id": "3dbad8e0",
   "metadata": {},
   "outputs": [
    {
     "name": "stdout",
     "output_type": "stream",
     "text": [
      "         *\n",
      "        ***\n",
      "       *****\n",
      "      *******\n",
      "     *********\n",
      "    ***********\n",
      "   *************\n",
      "  ***************\n",
      " *****************\n",
      "*******************\n"
     ]
    }
   ],
   "source": [
    "#x=int(input('Enter the number of row='))\n",
    "x=10\n",
    "for i in range(1,x+1,1):\n",
    "    print(' '*(x-i),end='')\n",
    "    print('*'*((2*i)-1))\n",
    " \n",
    "    \n",
    "    \n",
    "  "
   ]
  },
  {
   "cell_type": "code",
   "execution_count": 60,
   "id": "03023ae8",
   "metadata": {},
   "outputs": [
    {
     "name": "stdout",
     "output_type": "stream",
     "text": [
      "         *\n",
      "        ***\n",
      "       *****\n",
      "      *******\n",
      "     *********\n",
      "    ***********\n",
      "   *************\n",
      "  ***************\n",
      " *****************\n",
      "*******************\n",
      " *****************\n",
      "  ***************\n",
      "   *************\n",
      "    ***********\n",
      "     *********\n",
      "      *******\n",
      "       *****\n",
      "        ***\n",
      "         *\n",
      "          \n"
     ]
    }
   ],
   "source": [
    "x=10\n",
    "for i in range(1,x+1,1):\n",
    "    print(' '*(x-i),end='')\n",
    "    print('*'*((2*i)-1))\n",
    "for i in range(1,x+1,1):\n",
    "    print(' '*i,end='')\n",
    "    print('*'*(2*(x-i)-1))  "
   ]
  },
  {
   "cell_type": "code",
   "execution_count": 66,
   "id": "83b31771",
   "metadata": {},
   "outputs": [
    {
     "data": {
      "text/plain": [
       "True"
      ]
     },
     "execution_count": 66,
     "metadata": {},
     "output_type": "execute_result"
    }
   ],
   "source": [
    "not int(bool(1))\n",
    "\n",
    "not int(bool(0))\n"
   ]
  },
  {
   "cell_type": "markdown",
   "id": "56f4f138",
   "metadata": {},
   "source": [
    "# LOgical AND Operation"
   ]
  },
  {
   "cell_type": "code",
   "execution_count": 74,
   "id": "cc97802e",
   "metadata": {},
   "outputs": [
    {
     "name": "stdout",
     "output_type": "stream",
     "text": [
      "Dish contains VEGETABLE:True\n",
      "Dish contains SALT:False\n",
      "hence dish prepared well:False\n"
     ]
    }
   ],
   "source": [
    "Vegetable=True\n",
    "Salt=False\n",
    "Dish=Vegetable and Salt\n",
    "print(f'Dish contains VEGETABLE:{Vegetable}')\n",
    "print(f'Dish contains SALT:{Salt}')\n",
    "print(f'hence dish prepared well:{Dish}')"
   ]
  },
  {
   "cell_type": "code",
   "execution_count": 75,
   "id": "f3ca0eee",
   "metadata": {},
   "outputs": [
    {
     "data": {
      "text/plain": [
       "True"
      ]
     },
     "execution_count": 75,
     "metadata": {},
     "output_type": "execute_result"
    }
   ],
   "source": [
    "not(False)*True"
   ]
  },
  {
   "cell_type": "code",
   "execution_count": 76,
   "id": "88663eec",
   "metadata": {},
   "outputs": [
    {
     "data": {
      "text/plain": [
       "0"
      ]
     },
     "execution_count": 76,
     "metadata": {},
     "output_type": "execute_result"
    }
   ],
   "source": [
    "False * (not(False))"
   ]
  },
  {
   "cell_type": "code",
   "execution_count": 77,
   "id": "2c369281",
   "metadata": {},
   "outputs": [
    {
     "data": {
      "text/plain": [
       "0"
      ]
     },
     "execution_count": 77,
     "metadata": {},
     "output_type": "execute_result"
    }
   ],
   "source": [
    "False * False"
   ]
  },
  {
   "cell_type": "code",
   "execution_count": 79,
   "id": "f8a9d615",
   "metadata": {},
   "outputs": [
    {
     "data": {
      "text/plain": [
       "0"
      ]
     },
     "execution_count": 79,
     "metadata": {},
     "output_type": "execute_result"
    }
   ],
   "source": [
    "(not(True)) * False"
   ]
  },
  {
   "cell_type": "code",
   "execution_count": 80,
   "id": "62b1782a",
   "metadata": {},
   "outputs": [
    {
     "data": {
      "text/plain": [
       "26"
      ]
     },
     "execution_count": 80,
     "metadata": {},
     "output_type": "execute_result"
    }
   ],
   "source": [
    "2+3*8"
   ]
  },
  {
   "cell_type": "code",
   "execution_count": 87,
   "id": "2991594e",
   "metadata": {},
   "outputs": [
    {
     "data": {
      "text/plain": [
       "False"
      ]
     },
     "execution_count": 87,
     "metadata": {},
     "output_type": "execute_result"
    }
   ],
   "source": [
    "lst1=[1,2,3,4]\n",
    "lst2=[1,2,3,4]\n",
    "lst1 is lst2"
   ]
  },
  {
   "cell_type": "markdown",
   "id": "0c923675",
   "metadata": {},
   "source": [
    "# Equality operators\n",
    "# is \n",
    "# is not\n",
    "# ==\n",
    "# !="
   ]
  },
  {
   "cell_type": "code",
   "execution_count": 94,
   "id": "ba5fdfdd",
   "metadata": {},
   "outputs": [
    {
     "name": "stdout",
     "output_type": "stream",
     "text": [
      "1642741216064\n",
      "1642746970816\n"
     ]
    }
   ],
   "source": [
    "print(id(lst1))\n",
    "print(id(lst2))\n",
    "lst3=lst1"
   ]
  },
  {
   "cell_type": "code",
   "execution_count": 95,
   "id": "86fbd83c",
   "metadata": {},
   "outputs": [
    {
     "data": {
      "text/plain": [
       "True"
      ]
     },
     "execution_count": 95,
     "metadata": {},
     "output_type": "execute_result"
    }
   ],
   "source": [
    "lst1 is lst3"
   ]
  },
  {
   "cell_type": "code",
   "execution_count": 98,
   "id": "941c91ae",
   "metadata": {},
   "outputs": [],
   "source": [
    "lst3.append(5)"
   ]
  },
  {
   "cell_type": "code",
   "execution_count": 99,
   "id": "0a28172a",
   "metadata": {},
   "outputs": [
    {
     "data": {
      "text/plain": [
       "[1, 2, 3, 4, 5]"
      ]
     },
     "execution_count": 99,
     "metadata": {},
     "output_type": "execute_result"
    }
   ],
   "source": [
    "lst3"
   ]
  },
  {
   "cell_type": "code",
   "execution_count": 105,
   "id": "658fe7e9",
   "metadata": {},
   "outputs": [],
   "source": [
    "lst4=lst3.copy()"
   ]
  },
  {
   "cell_type": "code",
   "execution_count": 107,
   "id": "1230afd0",
   "metadata": {},
   "outputs": [],
   "source": [
    "lst4.append(6)"
   ]
  },
  {
   "cell_type": "code",
   "execution_count": 108,
   "id": "1ec78def",
   "metadata": {},
   "outputs": [
    {
     "data": {
      "text/plain": [
       "[1, 2, 3, 4, 5, 6]"
      ]
     },
     "execution_count": 108,
     "metadata": {},
     "output_type": "execute_result"
    }
   ],
   "source": [
    "lst4"
   ]
  },
  {
   "cell_type": "code",
   "execution_count": 109,
   "id": "82e29103",
   "metadata": {},
   "outputs": [
    {
     "data": {
      "text/plain": [
       "[1, 2, 3, 4, 5]"
      ]
     },
     "execution_count": 109,
     "metadata": {},
     "output_type": "execute_result"
    }
   ],
   "source": [
    "lst3"
   ]
  },
  {
   "cell_type": "markdown",
   "id": "be6b7ab3",
   "metadata": {},
   "source": [
    "# Comparison operation"
   ]
  },
  {
   "cell_type": "markdown",
   "id": "f46e81b4",
   "metadata": {},
   "source": [
    "# ==,>=,<=,!=,>,<,"
   ]
  },
  {
   "cell_type": "code",
   "execution_count": 110,
   "id": "e981f7cd",
   "metadata": {},
   "outputs": [
    {
     "data": {
      "text/plain": [
       "False"
      ]
     },
     "execution_count": 110,
     "metadata": {},
     "output_type": "execute_result"
    }
   ],
   "source": [
    "1 == 2"
   ]
  },
  {
   "cell_type": "code",
   "execution_count": 111,
   "id": "376acee5",
   "metadata": {},
   "outputs": [
    {
     "data": {
      "text/plain": [
       "False"
      ]
     },
     "execution_count": 111,
     "metadata": {},
     "output_type": "execute_result"
    }
   ],
   "source": [
    "1 >= 3"
   ]
  },
  {
   "cell_type": "code",
   "execution_count": 112,
   "id": "d6afb431",
   "metadata": {},
   "outputs": [
    {
     "data": {
      "text/plain": [
       "True"
      ]
     },
     "execution_count": 112,
     "metadata": {},
     "output_type": "execute_result"
    }
   ],
   "source": [
    "1<=3"
   ]
  },
  {
   "cell_type": "code",
   "execution_count": 115,
   "id": "82a96cfc",
   "metadata": {},
   "outputs": [
    {
     "data": {
      "text/plain": [
       "True"
      ]
     },
     "execution_count": 115,
     "metadata": {},
     "output_type": "execute_result"
    }
   ],
   "source": [
    "1 !=3"
   ]
  },
  {
   "cell_type": "code",
   "execution_count": 116,
   "id": "3618c412",
   "metadata": {},
   "outputs": [
    {
     "data": {
      "text/plain": [
       "False"
      ]
     },
     "execution_count": 116,
     "metadata": {},
     "output_type": "execute_result"
    }
   ],
   "source": [
    "1>4"
   ]
  },
  {
   "cell_type": "code",
   "execution_count": 117,
   "id": "86d3b75f",
   "metadata": {},
   "outputs": [
    {
     "data": {
      "text/plain": [
       "True"
      ]
     },
     "execution_count": 117,
     "metadata": {},
     "output_type": "execute_result"
    }
   ],
   "source": [
    "1<3"
   ]
  },
  {
   "cell_type": "markdown",
   "id": "ed90be4f",
   "metadata": {},
   "source": [
    "# Airthmatic operator"
   ]
  },
  {
   "cell_type": "markdown",
   "id": "8a91fedd",
   "metadata": {},
   "source": [
    "## +,-,/,*,%"
   ]
  },
  {
   "cell_type": "code",
   "execution_count": 126,
   "id": "ed6b7d3a",
   "metadata": {},
   "outputs": [],
   "source": [
    "a,b=8,5"
   ]
  },
  {
   "cell_type": "code",
   "execution_count": 123,
   "id": "898d176f",
   "metadata": {},
   "outputs": [
    {
     "data": {
      "text/plain": [
       "9"
      ]
     },
     "execution_count": 123,
     "metadata": {},
     "output_type": "execute_result"
    }
   ],
   "source": [
    "a+b"
   ]
  },
  {
   "cell_type": "code",
   "execution_count": 124,
   "id": "46226193",
   "metadata": {},
   "outputs": [
    {
     "data": {
      "text/plain": [
       "-1"
      ]
     },
     "execution_count": 124,
     "metadata": {},
     "output_type": "execute_result"
    }
   ],
   "source": [
    "a-b"
   ]
  },
  {
   "cell_type": "code",
   "execution_count": 125,
   "id": "afc45f33",
   "metadata": {},
   "outputs": [
    {
     "data": {
      "text/plain": [
       "0.8"
      ]
     },
     "execution_count": 125,
     "metadata": {},
     "output_type": "execute_result"
    }
   ],
   "source": [
    "a/b\n"
   ]
  },
  {
   "cell_type": "code",
   "execution_count": 127,
   "id": "93bd6032",
   "metadata": {},
   "outputs": [
    {
     "data": {
      "text/plain": [
       "1.6"
      ]
     },
     "execution_count": 127,
     "metadata": {},
     "output_type": "execute_result"
    }
   ],
   "source": [
    "a/b"
   ]
  },
  {
   "cell_type": "code",
   "execution_count": 128,
   "id": "de4ee139",
   "metadata": {},
   "outputs": [
    {
     "data": {
      "text/plain": [
       "3"
      ]
     },
     "execution_count": 128,
     "metadata": {},
     "output_type": "execute_result"
    }
   ],
   "source": [
    "a%b"
   ]
  },
  {
   "cell_type": "markdown",
   "id": "5262fdeb",
   "metadata": {},
   "source": [
    "# Bitwise operator"
   ]
  },
  {
   "cell_type": "code",
   "execution_count": 133,
   "id": "8078d929",
   "metadata": {},
   "outputs": [],
   "source": [
    "a=5\n",
    "b=4"
   ]
  },
  {
   "cell_type": "code",
   "execution_count": 131,
   "id": "9323cd31",
   "metadata": {},
   "outputs": [
    {
     "data": {
      "text/plain": [
       "-6"
      ]
     },
     "execution_count": 131,
     "metadata": {},
     "output_type": "execute_result"
    }
   ],
   "source": [
    "~a "
   ]
  },
  {
   "cell_type": "code",
   "execution_count": 134,
   "id": "977cd5f0",
   "metadata": {},
   "outputs": [
    {
     "data": {
      "text/plain": [
       "4"
      ]
     },
     "execution_count": 134,
     "metadata": {},
     "output_type": "execute_result"
    }
   ],
   "source": [
    "a & b"
   ]
  },
  {
   "cell_type": "code",
   "execution_count": 135,
   "id": "376eb725",
   "metadata": {},
   "outputs": [
    {
     "data": {
      "text/plain": [
       "5"
      ]
     },
     "execution_count": 135,
     "metadata": {},
     "output_type": "execute_result"
    }
   ],
   "source": [
    "a|b"
   ]
  },
  {
   "cell_type": "code",
   "execution_count": 136,
   "id": "e04d6c4e",
   "metadata": {},
   "outputs": [
    {
     "data": {
      "text/plain": [
       "1"
      ]
     },
     "execution_count": 136,
     "metadata": {},
     "output_type": "execute_result"
    }
   ],
   "source": [
    "a ^ b"
   ]
  },
  {
   "cell_type": "code",
   "execution_count": 137,
   "id": "56606fe4",
   "metadata": {},
   "outputs": [
    {
     "data": {
      "text/plain": [
       "2"
      ]
     },
     "execution_count": 137,
     "metadata": {},
     "output_type": "execute_result"
    }
   ],
   "source": [
    "a >>1"
   ]
  },
  {
   "cell_type": "code",
   "execution_count": 138,
   "id": "7fc43ac9",
   "metadata": {},
   "outputs": [
    {
     "data": {
      "text/plain": [
       "10"
      ]
     },
     "execution_count": 138,
     "metadata": {},
     "output_type": "execute_result"
    }
   ],
   "source": [
    "a <<1"
   ]
  },
  {
   "cell_type": "markdown",
   "id": "ce7fdf2e",
   "metadata": {},
   "source": [
    "# STRING OPERATION"
   ]
  },
  {
   "cell_type": "code",
   "execution_count": 140,
   "id": "85da279a",
   "metadata": {},
   "outputs": [],
   "source": [
    "str1='DATA SCIENCE'"
   ]
  },
  {
   "cell_type": "code",
   "execution_count": 141,
   "id": "b8830a02",
   "metadata": {},
   "outputs": [
    {
     "data": {
      "text/plain": [
       "'data science'"
      ]
     },
     "execution_count": 141,
     "metadata": {},
     "output_type": "execute_result"
    }
   ],
   "source": [
    "str1.lower()"
   ]
  },
  {
   "cell_type": "code",
   "execution_count": 142,
   "id": "5f42c559",
   "metadata": {},
   "outputs": [
    {
     "data": {
      "text/plain": [
       "'DATA SCIENCE'"
      ]
     },
     "execution_count": 142,
     "metadata": {},
     "output_type": "execute_result"
    }
   ],
   "source": [
    "str1"
   ]
  },
  {
   "cell_type": "code",
   "execution_count": 144,
   "id": "14628809",
   "metadata": {},
   "outputs": [
    {
     "data": {
      "text/plain": [
       "'DaTa SCIENCE'"
      ]
     },
     "execution_count": 144,
     "metadata": {},
     "output_type": "execute_result"
    }
   ],
   "source": [
    "str1.replace(\"A\",'a')"
   ]
  },
  {
   "cell_type": "code",
   "execution_count": 145,
   "id": "9fcfecab",
   "metadata": {},
   "outputs": [],
   "source": [
    "str2=\"vasanth kumar\""
   ]
  },
  {
   "cell_type": "code",
   "execution_count": 146,
   "id": "bac0f0a7",
   "metadata": {},
   "outputs": [],
   "source": [
    "str2=str2.upper()"
   ]
  },
  {
   "cell_type": "code",
   "execution_count": 147,
   "id": "11e01844",
   "metadata": {},
   "outputs": [
    {
     "data": {
      "text/plain": [
       "'VASANTH KUMAR'"
      ]
     },
     "execution_count": 147,
     "metadata": {},
     "output_type": "execute_result"
    }
   ],
   "source": [
    "str2"
   ]
  },
  {
   "cell_type": "code",
   "execution_count": 150,
   "id": "9c685031",
   "metadata": {},
   "outputs": [
    {
     "data": {
      "text/plain": [
       "'Vasanth kumar'"
      ]
     },
     "execution_count": 150,
     "metadata": {},
     "output_type": "execute_result"
    }
   ],
   "source": [
    "str2.capitalize()"
   ]
  },
  {
   "cell_type": "code",
   "execution_count": 160,
   "id": "b8666516",
   "metadata": {},
   "outputs": [
    {
     "data": {
      "text/plain": [
       "'dVASANTH KUMARc'"
      ]
     },
     "execution_count": 160,
     "metadata": {},
     "output_type": "execute_result"
    }
   ],
   "source": [
    "str2.join('dc')"
   ]
  },
  {
   "cell_type": "code",
   "execution_count": 162,
   "id": "dcb2feee",
   "metadata": {},
   "outputs": [
    {
     "data": {
      "text/plain": [
       "'VASANTH KUMA'"
      ]
     },
     "execution_count": 162,
     "metadata": {},
     "output_type": "execute_result"
    }
   ],
   "source": [
    "str2[:-1]"
   ]
  },
  {
   "cell_type": "code",
   "execution_count": 163,
   "id": "5bc5d3d8",
   "metadata": {},
   "outputs": [
    {
     "data": {
      "text/plain": [
       "13"
      ]
     },
     "execution_count": 163,
     "metadata": {},
     "output_type": "execute_result"
    }
   ],
   "source": [
    "len(str2)"
   ]
  },
  {
   "cell_type": "code",
   "execution_count": 164,
   "id": "7512a845",
   "metadata": {},
   "outputs": [
    {
     "name": "stdout",
     "output_type": "stream",
     "text": [
      "V\n",
      "A\n",
      "S\n",
      "A\n",
      "N\n",
      "T\n",
      "H\n",
      " \n",
      "K\n",
      "U\n",
      "M\n",
      "A\n",
      "R\n"
     ]
    }
   ],
   "source": [
    "for i in str2:\n",
    "    print(i)"
   ]
  },
  {
   "cell_type": "code",
   "execution_count": 166,
   "id": "d0fe1603",
   "metadata": {},
   "outputs": [
    {
     "name": "stdout",
     "output_type": "stream",
     "text": [
      "0 V\n",
      "1 A\n",
      "2 S\n",
      "3 A\n",
      "4 N\n",
      "5 T\n",
      "6 H\n",
      "7  \n",
      "8 K\n",
      "9 U\n",
      "10 M\n",
      "11 A\n",
      "12 R\n"
     ]
    }
   ],
   "source": [
    "for i in range(len(str2)):\n",
    "    print(i,str2[i])"
   ]
  },
  {
   "cell_type": "code",
   "execution_count": 172,
   "id": "4216db9e",
   "metadata": {},
   "outputs": [
    {
     "data": {
      "text/plain": [
       "'NASAV'"
      ]
     },
     "execution_count": 172,
     "metadata": {},
     "output_type": "execute_result"
    }
   ],
   "source": [
    "str2[4::-1]"
   ]
  },
  {
   "cell_type": "code",
   "execution_count": 173,
   "id": "b2fe242a",
   "metadata": {},
   "outputs": [
    {
     "data": {
      "text/plain": [
       "'VASANTH KUMAR'"
      ]
     },
     "execution_count": 173,
     "metadata": {},
     "output_type": "execute_result"
    }
   ],
   "source": [
    "str2.format()"
   ]
  },
  {
   "cell_type": "code",
   "execution_count": 178,
   "id": "4ddaeeac",
   "metadata": {},
   "outputs": [
    {
     "data": {
      "text/plain": [
       "('V', 'A', 'SANTH KUMAR')"
      ]
     },
     "execution_count": 178,
     "metadata": {},
     "output_type": "execute_result"
    }
   ],
   "source": [
    "str2.partition('A')"
   ]
  },
  {
   "cell_type": "code",
   "execution_count": 181,
   "id": "6071794e",
   "metadata": {},
   "outputs": [
    {
     "data": {
      "text/plain": [
       "0"
      ]
     },
     "execution_count": 181,
     "metadata": {},
     "output_type": "execute_result"
    }
   ],
   "source": [
    "str2.count('z')"
   ]
  },
  {
   "cell_type": "code",
   "execution_count": 182,
   "id": "0f5dda51",
   "metadata": {},
   "outputs": [
    {
     "data": {
      "text/plain": [
       "['V', 'S', 'NTH KUM', 'R']"
      ]
     },
     "execution_count": 182,
     "metadata": {},
     "output_type": "execute_result"
    }
   ],
   "source": [
    "str2.split('A')"
   ]
  },
  {
   "cell_type": "code",
   "execution_count": null,
   "id": "55e21ca3",
   "metadata": {},
   "outputs": [],
   "source": []
  }
 ],
 "metadata": {
  "kernelspec": {
   "display_name": "Python 3 (ipykernel)",
   "language": "python",
   "name": "python3"
  },
  "language_info": {
   "codemirror_mode": {
    "name": "ipython",
    "version": 3
   },
   "file_extension": ".py",
   "mimetype": "text/x-python",
   "name": "python",
   "nbconvert_exporter": "python",
   "pygments_lexer": "ipython3",
   "version": "3.9.13"
  }
 },
 "nbformat": 4,
 "nbformat_minor": 5
}
