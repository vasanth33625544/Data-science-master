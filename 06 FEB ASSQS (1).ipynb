{
 "cells": [
  {
   "cell_type": "markdown",
   "id": "835a468a-2ca5-4b39-9376-f6f4ada14804",
   "metadata": {},
   "source": [
    "## Q1. Create a function which will take a list as an argument and return the product of all the numbers after creating a flat list.\n",
    "## Use the below-given list as an argument for your function.\n",
    "## list1 = [1,2,3,4, [44,55,66, True], False, (34,56,78,89,34), {1,2,3,3,2,1}, {1:34, \"key2\": [55, 67, 78, 89], 4: (45,22, 61, 34)}, [56, 'data science'], 'Machine Learning']\n",
    "### Note: you must extract numeric keys and values of the dictionary also."
   ]
  },
  {
   "cell_type": "code",
   "execution_count": 2,
   "id": "3141f1b5-eb91-4a3e-90df-be22d492257d",
   "metadata": {},
   "outputs": [],
   "source": [
    "list1 = [1,2,3,4, [44,55,66, True], False, (34,56,78,89,34), {1,2,3,3,2,1}, {1:34, \"key2\": [55, 67, 78, 89], 4: (45,22, 61, 34)}, [56, 'data science'], 'Machine Learning']\n"
   ]
  },
  {
   "cell_type": "code",
   "execution_count": 74,
   "id": "113c8f35-6125-4ab4-bfed-3699c01f7c16",
   "metadata": {},
   "outputs": [
    {
     "name": "stdout",
     "output_type": "stream",
     "text": [
      "Flat list= [1, 2, 3, 4, 44, 55, 66, 34, 56, 78, 89, 34, 1, 2, 3, 1, 4, 34, 55, 67, 78, 89, 45, 22, 61, 34, 56]\n",
      "product of list= 4134711838987085478833841242112000\n"
     ]
    }
   ],
   "source": [
    "from functools import reduce\n",
    "\n",
    "def int_num(num):\n",
    "        l.append(num)\n",
    "\n",
    "def list_tup_set_num(num):\n",
    "        for k in num:\n",
    "            if type(k)==int:\n",
    "                l.append(k)\n",
    "                \n",
    "def dict_nums(num):\n",
    "    for k in (i.keys()):\n",
    "        if type(k)==int:\n",
    "            int_num(k)\n",
    "    for k in (i.values()):\n",
    "            if type(k)==int:\n",
    "                 int_num(k)\n",
    "            elif type(k)==list:\n",
    "                 list_tup_set_num(k)\n",
    "            elif type(k)==tuple:\n",
    "                list_tup_set_num(k)\n",
    "\n",
    "l=[]\n",
    "for i in list1:\n",
    "   # print(type(i),i)\n",
    "    if type(i)==int:\n",
    "        int_num(i)\n",
    "    elif type(i)==list:\n",
    "        list_tup_set_num(i)\n",
    "    elif type(i)==tuple:\n",
    "        list_tup_set_num(i)\n",
    "    elif type(i)==set:\n",
    "        list_tup_set_num(i)\n",
    "    elif type(i)==dict:\n",
    "        dict_nums(i)\n",
    "print(\"Flat list=\",l)  \n",
    "\n",
    "product=reduce(lambda x,y:x*y,l)\n",
    "print('product of list=',product)\n",
    "                    "
   ]
  },
  {
   "cell_type": "markdown",
   "id": "b7c02aad-b8d9-49ed-8204-3bdd3f651f48",
   "metadata": {},
   "source": [
    "## Q2. Write a python program for encrypting a message sent to you by your friend. The logic of encryption should be such that, for a the output should be z. For b, the output should be y. For c, the output should be x respectively. Also, the whitespace should be replaced with a dollar sign. Keep the punctuation marks unchanged.\n",
    "## Input Sentence: I want to become a Data Scientist.\n",
    "### Encrypt the above input sentence using the program you just created.\n",
    "### Note: Convert the given input sentence into lowercase before encrypting.\n",
    "### The final output should be lowercase."
   ]
  },
  {
   "cell_type": "code",
   "execution_count": 82,
   "id": "714475ff-f8fd-4ee7-904b-569d8e0d83a8",
   "metadata": {},
   "outputs": [],
   "source": [
    "encry=[['a','z'],['b','y'],['c','x'],[' ','$']]#,b=y,c=x ' '='$'"
   ]
  },
  {
   "cell_type": "code",
   "execution_count": 85,
   "id": "f47f342a-c781-4b82-b5b5-177423cc4247",
   "metadata": {},
   "outputs": [
    {
     "name": "stdout",
     "output_type": "stream",
     "text": [
      "i$wznt$to$yexome$z$dztz$sxientist.\n"
     ]
    }
   ],
   "source": [
    "Input_Sentence= \"I want to become a Data Scientist.\"\n",
    "Input_Sentence=Input_Sentence.lower()\n",
    "for i in encry:\n",
    "    Input_Sentence=Input_Sentence.replace(i[0],i[1])\n",
    "print(Input_Sentence)"
   ]
  },
  {
   "cell_type": "code",
   "execution_count": null,
   "id": "3779089d-e07c-4bc3-832b-e32cc74b9b4a",
   "metadata": {},
   "outputs": [],
   "source": []
  }
 ],
 "metadata": {
  "kernelspec": {
   "display_name": "Python 3 (ipykernel)",
   "language": "python",
   "name": "python3"
  },
  "language_info": {
   "codemirror_mode": {
    "name": "ipython",
    "version": 3
   },
   "file_extension": ".py",
   "mimetype": "text/x-python",
   "name": "python",
   "nbconvert_exporter": "python",
   "pygments_lexer": "ipython3",
   "version": "3.10.8"
  }
 },
 "nbformat": 4,
 "nbformat_minor": 5
}
