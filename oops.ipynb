{
 "cells": [
  {
   "cell_type": "markdown",
   "id": "1247f8d6-6dbb-4d46-ab44-57b49b5a111c",
   "metadata": {},
   "source": [
    "## POLIMORPHISAM"
   ]
  },
  {
   "cell_type": "code",
   "execution_count": 1,
   "id": "74ab34d3-c80e-4ef0-95d7-60627bacf95c",
   "metadata": {},
   "outputs": [],
   "source": [
    "def test(a,b):\n",
    "    return a+b\n"
   ]
  },
  {
   "cell_type": "code",
   "execution_count": 2,
   "id": "499c5ff4-b6d7-4877-b487-f9472cce1cf0",
   "metadata": {},
   "outputs": [
    {
     "data": {
      "text/plain": [
       "9"
      ]
     },
     "execution_count": 2,
     "metadata": {},
     "output_type": "execute_result"
    }
   ],
   "source": [
    "test(4,5)"
   ]
  },
  {
   "cell_type": "code",
   "execution_count": 3,
   "id": "c95132b0-9543-4058-b312-7db09492d66b",
   "metadata": {},
   "outputs": [
    {
     "data": {
      "text/plain": [
       "'sudhirkumar'"
      ]
     },
     "execution_count": 3,
     "metadata": {},
     "output_type": "execute_result"
    }
   ],
   "source": [
    "test('sudhir','kumar')"
   ]
  },
  {
   "cell_type": "code",
   "execution_count": 4,
   "id": "6b1ea46d-45f6-4e66-884a-6965622ca1ff",
   "metadata": {},
   "outputs": [
    {
     "data": {
      "text/plain": [
       "[1, 2, 3, 4, 5, 6, 7, 8]"
      ]
     },
     "execution_count": 4,
     "metadata": {},
     "output_type": "execute_result"
    }
   ],
   "source": [
    "test([1,2,3,4],[5,6,7,8])"
   ]
  },
  {
   "cell_type": "code",
   "execution_count": 18,
   "id": "87f7c79c-ff81-4a3e-842d-3c8b999ae1ca",
   "metadata": {},
   "outputs": [
    {
     "name": "stdout",
     "output_type": "stream",
     "text": [
      "welcome to data science master course\n",
      "welcome to data science master course\n",
      "welcome to web developer course\n"
     ]
    }
   ],
   "source": [
    "class data_science:\n",
    "    def syllabus(self):\n",
    "        print(\"welcome to data science master course\")\n",
    "\n",
    "class web_dev:\n",
    "    def syllabus(self):\n",
    "        print(\"welcome to web developer course\")\n",
    "        \n",
    "\n",
    "def test2(cls_obj):\n",
    "    for i in cls_obj:\n",
    "        i.syllabus()\n",
    "\n",
    "cls_obj1=data_science()\n",
    "\n",
    "cls_obj2=web_dev()\n",
    "\n",
    "cls_obj=[cls_obj1,cls_obj2]\n",
    "\n",
    "test2(cls_obj)"
   ]
  },
  {
   "cell_type": "markdown",
   "id": "30123e03-aa6f-4dc9-85a3-136f810cce24",
   "metadata": {},
   "source": [
    "### Encapsulation"
   ]
  },
  {
   "cell_type": "code",
   "execution_count": 20,
   "id": "56026639-a654-4a7b-bf42-d6c61af462b9",
   "metadata": {},
   "outputs": [],
   "source": [
    "class test2:\n",
    "    def __init__(self,a,b):\n",
    "        self.a=a\n",
    "        self.b=b"
   ]
  },
  {
   "cell_type": "code",
   "execution_count": 22,
   "id": "714ac6d6-85ec-4e30-87e1-1822c4f4f13f",
   "metadata": {},
   "outputs": [],
   "source": [
    "aa=test2(34,445)"
   ]
  },
  {
   "cell_type": "code",
   "execution_count": 23,
   "id": "c9473c5f-9ec7-4b6a-9568-84885ced8de5",
   "metadata": {},
   "outputs": [
    {
     "data": {
      "text/plain": [
       "34"
      ]
     },
     "execution_count": 23,
     "metadata": {},
     "output_type": "execute_result"
    }
   ],
   "source": [
    "aa.a"
   ]
  },
  {
   "cell_type": "code",
   "execution_count": 24,
   "id": "a5ee5921-d065-409a-8c0c-692bb8654c63",
   "metadata": {},
   "outputs": [
    {
     "data": {
      "text/plain": [
       "445"
      ]
     },
     "execution_count": 24,
     "metadata": {},
     "output_type": "execute_result"
    }
   ],
   "source": [
    "aa.b"
   ]
  },
  {
   "cell_type": "code",
   "execution_count": 25,
   "id": "fe32d121-7278-4a66-9de4-275195d15c22",
   "metadata": {},
   "outputs": [],
   "source": [
    "aa.b=45"
   ]
  },
  {
   "cell_type": "code",
   "execution_count": 26,
   "id": "10813a75-0e9c-4fe9-b8d4-6f6fdafebb37",
   "metadata": {},
   "outputs": [],
   "source": [
    "aa.b=545445"
   ]
  },
  {
   "cell_type": "code",
   "execution_count": 56,
   "id": "b05f3467-8d0d-4909-9392-2ea31cc344ea",
   "metadata": {},
   "outputs": [],
   "source": [
    "class car:\n",
    "    def __init__(self,year,make,model,speed):\n",
    "        self.__year=year\n",
    "        self.__make=make\n",
    "        self.__model=model\n",
    "        self.__speed=speed\n",
    "        \n",
    "    def set_speed(self,speed):\n",
    "        self.__speed=0 if speed<0 else speed\n",
    "        \n",
    "    def get_speed(self):\n",
    "        return self.__speed"
   ]
  },
  {
   "cell_type": "code",
   "execution_count": 57,
   "id": "50a41360-b0b3-48c5-aa8c-a526fb686055",
   "metadata": {},
   "outputs": [],
   "source": [
    "obj_car=car(2008,'HONDA','brios',220)"
   ]
  },
  {
   "cell_type": "code",
   "execution_count": 38,
   "id": "7e3c731b-130b-4c91-aaa4-f2e2be80bde9",
   "metadata": {},
   "outputs": [
    {
     "data": {
      "text/plain": [
       "'brios'"
      ]
     },
     "execution_count": 38,
     "metadata": {},
     "output_type": "execute_result"
    }
   ],
   "source": [
    "obj_car.model\n"
   ]
  },
  {
   "cell_type": "code",
   "execution_count": 43,
   "id": "c0322b68-2bcc-4777-b4f5-a3372ca16c91",
   "metadata": {},
   "outputs": [],
   "source": [
    "obj_car._car__make='HYNDAI'"
   ]
  },
  {
   "cell_type": "code",
   "execution_count": 45,
   "id": "e29940c7-4168-4386-84ae-4218584cdb3d",
   "metadata": {},
   "outputs": [
    {
     "data": {
      "text/plain": [
       "'HYNDAI'"
      ]
     },
     "execution_count": 45,
     "metadata": {},
     "output_type": "execute_result"
    }
   ],
   "source": [
    "obj_car._car__make"
   ]
  },
  {
   "cell_type": "code",
   "execution_count": 46,
   "id": "96b0eda9-aac7-4e31-a4b2-3d267ef36620",
   "metadata": {},
   "outputs": [],
   "source": [
    "obj_car._car__year=2021"
   ]
  },
  {
   "cell_type": "code",
   "execution_count": 47,
   "id": "75483e23-f7dd-4ce0-ae71-7d3f29d930e1",
   "metadata": {},
   "outputs": [
    {
     "data": {
      "text/plain": [
       "2021"
      ]
     },
     "execution_count": 47,
     "metadata": {},
     "output_type": "execute_result"
    }
   ],
   "source": [
    "obj_car._car__year"
   ]
  },
  {
   "cell_type": "code",
   "execution_count": 50,
   "id": "fe1d5667-82db-4000-8b9f-197bde68b593",
   "metadata": {},
   "outputs": [],
   "source": [
    "obj_car.set_speed(2000)"
   ]
  },
  {
   "cell_type": "code",
   "execution_count": 51,
   "id": "1ef4fa4d-5538-4be3-a08e-c5b8f5ecb394",
   "metadata": {},
   "outputs": [],
   "source": [
    "obj_car.set_speed(-1000)"
   ]
  },
  {
   "cell_type": "code",
   "execution_count": 53,
   "id": "d63ab38d-5b6d-40b7-b872-94f60688b226",
   "metadata": {},
   "outputs": [
    {
     "data": {
      "text/plain": [
       "0"
      ]
     },
     "execution_count": 53,
     "metadata": {},
     "output_type": "execute_result"
    }
   ],
   "source": [
    "obj_car._car__speed"
   ]
  },
  {
   "cell_type": "code",
   "execution_count": 59,
   "id": "15fefc2a-2ea9-4ccf-89c3-544f262bc98e",
   "metadata": {},
   "outputs": [],
   "source": [
    "obj_car.set_speed(2000)"
   ]
  },
  {
   "cell_type": "code",
   "execution_count": 55,
   "id": "bfe951f8-19ef-42f9-bf1e-4a9914ead8e3",
   "metadata": {},
   "outputs": [
    {
     "data": {
      "text/plain": [
       "2000"
      ]
     },
     "execution_count": 55,
     "metadata": {},
     "output_type": "execute_result"
    }
   ],
   "source": [
    "obj_car._car__speed"
   ]
  },
  {
   "cell_type": "code",
   "execution_count": 60,
   "id": "44464b67-059b-460f-b9dd-aa640ff853b7",
   "metadata": {},
   "outputs": [
    {
     "data": {
      "text/plain": [
       "2000"
      ]
     },
     "execution_count": 60,
     "metadata": {},
     "output_type": "execute_result"
    }
   ],
   "source": [
    "obj_car.get_speed()"
   ]
  },
  {
   "cell_type": "code",
   "execution_count": 87,
   "id": "08b011a0-eda6-4e50-89d3-9adda3266db6",
   "metadata": {},
   "outputs": [],
   "source": [
    "class bank_account:\n",
    "    \n",
    "    def __init__(self,balance):\n",
    "        self.__balance=balance\n",
    "    \n",
    "    def __deposit(self,amount):\n",
    "        self.__balance=self.__balance+amount\n",
    "        \n",
    "    def withdraw(self,amount):\n",
    "        if self.__balance >= amount:\n",
    "            self.__balance=self.__balance-amount\n",
    "            print(True)\n",
    "        else:\n",
    "            print(False)\n",
    "            \n",
    "    def get_balnce(self):\n",
    "        return self.__balance\n",
    "    "
   ]
  },
  {
   "cell_type": "code",
   "execution_count": 88,
   "id": "3db50257-18f6-4726-98d9-d2d747e9aa39",
   "metadata": {},
   "outputs": [],
   "source": [
    "obj_bank_account=bank_account(1000)"
   ]
  },
  {
   "cell_type": "code",
   "execution_count": 82,
   "id": "0d97cdf5-c907-486e-88fd-37c7d59f704c",
   "metadata": {},
   "outputs": [
    {
     "data": {
      "text/plain": [
       "1000"
      ]
     },
     "execution_count": 82,
     "metadata": {},
     "output_type": "execute_result"
    }
   ],
   "source": [
    "obj_bank_account._bank_account__balance"
   ]
  },
  {
   "cell_type": "code",
   "execution_count": 83,
   "id": "cc7157fd-e024-466c-8bbe-fcb4da3b7421",
   "metadata": {},
   "outputs": [
    {
     "ename": "AttributeError",
     "evalue": "'bank_account' object has no attribute 'deposit'",
     "output_type": "error",
     "traceback": [
      "\u001b[0;31m---------------------------------------------------------------------------\u001b[0m",
      "\u001b[0;31mAttributeError\u001b[0m                            Traceback (most recent call last)",
      "Cell \u001b[0;32mIn[83], line 1\u001b[0m\n\u001b[0;32m----> 1\u001b[0m \u001b[43mobj_bank_account\u001b[49m\u001b[38;5;241;43m.\u001b[39;49m\u001b[43mdeposit\u001b[49m(\u001b[38;5;241m2000\u001b[39m)\n",
      "\u001b[0;31mAttributeError\u001b[0m: 'bank_account' object has no attribute 'deposit'"
     ]
    }
   ],
   "source": [
    "obj_bank_account.deposit(2000)"
   ]
  },
  {
   "cell_type": "code",
   "execution_count": 73,
   "id": "7f720ce5-7e9b-4f89-acbf-1bfb28e51b8f",
   "metadata": {},
   "outputs": [
    {
     "data": {
      "text/plain": [
       "3000"
      ]
     },
     "execution_count": 73,
     "metadata": {},
     "output_type": "execute_result"
    }
   ],
   "source": [
    "obj_bank_account.get_balnce()"
   ]
  },
  {
   "cell_type": "code",
   "execution_count": 74,
   "id": "59ed1e88-8504-4b4f-9330-538d3131a3dd",
   "metadata": {},
   "outputs": [],
   "source": [
    "obj_bank_account.withdraw(3000)"
   ]
  },
  {
   "cell_type": "code",
   "execution_count": 75,
   "id": "e243ce98-e15e-4fe6-a23c-af17505e8703",
   "metadata": {},
   "outputs": [
    {
     "data": {
      "text/plain": [
       "0"
      ]
     },
     "execution_count": 75,
     "metadata": {},
     "output_type": "execute_result"
    }
   ],
   "source": [
    "obj_bank_account.get_balnce()"
   ]
  },
  {
   "cell_type": "code",
   "execution_count": 76,
   "id": "9bdb9d35-efcc-4e50-af61-f06e101279ec",
   "metadata": {},
   "outputs": [],
   "source": [
    "obj_bank_account.deposit(2000)"
   ]
  },
  {
   "cell_type": "code",
   "execution_count": 77,
   "id": "5540fb7a-b302-421f-a548-67cd75faa484",
   "metadata": {},
   "outputs": [
    {
     "data": {
      "text/plain": [
       "2000"
      ]
     },
     "execution_count": 77,
     "metadata": {},
     "output_type": "execute_result"
    }
   ],
   "source": [
    "obj_bank_account.get_balnce()\n"
   ]
  },
  {
   "cell_type": "code",
   "execution_count": 89,
   "id": "3701aa3c-29c7-470d-8197-cd1e6fd01474",
   "metadata": {},
   "outputs": [
    {
     "name": "stdout",
     "output_type": "stream",
     "text": [
      "False\n"
     ]
    }
   ],
   "source": [
    "obj_bank_account.withdraw(5000)"
   ]
  },
  {
   "cell_type": "code",
   "execution_count": 79,
   "id": "0656c9a3-8636-4a9d-bde1-283c2c0a46b6",
   "metadata": {},
   "outputs": [
    {
     "data": {
      "text/plain": [
       "2000"
      ]
     },
     "execution_count": 79,
     "metadata": {},
     "output_type": "execute_result"
    }
   ],
   "source": [
    "obj_bank_account.get_balnce()"
   ]
  },
  {
   "cell_type": "code",
   "execution_count": 84,
   "id": "542155e8-defe-49de-92b7-27f8b327f735",
   "metadata": {},
   "outputs": [],
   "source": [
    "obj_bank_account._bank_account__deposit(9999)"
   ]
  },
  {
   "cell_type": "markdown",
   "id": "460d0ad1-fb00-4034-9634-7984157f8393",
   "metadata": {},
   "source": [
    "## INHERTENCE"
   ]
  },
  {
   "cell_type": "code",
   "execution_count": 90,
   "id": "25573eb8-696a-4e12-ab21-949c34341240",
   "metadata": {},
   "outputs": [],
   "source": [
    "class parent:\n",
    "    def test_parent(self):\n",
    "        print('parent class')"
   ]
  },
  {
   "cell_type": "code",
   "execution_count": 91,
   "id": "f6ab6b65-e239-43d5-844b-f4735ffd0172",
   "metadata": {},
   "outputs": [],
   "source": [
    "class child(parent):\n",
    "    def test_child(self):\n",
    "        print('child class')"
   ]
  },
  {
   "cell_type": "code",
   "execution_count": 92,
   "id": "cac93457-5383-4d78-919d-dc3cb72da328",
   "metadata": {},
   "outputs": [],
   "source": [
    "child_obj=child()"
   ]
  },
  {
   "cell_type": "code",
   "execution_count": 94,
   "id": "06fc54f2-e97d-422e-9906-62ef308fce43",
   "metadata": {},
   "outputs": [
    {
     "name": "stdout",
     "output_type": "stream",
     "text": [
      "child class\n"
     ]
    }
   ],
   "source": [
    "child_obj.test_child()"
   ]
  },
  {
   "cell_type": "code",
   "execution_count": 95,
   "id": "4bb6d9a6-c8dc-4f7c-ab5f-e1a585893658",
   "metadata": {},
   "outputs": [
    {
     "name": "stdout",
     "output_type": "stream",
     "text": [
      "parent class\n"
     ]
    }
   ],
   "source": [
    "child_obj.test_parent()"
   ]
  },
  {
   "cell_type": "code",
   "execution_count": 97,
   "id": "ae61db98-781e-44d4-a39c-c5e8fbe124d1",
   "metadata": {},
   "outputs": [],
   "source": [
    "class baby(child):\n",
    "    def test_baby(self):\n",
    "        print('baby class')\n",
    "        "
   ]
  },
  {
   "cell_type": "code",
   "execution_count": 98,
   "id": "1053405e-d4ab-400b-8670-3e12093498c2",
   "metadata": {},
   "outputs": [],
   "source": [
    "obj_baby=baby()"
   ]
  },
  {
   "cell_type": "code",
   "execution_count": 99,
   "id": "85686c63-2adc-47d3-a3e8-b35006975c84",
   "metadata": {},
   "outputs": [
    {
     "name": "stdout",
     "output_type": "stream",
     "text": [
      "parent class\n"
     ]
    }
   ],
   "source": [
    "obj_baby.test_parent()"
   ]
  },
  {
   "cell_type": "code",
   "execution_count": 100,
   "id": "333ab5e2-88c2-4a76-9d45-82b466c94146",
   "metadata": {},
   "outputs": [],
   "source": [
    "class class1:\n",
    "    def test_class1(self):\n",
    "        print('class1 class')\n",
    "        \n",
    "\n",
    "class class2:\n",
    "    def test_class2(self):\n",
    "        print('class2 class')\n",
    "\n",
    "class class3(class1,class2):\n",
    "    def test_class3(self):\n",
    "        print('class3 class')"
   ]
  },
  {
   "cell_type": "code",
   "execution_count": 103,
   "id": "9b0dca27-9a29-40ea-b41b-879c34fcd491",
   "metadata": {},
   "outputs": [],
   "source": [
    "obj_class=class3()"
   ]
  },
  {
   "cell_type": "code",
   "execution_count": 104,
   "id": "4edb9777-d855-40f4-ac97-96289f91638e",
   "metadata": {},
   "outputs": [
    {
     "name": "stdout",
     "output_type": "stream",
     "text": [
      "class3 class\n"
     ]
    }
   ],
   "source": [
    "obj_class.test_class3()"
   ]
  },
  {
   "cell_type": "code",
   "execution_count": 105,
   "id": "f18c2c9c-e617-4704-b54e-acc20cf87c42",
   "metadata": {},
   "outputs": [
    {
     "name": "stdout",
     "output_type": "stream",
     "text": [
      "class2 class\n"
     ]
    }
   ],
   "source": [
    "obj_class.test_class2()"
   ]
  },
  {
   "cell_type": "code",
   "execution_count": 106,
   "id": "bcdd7621-3dfa-4bd2-90c9-943a95df66ad",
   "metadata": {},
   "outputs": [
    {
     "name": "stdout",
     "output_type": "stream",
     "text": [
      "class1 class\n"
     ]
    }
   ],
   "source": [
    "obj_class.test_class1()"
   ]
  },
  {
   "cell_type": "markdown",
   "id": "334911b3-ec33-444c-9e86-123c8caea557",
   "metadata": {},
   "source": [
    "## ABSTARCTION \n"
   ]
  },
  {
   "cell_type": "code",
   "execution_count": 107,
   "id": "d803ffd4-1f26-4411-a704-a2e50178b60d",
   "metadata": {},
   "outputs": [],
   "source": [
    "class pwskills:\n",
    "    def student_deatils(self):\n",
    "        pass\n",
    "    def student_asssignment(self):\n",
    "        pass\n",
    "    def student_marks(self):\n",
    "        pass"
   ]
  },
  {
   "cell_type": "markdown",
   "id": "cae7ec8f-45a3-4ac1-b09a-527ac5c58a9b",
   "metadata": {},
   "source": [
    "## DECORATORS"
   ]
  },
  {
   "cell_type": "code",
   "execution_count": 1,
   "id": "d29fa314-7b59-4661-983d-ac289eb05196",
   "metadata": {},
   "outputs": [],
   "source": [
    "def test1():\n",
    "    print(4+5)"
   ]
  },
  {
   "cell_type": "code",
   "execution_count": 3,
   "id": "7fc562ab-fa5b-46a3-99b2-4451dad1ba78",
   "metadata": {},
   "outputs": [
    {
     "name": "stdout",
     "output_type": "stream",
     "text": [
      "9\n"
     ]
    }
   ],
   "source": [
    "test1()"
   ]
  },
  {
   "cell_type": "code",
   "execution_count": 9,
   "id": "fe2e6df9-342e-475e-aa85-71397521c8af",
   "metadata": {},
   "outputs": [],
   "source": [
    "def test2():\n",
    "    print('this is the start of the function')\n",
    "    print(2**4)\n",
    "    print('this is the end of the function')"
   ]
  },
  {
   "cell_type": "code",
   "execution_count": 10,
   "id": "e2b04839-7ded-4980-a789-8f1f33404b04",
   "metadata": {},
   "outputs": [
    {
     "name": "stdout",
     "output_type": "stream",
     "text": [
      "this is the start of the function\n",
      "16\n",
      "this is the end of the function\n"
     ]
    }
   ],
   "source": [
    "test2()"
   ]
  },
  {
   "cell_type": "code",
   "execution_count": 17,
   "id": "3186ce3d-6de2-4f57-92da-ee1f9aef2047",
   "metadata": {},
   "outputs": [],
   "source": [
    "def deco(funct):\n",
    "    def test3():\n",
    "        print('this is the start of the function')\n",
    "        funct()\n",
    "        print('this is the end of the function')\n",
    "    return test3"
   ]
  },
  {
   "cell_type": "code",
   "execution_count": 18,
   "id": "ae38d3c5-488b-4fcf-8f94-d74e4f361190",
   "metadata": {},
   "outputs": [],
   "source": [
    "@deco\n",
    "def test11():\n",
    "    print(4+5)"
   ]
  },
  {
   "cell_type": "code",
   "execution_count": 19,
   "id": "052b05ec-71d6-48ec-aa4d-1d16177b1f56",
   "metadata": {},
   "outputs": [
    {
     "name": "stdout",
     "output_type": "stream",
     "text": [
      "this is the start of the function\n",
      "9\n",
      "this is the end of the function\n"
     ]
    }
   ],
   "source": [
    "test11()"
   ]
  },
  {
   "cell_type": "code",
   "execution_count": 24,
   "id": "abf0ae6c-a028-4040-8e03-0dfe979807b2",
   "metadata": {},
   "outputs": [],
   "source": [
    "import time\n",
    "def time_test(fun):\n",
    "    def test_timer():\n",
    "        start=time.time()\n",
    "        fun()\n",
    "        end=time.time()\n",
    "        print(start-end)\n",
    "    return test_timer\n",
    "\n",
    "        "
   ]
  },
  {
   "cell_type": "code",
   "execution_count": 27,
   "id": "7bb34ce4-5fb3-4a11-b9f4-53a3afdd7eb6",
   "metadata": {},
   "outputs": [],
   "source": [
    "@time_test\n",
    "def sample():\n",
    "    print(4**40)"
   ]
  },
  {
   "cell_type": "code",
   "execution_count": 28,
   "id": "5d5fd826-e734-4f34-ba70-5927b5f71fcd",
   "metadata": {},
   "outputs": [
    {
     "name": "stdout",
     "output_type": "stream",
     "text": [
      "1208925819614629174706176\n",
      "-4.172325134277344e-05\n"
     ]
    }
   ],
   "source": [
    "sample()"
   ]
  },
  {
   "cell_type": "code",
   "execution_count": 36,
   "id": "ee750800-6af5-48ef-824e-471593501b5d",
   "metadata": {},
   "outputs": [],
   "source": [
    "@time_test\n",
    "def for_deco():\n",
    "    for i in range(1000000000):\n",
    "        pass"
   ]
  },
  {
   "cell_type": "code",
   "execution_count": 37,
   "id": "4ecf0eb9-4b58-4dcf-b6b1-9cbdc9b498d5",
   "metadata": {},
   "outputs": [
    {
     "name": "stdout",
     "output_type": "stream",
     "text": [
      "-23.6319842338562\n"
     ]
    }
   ],
   "source": [
    "for_deco()"
   ]
  },
  {
   "cell_type": "markdown",
   "id": "2517f08b-23fc-4127-a560-5007d08f4d04",
   "metadata": {},
   "source": [
    "## class methods"
   ]
  },
  {
   "cell_type": "code",
   "execution_count": 25,
   "id": "5f3c49a7-d114-4cf3-934f-53dc86e16495",
   "metadata": {},
   "outputs": [],
   "source": [
    "class pwskill:\n",
    "    def __init__(self,name,ids):\n",
    "        self.name=name\n",
    "        self.ids=ids\n",
    "    \n",
    "    @classmethod\n",
    "    def details(cls,name,ids):\n",
    "        return name,ids \n",
    "    \n",
    "    def student_details(self):\n",
    "        return self.name,self.ids"
   ]
  },
  {
   "cell_type": "code",
   "execution_count": 28,
   "id": "379fac45-6055-4137-aa26-e9d64aa1f212",
   "metadata": {},
   "outputs": [],
   "source": [
    "s1=pwskill('name',888)"
   ]
  },
  {
   "cell_type": "code",
   "execution_count": 15,
   "id": "1017d1f2-f3eb-437a-93e3-347e60b67710",
   "metadata": {},
   "outputs": [
    {
     "data": {
      "text/plain": [
       "566"
      ]
     },
     "execution_count": 15,
     "metadata": {},
     "output_type": "execute_result"
    }
   ],
   "source": [
    "s1.ids"
   ]
  },
  {
   "cell_type": "code",
   "execution_count": 29,
   "id": "00260fff-77de-4d84-9be1-c55ab0fac973",
   "metadata": {},
   "outputs": [
    {
     "data": {
      "text/plain": [
       "('name', 888)"
      ]
     },
     "execution_count": 29,
     "metadata": {},
     "output_type": "execute_result"
    }
   ],
   "source": [
    "s1.student_details()"
   ]
  },
  {
   "cell_type": "code",
   "execution_count": 12,
   "id": "2576c4c6-448e-4b67-bf67-5059c5ed1f33",
   "metadata": {},
   "outputs": [
    {
     "data": {
      "text/plain": [
       "'vasanth'"
      ]
     },
     "execution_count": 12,
     "metadata": {},
     "output_type": "execute_result"
    }
   ],
   "source": [
    "s1.name        "
   ]
  },
  {
   "cell_type": "code",
   "execution_count": 19,
   "id": "7b16a3c0-071e-4f0e-ad5d-780aef71ebc1",
   "metadata": {},
   "outputs": [
    {
     "data": {
      "text/plain": [
       "('kumar', 988)"
      ]
     },
     "execution_count": 19,
     "metadata": {},
     "output_type": "execute_result"
    }
   ],
   "source": [
    "s1.details('kumar',988)"
   ]
  },
  {
   "cell_type": "code",
   "execution_count": 118,
   "id": "dcec5dbb-1ca2-478b-97d6-48b65b7928a8",
   "metadata": {},
   "outputs": [],
   "source": [
    "class pwskill2:\n",
    "    mobile_num=999977868\n",
    "    def __init__(self,name,ids):\n",
    "        self.name=name\n",
    "        self.ids=ids\n",
    "    @classmethod\n",
    "    def change_number(cls,number):\n",
    "        pwskill2.mobile_num=number\n",
    "    @classmethod\n",
    "    def details(cls,name,ids):\n",
    "        return cls(name,ids)\n",
    "    \n",
    "    def student_details(self):\n",
    "        print( self.name,self.ids,pwskill2.mobile_num)"
   ]
  },
  {
   "cell_type": "code",
   "execution_count": 64,
   "id": "600538c6-1657-4cd2-99df-81eee2bc85bd",
   "metadata": {},
   "outputs": [
    {
     "data": {
      "text/plain": [
       "999977868"
      ]
     },
     "execution_count": 64,
     "metadata": {},
     "output_type": "execute_result"
    }
   ],
   "source": [
    "pwskill2.mobile_num"
   ]
  },
  {
   "cell_type": "code",
   "execution_count": 119,
   "id": "79627509-f0e9-4005-bf3c-770e5d01302c",
   "metadata": {},
   "outputs": [],
   "source": [
    "pw22=pwskill2.details('vsanrn',8847)"
   ]
  },
  {
   "cell_type": "code",
   "execution_count": 121,
   "id": "49e8c4bb-062a-47ca-a4ab-d71b06ff781c",
   "metadata": {},
   "outputs": [
    {
     "data": {
      "text/plain": [
       "<__main__.pwskill2 at 0x7f0c48db6020>"
      ]
     },
     "execution_count": 121,
     "metadata": {},
     "output_type": "execute_result"
    }
   ],
   "source": [
    "pw22.details('vsanrn',8847)"
   ]
  },
  {
   "cell_type": "code",
   "execution_count": 66,
   "id": "5278443e-bb51-4003-bf1c-bd3549b27f26",
   "metadata": {},
   "outputs": [
    {
     "name": "stdout",
     "output_type": "stream",
     "text": [
      "vsanrn 8847 999977868\n"
     ]
    }
   ],
   "source": [
    "pw22.student_details()"
   ]
  },
  {
   "cell_type": "code",
   "execution_count": 60,
   "id": "4399d16c-e95c-4a2f-8e1b-6ca2891c609f",
   "metadata": {},
   "outputs": [],
   "source": [
    "pw22.mobile_num=5989549"
   ]
  },
  {
   "cell_type": "code",
   "execution_count": 61,
   "id": "5626a5e6-c792-4ccb-85cc-7cf8bc4c849f",
   "metadata": {},
   "outputs": [
    {
     "data": {
      "text/plain": [
       "999977868"
      ]
     },
     "execution_count": 61,
     "metadata": {},
     "output_type": "execute_result"
    }
   ],
   "source": [
    "pwskill2.mobile_num"
   ]
  },
  {
   "cell_type": "code",
   "execution_count": 62,
   "id": "2f0e0107-b01b-45af-af22-843bfe398243",
   "metadata": {},
   "outputs": [
    {
     "data": {
      "text/plain": [
       "5989549"
      ]
     },
     "execution_count": 62,
     "metadata": {},
     "output_type": "execute_result"
    }
   ],
   "source": [
    "pw22.mobile_num"
   ]
  },
  {
   "cell_type": "code",
   "execution_count": 67,
   "id": "08a7df05-ea98-4343-8d8b-58e2da12b3be",
   "metadata": {},
   "outputs": [],
   "source": [
    "pw22.change_number(87878)"
   ]
  },
  {
   "cell_type": "code",
   "execution_count": 68,
   "id": "b6e19d95-5d6a-49b0-acf7-961ab6769ecd",
   "metadata": {},
   "outputs": [
    {
     "data": {
      "text/plain": [
       "87878"
      ]
     },
     "execution_count": 68,
     "metadata": {},
     "output_type": "execute_result"
    }
   ],
   "source": [
    "pw22.mobile_num"
   ]
  },
  {
   "cell_type": "code",
   "execution_count": 73,
   "id": "c1d2779e-ff81-43c5-b2db-1411d0f4976e",
   "metadata": {},
   "outputs": [],
   "source": [
    "pw2_obj=pwskill2('vasanth',869489)"
   ]
  },
  {
   "cell_type": "code",
   "execution_count": 74,
   "id": "0caf3bd5-de8d-430d-b482-ec9adf0b362e",
   "metadata": {},
   "outputs": [
    {
     "name": "stdout",
     "output_type": "stream",
     "text": [
      "vasanth 869489 999977868\n"
     ]
    }
   ],
   "source": [
    "pw2_obj.student_details()\n"
   ]
  },
  {
   "cell_type": "code",
   "execution_count": 75,
   "id": "e1f16e26-c6e4-463c-b2ef-643b52b09af3",
   "metadata": {},
   "outputs": [],
   "source": [
    "pw22.change_number(87878565656)"
   ]
  },
  {
   "cell_type": "code",
   "execution_count": 76,
   "id": "b265e7a8-8e14-4cd3-8430-cd6c19e37af6",
   "metadata": {},
   "outputs": [
    {
     "data": {
      "text/plain": [
       "87878565656"
      ]
     },
     "execution_count": 76,
     "metadata": {},
     "output_type": "execute_result"
    }
   ],
   "source": [
    "pw2_obj.mobile_num\n"
   ]
  },
  {
   "cell_type": "code",
   "execution_count": 79,
   "id": "eb5cc502-62b6-4d82-a2bf-1ef708341b72",
   "metadata": {},
   "outputs": [],
   "source": [
    "class pwskill3:\n",
    "    mobile_num=999977868\n",
    "    def __init__(self,name,ids):\n",
    "        self.name=name\n",
    "        self.ids=ids\n",
    "    @classmethod\n",
    "    def change_number(cls,number):\n",
    "        pwskill2.mobile_num=number\n",
    "    @classmethod\n",
    "    def details(cls,name,ids):\n",
    "        return cls(name,ids)\n",
    "    \n",
    "    def student_details(self):\n",
    "        print( self.name,self.ids,pwskill2.mobile_num)"
   ]
  },
  {
   "cell_type": "code",
   "execution_count": 89,
   "id": "1fbe424b-16c3-4bb0-82cb-e721cff812e5",
   "metadata": {},
   "outputs": [],
   "source": [
    "def course_deatils(cls,course_name):\n",
    "    print('course details',course_name)"
   ]
  },
  {
   "cell_type": "code",
   "execution_count": 91,
   "id": "1b4b69f9-6347-487a-8d68-5cb948299d63",
   "metadata": {},
   "outputs": [],
   "source": [
    "pwskill3.course_details=classmethod(course_deatils)"
   ]
  },
  {
   "cell_type": "code",
   "execution_count": 94,
   "id": "a66f61b0-6e21-4688-a9e7-810fa32c2c8b",
   "metadata": {},
   "outputs": [
    {
     "name": "stdout",
     "output_type": "stream",
     "text": [
      "course details Data Science Master\n"
     ]
    }
   ],
   "source": [
    "pwskill3.course_details('data science master'.title())"
   ]
  },
  {
   "cell_type": "code",
   "execution_count": 115,
   "id": "46888f03-0bfc-43d6-a132-2d2b4ebb3dd7",
   "metadata": {},
   "outputs": [],
   "source": [
    "class pwskill4:\n",
    "    mobile_num=999977868\n",
    "    def __init__(self,name,ids):\n",
    "        self.name=name\n",
    "        self.ids=ids\n",
    "    @classmethod\n",
    "    def change_number(cls,number):\n",
    "        pwskill2.mobile_num=number\n",
    "    @classmethod\n",
    "    def details(cls,name,ids):\n",
    "        return cls(name,ids)\n",
    "    \n",
    "    def student_details(self):\n",
    "        print( self.name,self.ids,pwskill2.mobile_num)"
   ]
  },
  {
   "cell_type": "code",
   "execution_count": 100,
   "id": "fd9e4f49-03d7-41a7-860a-b4a198e02107",
   "metadata": {},
   "outputs": [],
   "source": [
    "del pwskill4.change_number"
   ]
  },
  {
   "cell_type": "code",
   "execution_count": 98,
   "id": "28b98247-8b86-4d30-b832-2e593d4aeff0",
   "metadata": {},
   "outputs": [],
   "source": [
    "delattr(pwskill4,'mobile_num')"
   ]
  },
  {
   "cell_type": "code",
   "execution_count": 101,
   "id": "9e787f81-c594-4a3b-93d8-9b2470ca6e04",
   "metadata": {},
   "outputs": [
    {
     "data": {
      "text/plain": [
       "[__main__.pwskill4, object]"
      ]
     },
     "execution_count": 101,
     "metadata": {},
     "output_type": "execute_result"
    }
   ],
   "source": [
    "pwskill4.mro()"
   ]
  },
  {
   "cell_type": "markdown",
   "id": "fa42dc57-5514-47ac-9e2e-3154d117e5e9",
   "metadata": {},
   "source": [
    "## STATIC METHOD"
   ]
  },
  {
   "cell_type": "code",
   "execution_count": 116,
   "id": "ed13b4cf-680a-45f3-89c7-52a085d0653d",
   "metadata": {},
   "outputs": [],
   "source": [
    "q=pwskill4.details('vsanth',898)"
   ]
  },
  {
   "cell_type": "code",
   "execution_count": 117,
   "id": "3e9b650c-be9c-4d39-b006-56061068e7e0",
   "metadata": {},
   "outputs": [
    {
     "data": {
      "text/plain": [
       "<__main__.pwskill4 at 0x7f0c48db5300>"
      ]
     },
     "execution_count": 117,
     "metadata": {},
     "output_type": "execute_result"
    }
   ],
   "source": [
    "q"
   ]
  },
  {
   "cell_type": "code",
   "execution_count": 153,
   "id": "97cbdc6a-e8dd-4d1c-9288-90dd60e6bfcf",
   "metadata": {},
   "outputs": [],
   "source": [
    "class pwskill5:\n",
    "    mobile_num=999977868\n",
    "    def __init__(self,name,ids):\n",
    "        self.name=name\n",
    "        self.ids=ids\n",
    "    @classmethod\n",
    "    def change_number(cls,number):\n",
    "        pwskill2.mobile_num=number\n",
    "    @classmethod\n",
    "    def details(cls,name,ids):\n",
    "        print(name,ids)\n",
    "        def __str__(self):\n",
    "            return('this is the classmethod')\n",
    "        \n",
    "    \n",
    "    @staticmethod\n",
    "    def course(course):\n",
    "        print(course)\n",
    "     \n",
    "    \n",
    "    def student_details(self):\n",
    "        print( self.name,self.ids,pwskill2.mobile_num)\n",
    "        self.details('fjdsj',8989)"
   ]
  },
  {
   "cell_type": "code",
   "execution_count": 154,
   "id": "8e760d24-4990-429a-b0a1-62adce9306fb",
   "metadata": {},
   "outputs": [],
   "source": [
    "pw5=pwskill5('hfjk',909)"
   ]
  },
  {
   "cell_type": "code",
   "execution_count": 155,
   "id": "9798528a-a762-479e-8c1e-8e40f0f063c3",
   "metadata": {},
   "outputs": [
    {
     "name": "stdout",
     "output_type": "stream",
     "text": [
      "dhd 87878\n"
     ]
    }
   ],
   "source": [
    "pwskill5.details('dhd',87878)"
   ]
  },
  {
   "cell_type": "code",
   "execution_count": 141,
   "id": "be94f5ba-c3ee-436b-9ff3-b4bc5fb3f45e",
   "metadata": {},
   "outputs": [
    {
     "name": "stdout",
     "output_type": "stream",
     "text": [
      "data science\n"
     ]
    }
   ],
   "source": [
    "pwskill5.course('data science')"
   ]
  },
  {
   "cell_type": "code",
   "execution_count": 143,
   "id": "e2a0629a-f547-494f-b53e-f1fb40d747f3",
   "metadata": {},
   "outputs": [
    {
     "name": "stdout",
     "output_type": "stream",
     "text": [
      "wb dev\n"
     ]
    }
   ],
   "source": [
    "pw5.course('wb dev')"
   ]
  },
  {
   "cell_type": "code",
   "execution_count": 152,
   "id": "36293e93-61f4-4b32-9d3f-2e20179d525b",
   "metadata": {},
   "outputs": [
    {
     "name": "stdout",
     "output_type": "stream",
     "text": [
      "vasanth 98989\n"
     ]
    },
    {
     "ename": "TypeError",
     "evalue": "pwskill5.details.<locals>.__str__() missing 1 required positional argument: 'self'",
     "output_type": "error",
     "traceback": [
      "\u001b[0;31m---------------------------------------------------------------------------\u001b[0m",
      "\u001b[0;31mTypeError\u001b[0m                                 Traceback (most recent call last)",
      "Cell \u001b[0;32mIn[152], line 1\u001b[0m\n\u001b[0;32m----> 1\u001b[0m \u001b[43mpw5\u001b[49m\u001b[38;5;241;43m.\u001b[39;49m\u001b[43mdetails\u001b[49m\u001b[43m(\u001b[49m\u001b[38;5;124;43m'\u001b[39;49m\u001b[38;5;124;43mvasanth\u001b[39;49m\u001b[38;5;124;43m'\u001b[39;49m\u001b[43m,\u001b[49m\u001b[38;5;241;43m98989\u001b[39;49m\u001b[43m)\u001b[49m\n",
      "Cell \u001b[0;32mIn[149], line 14\u001b[0m, in \u001b[0;36mpwskill5.details\u001b[0;34m(cls, name, ids)\u001b[0m\n\u001b[1;32m     12\u001b[0m \u001b[38;5;28;01mdef\u001b[39;00m \u001b[38;5;21m__str__\u001b[39m(\u001b[38;5;28mself\u001b[39m):\n\u001b[1;32m     13\u001b[0m     \u001b[38;5;28;01mreturn\u001b[39;00m(\u001b[38;5;124m'\u001b[39m\u001b[38;5;124mthis is the classmethod\u001b[39m\u001b[38;5;124m'\u001b[39m)\n\u001b[0;32m---> 14\u001b[0m \u001b[38;5;28;01mreturn\u001b[39;00m \u001b[38;5;21;43m__str__\u001b[39;49m\u001b[43m(\u001b[49m\u001b[43m)\u001b[49m\n",
      "\u001b[0;31mTypeError\u001b[0m: pwskill5.details.<locals>.__str__() missing 1 required positional argument: 'self'"
     ]
    }
   ],
   "source": [
    "pw5.details('vasanth',98989)"
   ]
  },
  {
   "cell_type": "code",
   "execution_count": 201,
   "id": "aeda0c6d-d7f3-4810-8c56-6cca76b4edca",
   "metadata": {},
   "outputs": [],
   "source": [
    "class pwskill6:\n",
    "    def __init__(self,course_name,course_duartion):\n",
    "        self.__course_name=course_name\n",
    "        self._course_duartion=course_duartion\n",
    "        \n",
    "    @property\n",
    "    def course_name1(self):\n",
    "        return self.__course_name\n",
    "    \n",
    "    @course_name1.setter\n",
    "    def course_name_change(self,name):\n",
    "        self.__course_name=name\n",
    "        \n",
    "    @course_name1.deleter\n",
    "    def course_name_del(self):\n",
    "        del self.__course_name\n",
    "        \n",
    "   "
   ]
  },
  {
   "cell_type": "code",
   "execution_count": 202,
   "id": "e5268daa-adcb-4533-9a22-17d4bb3679f1",
   "metadata": {},
   "outputs": [],
   "source": [
    "o1=pwskill6('data science',6)"
   ]
  },
  {
   "cell_type": "code",
   "execution_count": 203,
   "id": "9e225a6a-4010-42b3-9953-f88b50084764",
   "metadata": {},
   "outputs": [
    {
     "data": {
      "text/plain": [
       "'data science'"
      ]
     },
     "execution_count": 203,
     "metadata": {},
     "output_type": "execute_result"
    }
   ],
   "source": [
    "o1.course_name1"
   ]
  },
  {
   "cell_type": "code",
   "execution_count": 204,
   "id": "ce5a5e25-910c-4894-875f-05f91d098fa0",
   "metadata": {},
   "outputs": [],
   "source": [
    "o1.course_name_get"
   ]
  },
  {
   "cell_type": "code",
   "execution_count": null,
   "id": "cad2d9b1-c413-4a11-bc6e-349f6f3a964f",
   "metadata": {},
   "outputs": [],
   "source": [
    "o1.c"
   ]
  },
  {
   "cell_type": "code",
   "execution_count": 199,
   "id": "eef17b33-d48a-45b8-a39e-2e62dca2d176",
   "metadata": {},
   "outputs": [],
   "source": [
    "del o1.course_name_del"
   ]
  },
  {
   "cell_type": "code",
   "execution_count": 200,
   "id": "7cbfb89a-8e5c-4222-9ed1-d7b1a0e9466a",
   "metadata": {},
   "outputs": [
    {
     "ename": "AttributeError",
     "evalue": "'pwskill6' object has no attribute '_pwskill6__course_name'",
     "output_type": "error",
     "traceback": [
      "\u001b[0;31m---------------------------------------------------------------------------\u001b[0m",
      "\u001b[0;31mAttributeError\u001b[0m                            Traceback (most recent call last)",
      "Cell \u001b[0;32mIn[200], line 1\u001b[0m\n\u001b[0;32m----> 1\u001b[0m \u001b[43mo1\u001b[49m\u001b[38;5;241;43m.\u001b[39;49m\u001b[43mcourse_name1\u001b[49m\n",
      "Cell \u001b[0;32mIn[193], line 8\u001b[0m, in \u001b[0;36mpwskill6.course_name1\u001b[0;34m(self)\u001b[0m\n\u001b[1;32m      6\u001b[0m \u001b[38;5;129m@property\u001b[39m\n\u001b[1;32m      7\u001b[0m \u001b[38;5;28;01mdef\u001b[39;00m \u001b[38;5;21mcourse_name1\u001b[39m(\u001b[38;5;28mself\u001b[39m):\n\u001b[0;32m----> 8\u001b[0m     \u001b[38;5;28;01mreturn\u001b[39;00m \u001b[38;5;28;43mself\u001b[39;49m\u001b[38;5;241;43m.\u001b[39;49m\u001b[43m__course_name\u001b[49m\n",
      "\u001b[0;31mAttributeError\u001b[0m: 'pwskill6' object has no attribute '_pwskill6__course_name'"
     ]
    }
   ],
   "source": [
    "o1.course_name1"
   ]
  },
  {
   "cell_type": "code",
   "execution_count": 166,
   "id": "45cd52ed-3c28-46af-b6c8-dea05f5b8a54",
   "metadata": {},
   "outputs": [],
   "source": [
    "o1._pwskill6__course_name='web dev'"
   ]
  },
  {
   "cell_type": "code",
   "execution_count": 167,
   "id": "ca53b089-4a63-48cb-aee1-5349d615087c",
   "metadata": {},
   "outputs": [
    {
     "data": {
      "text/plain": [
       "'web dev'"
      ]
     },
     "execution_count": 167,
     "metadata": {},
     "output_type": "execute_result"
    }
   ],
   "source": [
    "o1._pwskill6__course_name"
   ]
  },
  {
   "cell_type": "code",
   "execution_count": 189,
   "id": "4e775a9a-edae-4072-9911-a3179c328340",
   "metadata": {},
   "outputs": [
    {
     "data": {
      "text/plain": [
       "'data science'"
      ]
     },
     "execution_count": 189,
     "metadata": {},
     "output_type": "execute_result"
    }
   ],
   "source": [
    "o1.course_name1"
   ]
  },
  {
   "cell_type": "code",
   "execution_count": 171,
   "id": "0a2dae26-9024-4d06-a6b2-c71e825d4f01",
   "metadata": {},
   "outputs": [
    {
     "data": {
      "text/plain": [
       "6"
      ]
     },
     "execution_count": 171,
     "metadata": {},
     "output_type": "execute_result"
    }
   ],
   "source": [
    "o1._course_duartion"
   ]
  },
  {
   "cell_type": "code",
   "execution_count": 190,
   "id": "93d166eb-f9e7-4fbc-b585-abf602599760",
   "metadata": {},
   "outputs": [],
   "source": [
    "o1.course_name_change='web dev'"
   ]
  },
  {
   "cell_type": "code",
   "execution_count": 191,
   "id": "6bc6d33e-9f1f-4237-8e91-c32910b7e0a3",
   "metadata": {},
   "outputs": [
    {
     "data": {
      "text/plain": [
       "'web dev'"
      ]
     },
     "execution_count": 191,
     "metadata": {},
     "output_type": "execute_result"
    }
   ],
   "source": [
    "o1.course_name1"
   ]
  },
  {
   "cell_type": "code",
   "execution_count": null,
   "id": "db7296f6-54f1-4f18-a151-df8a1cb6ca75",
   "metadata": {},
   "outputs": [],
   "source": []
  }
 ],
 "metadata": {
  "kernelspec": {
   "display_name": "Python 3 (ipykernel)",
   "language": "python",
   "name": "python3"
  },
  "language_info": {
   "codemirror_mode": {
    "name": "ipython",
    "version": 3
   },
   "file_extension": ".py",
   "mimetype": "text/x-python",
   "name": "python",
   "nbconvert_exporter": "python",
   "pygments_lexer": "ipython3",
   "version": "3.10.8"
  }
 },
 "nbformat": 4,
 "nbformat_minor": 5
}
