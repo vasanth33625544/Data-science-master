{
 "cells": [
  {
   "cell_type": "markdown",
   "id": "fb3a6bd2",
   "metadata": {},
   "source": [
    "## Q1. Which function is used to open a file? What are the different modes of opening a file? Explain each mode of file opening.\n"
   ]
  },
  {
   "cell_type": "markdown",
   "id": "1ef613c8",
   "metadata": {},
   "source": [
    "* open() method or function is used to open a file\n",
    "* 'r' Read mode. (default)\n",
    "*'w' Write mode. Creates a new file if it does not exist or truncates the file if it exists.\n",
    "*'x'Open a file for exclusive creation. If the file already exists, the operation fails.\n",
    "*'a'  Appending at the end of the file without truncating it. Creates a new file if it does not exist.\n",
    "*'t'Open in text mode. (default)\n",
    "*'b'Open in binary mode.\n",
    "*'+'  Open a file for updating (reading and writing)"
   ]
  },
  {
   "cell_type": "markdown",
   "id": "ecded1fc",
   "metadata": {},
   "source": [
    "## Q2. Why close() function is used? Why is it important to close a file?"
   ]
  },
  {
   "cell_type": "markdown",
   "id": "7312285d",
   "metadata": {},
   "source": [
    "* The close() method closes an open file. You should always close your files, in some cases, due to buffering, changes made to a file may not show until you close the file."
   ]
  },
  {
   "cell_type": "markdown",
   "id": "4d95582c",
   "metadata": {},
   "source": [
    "## Q3. Write a python program to create a text file. Write ‘I want to become a Data Scientist’ in that file. Thenclose the file. Open this file and read the content of the file."
   ]
  },
  {
   "cell_type": "code",
   "execution_count": 29,
   "id": "165d0e07",
   "metadata": {},
   "outputs": [],
   "source": [
    "with open(\"text.txt\",'w') as f:\n",
    "    f.write(\"I want to become a Data Scientist ss\")\n"
   ]
  },
  {
   "cell_type": "code",
   "execution_count": 11,
   "id": "d16ad88d",
   "metadata": {},
   "outputs": [
    {
     "data": {
      "text/plain": [
       "'I want to become a Data Scientist'"
      ]
     },
     "execution_count": 11,
     "metadata": {},
     "output_type": "execute_result"
    }
   ],
   "source": [
    "with open(\"text.txt\",'r') as f:\n",
    "    data=f.read()\n",
    "\n",
    "data"
   ]
  },
  {
   "cell_type": "markdown",
   "id": "f436ade6",
   "metadata": {},
   "source": [
    "## Q4. Explain the following with python code: read(), readline() and readlines()."
   ]
  },
  {
   "cell_type": "code",
   "execution_count": 20,
   "id": "46ec0156",
   "metadata": {},
   "outputs": [
    {
     "data": {
      "text/plain": [
       "'I want to become a Data'"
      ]
     },
     "execution_count": 20,
     "metadata": {},
     "output_type": "execute_result"
    }
   ],
   "source": [
    "# read() it is read all data in the Text file or specific charcter mentioned in fcnction\n",
    "\n",
    "with open(\"text.txt\",'r') as f:\n",
    "    data=f.read(23)\n",
    "     #data=f.read()\n",
    "\n",
    "data"
   ]
  },
  {
   "cell_type": "code",
   "execution_count": 18,
   "id": "a7201e8f",
   "metadata": {},
   "outputs": [
    {
     "data": {
      "text/plain": [
       "'I want to become a Data Scientist\\n'"
      ]
     },
     "execution_count": 18,
     "metadata": {},
     "output_type": "execute_result"
    }
   ],
   "source": [
    "#readline is Read until newline or EOF\n",
    "with open(\"text.txt\",'r') as f:\n",
    "    data=f.readline()\n",
    "\n",
    "data"
   ]
  },
  {
   "cell_type": "code",
   "execution_count": 27,
   "id": "8d015e46",
   "metadata": {},
   "outputs": [
    {
     "data": {
      "text/plain": [
       "['I want to become a Data Scientist\\n',\n",
       " 'It is needs Dedication \\n',\n",
       " 'deterministics\\n',\n",
       " 'will power also\\n']"
      ]
     },
     "execution_count": 27,
     "metadata": {},
     "output_type": "execute_result"
    }
   ],
   "source": [
    "#readlines() Return a list of lines from the stream.\n",
    "with open(\"text.txt\",'r') as f:\n",
    "    data=f.readlines()\n",
    "\n",
    "data"
   ]
  },
  {
   "cell_type": "markdown",
   "id": "767e9a77",
   "metadata": {},
   "source": [
    "## Q5. Explain why with statement is used with open(). What is the advantage of using with statement and open() together?"
   ]
  },
  {
   "cell_type": "markdown",
   "id": "2e6cd06e",
   "metadata": {},
   "source": [
    "* “The with statement simplifies exception handling by encapsulating common preparation and cleanup tasks.”\n",
    "\n",
    "* In addition, it will automatically close the file. The with statement provides a way for ensuring that a clean-up is always used."
   ]
  },
  {
   "cell_type": "markdown",
   "id": "e8c04128",
   "metadata": {},
   "source": [
    "## Q6. Explain the write() and writelines() functions. Give a suitable example.\n"
   ]
  },
  {
   "cell_type": "markdown",
   "id": "b41ace6f",
   "metadata": {},
   "source": [
    "* ### write() method is used writeThe write() method writes a specified text to the file. Where the specified text will be inserted depends on the file mode and stream position. \"a\" : The text will be inserted at the current file stream position, default at the end of the file.\n"
   ]
  },
  {
   "cell_type": "code",
   "execution_count": 34,
   "id": "e0471987",
   "metadata": {},
   "outputs": [
    {
     "name": "stdout",
     "output_type": "stream",
     "text": [
      "Enter the name of the employee: vasanth\n",
      "Enter the name of the employee: kumar\n",
      "Enter the name of the employee: hh\n",
      "Data is written into the file.\n"
     ]
    }
   ],
   "source": [
    "file = open(\"text.txt\", \"w\")\n",
    "  \n",
    "for i in range(3):\n",
    "   name = input(\"Enter the name of the employee: \")\n",
    "   file.write(name)\n",
    "   file.write(\"\\n\")\n",
    "     \n",
    "file.close()\n",
    "  \n",
    "print(\"Data is written into the file.\")"
   ]
  },
  {
   "cell_type": "markdown",
   "id": "fba2800e",
   "metadata": {},
   "source": [
    "* ### Python file method writelines() writes a sequence of strings to the file. The sequence can be any iterable object producing strings, typically a list of strings. There is no return value."
   ]
  },
  {
   "cell_type": "code",
   "execution_count": 33,
   "id": "f0793a9f",
   "metadata": {},
   "outputs": [
    {
     "name": "stdout",
     "output_type": "stream",
     "text": [
      "The content is written in the file.\n"
     ]
    }
   ],
   "source": [
    "file_handler = open(\"text.txt\", \"w\")\n",
    "file_handler.writelines([\"This is first line.\\n\", \"This is second line.\\n\"])\n",
    "file_handler.close()\n",
    "print(\"The content is written in the file.\")"
   ]
  },
  {
   "cell_type": "code",
   "execution_count": null,
   "id": "24a81ad4",
   "metadata": {},
   "outputs": [],
   "source": []
  }
 ],
 "metadata": {
  "kernelspec": {
   "display_name": "Python 3 (ipykernel)",
   "language": "python",
   "name": "python3"
  },
  "language_info": {
   "codemirror_mode": {
    "name": "ipython",
    "version": 3
   },
   "file_extension": ".py",
   "mimetype": "text/x-python",
   "name": "python",
   "nbconvert_exporter": "python",
   "pygments_lexer": "ipython3",
   "version": "3.9.13"
  }
 },
 "nbformat": 4,
 "nbformat_minor": 5
}
