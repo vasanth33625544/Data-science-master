{
 "cells": [
  {
   "cell_type": "markdown",
   "id": "6d472064",
   "metadata": {},
   "source": [
    "## Q1. what is multithreading in python?why is it used? Name the module used to handle threads in python"
   ]
  },
  {
   "cell_type": "markdown",
   "id": "0f9f6c20",
   "metadata": {},
   "source": [
    "* Multithreading is defined as the ability of a processor to execute multiple threads concurrently.\n",
    "* To run a multiple thread in single process the multithread is used in cuncurrently\n",
    "* Threading module is used for multi threading"
   ]
  },
  {
   "cell_type": "markdown",
   "id": "f699d08b",
   "metadata": {},
   "source": [
    "## Q2.Why threading module used? write the use of the following functions"
   ]
  },
  {
   "cell_type": "markdown",
   "id": "6322bc1b",
   "metadata": {},
   "source": [
    "* threading module is used To run a multiple thread in single process the multithread is used in cuncurrently"
   ]
  },
  {
   "cell_type": "markdown",
   "id": "9d864f70",
   "metadata": {},
   "source": [
    "* the method threading.active_co unt() from the threading module is used to count the currently active or running threads."
   ]
  },
  {
   "cell_type": "markdown",
   "id": "b6668833",
   "metadata": {},
   "source": [
    "* current_thread() is an inbuilt method of the threading module in Python. It is used to return the current Thread object, which corresponds to the caller's thread of control."
   ]
  },
  {
   "cell_type": "markdown",
   "id": "9aebadd8",
   "metadata": {},
   "source": [
    "* threading.enumerate() returns a list of all Thread objects currently alive. The list includes daemonic threads, dummy thread objects created by current_thread(), and the main thread. It excludes terminated threads and threads that have not yet been started.\n",
    "\n"
   ]
  },
  {
   "cell_type": "markdown",
   "id": "36a061c6",
   "metadata": {},
   "source": [
    "##  Q3. Explain the following functions"
   ]
  },
  {
   "cell_type": "markdown",
   "id": "30bfefdd",
   "metadata": {},
   "source": [
    "* ## 1 run()\n",
    "\n",
    "    * The .run() method executes any target function belonging to a given thread object that is now active. It normally executes in the background after the .start() method is invoked.\n"
   ]
  },
  {
   "cell_type": "markdown",
   "id": "29606095",
   "metadata": {},
   "source": [
    "### 2 start()\n",
    "        * start() method is an inbuilt method of the Thread class of the threading module in Python. It is used to start a thread's activity. This method calls the run() method internally which then executes the target method. This method must be called at most one time for one thread.\n"
   ]
  },
  {
   "cell_type": "markdown",
   "id": "e8e84077",
   "metadata": {},
   "source": [
    "### 3.join()\n",
    "    * join() method is an inbuilt method of the Thread class of the threading module in Python. Whenever this method is called for any Thread object, it blocks the calling thread till the time the thread whose join() method is called terminates, either normally or through an unhandled exception. "
   ]
  },
  {
   "cell_type": "markdown",
   "id": "5af439b9",
   "metadata": {},
   "source": [
    "### 4.alive()\n",
    "    * It uses a Thread object, and checks whether that thread is alive or not, ie, it is still running or not. This method returns True before the run() starts until just after the run() method is executed."
   ]
  },
  {
   "cell_type": "markdown",
   "id": "4f1e401e",
   "metadata": {},
   "source": [
    "## Q4. Write a python program to create two threads. Thread one must print the list of squares and thread two must print the list of cubes\n"
   ]
  },
  {
   "cell_type": "code",
   "execution_count": 28,
   "id": "3028e245",
   "metadata": {},
   "outputs": [
    {
     "name": "stdout",
     "output_type": "stream",
     "text": [
      "False\n",
      "Threads start\n",
      "True\n",
      "False\n",
      "square result= 1\n",
      "square result= 4\n",
      "square result= 9\n",
      "square result= 16\n",
      "square result= 25\n",
      "square result= 36\n",
      "square result= 49\n",
      "square result= 64\n",
      "square result= 81\n",
      "square result= 100\n",
      "False\n",
      "cubes result= 1\n",
      "cubes result= 8\n",
      "cubes result= 27\n",
      "cubes result= 64\n",
      "cubes result= 125\n",
      "cubes result= 216\n",
      "cubes result= 343\n",
      "cubes result= 512\n",
      "cubes result= 729\n",
      "cubes result= 1000\n",
      "False\n"
     ]
    }
   ],
   "source": [
    "import threading\n",
    "import time\n",
    "list1=[1,2,3,4,5,6,7,8,9,10]\n",
    "\n",
    "def squares(num):\n",
    "    for i in num:\n",
    "        time.sleep(0.3)\n",
    "        print('square result=',i**2)\n",
    "    \n",
    "def cubes(num):\n",
    "    for i in num:\n",
    "        time.sleep(0.3)\n",
    "        print('cubes result=',i**3)\n",
    "        \n",
    "sqaure_thread=threading.Thread(target=squares,args=(list1,))\n",
    "cubes_thread=threading.Thread(target=cubes,args=(list1,)) \n",
    "\n",
    "print(sqaure_thread.is_alive())\n",
    "print('Threads start')\n",
    "sqaure_thread.start()\n",
    "print(sqaure_thread.is_alive())\n",
    "print(sqaure_thread.isDaemon())\n",
    "sqaure_thread.join()\n",
    "print(sqaure_thread.is_alive())\n",
    "cubes_thread.start()\n",
    "cubes_thread.join()\n",
    "print(sqaure_thread.is_alive())"
   ]
  },
  {
   "cell_type": "markdown",
   "id": "e074e856",
   "metadata": {},
   "source": [
    "### Q5. State advantages and disadvantages of multithreading"
   ]
  },
  {
   "cell_type": "markdown",
   "id": "0aee1e53",
   "metadata": {},
   "source": [
    "### Advantages\n",
    " * Multithreading in Python streamlines the efficient utilization of resources as the threads share the same memory and data space.\n",
    "* It also allows the concurrent appearance of multiple tasks and reduces the response time. This improves the performance.\n",
    "* Enhanced performance by decreased development time\n",
    "* Simplified and streamlined program coding\n",
    "* Improvised GUI responsiveness\n",
    "* Simultaneous and parallelized occurrence of tasks\n",
    "* Better use of cache storage by utilization of resources\n",
    "* Decreased cost of maintenance\n",
    "* Better use of CPU resource"
   ]
  },
  {
   "cell_type": "markdown",
   "id": "ca603354",
   "metadata": {},
   "source": [
    "### Diadvantages\n",
    "  * Complex debugging and testing processes\n",
    "  * Overhead switching of context\n",
    "  * Increased potential for deadlock occurrence\n",
    "  * Increased difficulty level in writing a program\n",
    "  *  Unpredictable results"
   ]
  },
  {
   "cell_type": "markdown",
   "id": "b56e507f",
   "metadata": {},
   "source": [
    "## Q6. Explain deadlocks and race conditions."
   ]
  },
  {
   "cell_type": "markdown",
   "id": "696ac548",
   "metadata": {},
   "source": [
    "* A race condition occurs when two threads try to access a shared variable simultaneously.\n",
    "\n",
    "* The first thread reads the value from the shared variable. The second thread also reads the value from the same shared variable.\n",
    "\n",
    "* Then both threads try to change the value of the shared variable. And they race to see which thread writes a value to the variable last.\n",
    "\n",
    "* The value from the thread that writes to the shared variable last is preserved because it overwrites the value that the previous thread wrote."
   ]
  },
  {
   "cell_type": "markdown",
   "id": "013d24e4",
   "metadata": {},
   "source": [
    "* A deadlock is a concurrency failure mode where a thread or threads wait for a condition that never occurs.\n",
    "\n",
    "* The result is that the deadlock threads are unable to progress and the program is stuck or frozen and must be terminated forcefully.\n",
    "\n",
    "* There are many ways in which you may encounter a deadlock in your concurrent program."
   ]
  },
  {
   "cell_type": "code",
   "execution_count": null,
   "id": "4379c87c",
   "metadata": {},
   "outputs": [],
   "source": []
  }
 ],
 "metadata": {
  "kernelspec": {
   "display_name": "Python 3 (ipykernel)",
   "language": "python",
   "name": "python3"
  },
  "language_info": {
   "codemirror_mode": {
    "name": "ipython",
    "version": 3
   },
   "file_extension": ".py",
   "mimetype": "text/x-python",
   "name": "python",
   "nbconvert_exporter": "python",
   "pygments_lexer": "ipython3",
   "version": "3.9.13"
  }
 },
 "nbformat": 4,
 "nbformat_minor": 5
}
