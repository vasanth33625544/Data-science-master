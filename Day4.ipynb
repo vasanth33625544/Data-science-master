{
 "cells": [
  {
   "cell_type": "code",
   "execution_count": 1,
   "id": "10a85348",
   "metadata": {},
   "outputs": [],
   "source": [
    "str1='Data Science'"
   ]
  },
  {
   "cell_type": "code",
   "execution_count": 3,
   "id": "66063a56",
   "metadata": {},
   "outputs": [
    {
     "data": {
      "text/plain": [
       "'dATA sCIENCE'"
      ]
     },
     "execution_count": 3,
     "metadata": {},
     "output_type": "execute_result"
    }
   ],
   "source": [
    "str1.swapcase()"
   ]
  },
  {
   "cell_type": "code",
   "execution_count": 4,
   "id": "a91df586",
   "metadata": {},
   "outputs": [
    {
     "data": {
      "text/plain": [
       "'Data science'"
      ]
     },
     "execution_count": 4,
     "metadata": {},
     "output_type": "execute_result"
    }
   ],
   "source": [
    "str1.capitalize()"
   ]
  },
  {
   "cell_type": "code",
   "execution_count": 5,
   "id": "4f42ff87",
   "metadata": {},
   "outputs": [],
   "source": [
    "str2=reversed(str1)"
   ]
  },
  {
   "cell_type": "code",
   "execution_count": 11,
   "id": "8dbbf929",
   "metadata": {},
   "outputs": [],
   "source": [
    "str2='AND'"
   ]
  },
  {
   "cell_type": "code",
   "execution_count": 7,
   "id": "61c17f1a",
   "metadata": {},
   "outputs": [
    {
     "data": {
      "text/plain": [
       "'Data Science'"
      ]
     },
     "execution_count": 7,
     "metadata": {},
     "output_type": "execute_result"
    }
   ],
   "source": [
    "str1\n"
   ]
  },
  {
   "cell_type": "code",
   "execution_count": 12,
   "id": "a5eab80e",
   "metadata": {},
   "outputs": [
    {
     "data": {
      "text/plain": [
       "'e00c00n00e00i00c00S00 00a00t00a00D'"
      ]
     },
     "execution_count": 12,
     "metadata": {},
     "output_type": "execute_result"
    }
   ],
   "source": [
    "str2.join(reversed(str1))"
   ]
  },
  {
   "cell_type": "code",
   "execution_count": 13,
   "id": "c6c5a4d0",
   "metadata": {},
   "outputs": [
    {
     "data": {
      "text/plain": [
       "'a n d'"
      ]
     },
     "execution_count": 13,
     "metadata": {},
     "output_type": "execute_result"
    }
   ],
   "source": [
    "' '.join('and')"
   ]
  },
  {
   "cell_type": "code",
   "execution_count": 14,
   "id": "8ada6295",
   "metadata": {},
   "outputs": [
    {
     "data": {
      "text/plain": [
       "'d n a'"
      ]
     },
     "execution_count": 14,
     "metadata": {},
     "output_type": "execute_result"
    }
   ],
   "source": [
    "' '.join(reversed('and'))"
   ]
  },
  {
   "cell_type": "code",
   "execution_count": 16,
   "id": "a5a4f447",
   "metadata": {},
   "outputs": [
    {
     "data": {
      "text/plain": [
       "'dPWSKILLS nPWSKILLS a'"
      ]
     },
     "execution_count": 16,
     "metadata": {},
     "output_type": "execute_result"
    }
   ],
   "source": [
    "'PWSKILLS '.join(reversed('and'))"
   ]
  },
  {
   "cell_type": "code",
   "execution_count": 20,
   "id": "c128150d",
   "metadata": {},
   "outputs": [
    {
     "data": {
      "text/plain": [
       "['e', 'c', 'n', 'e', 'i', 'c', 'S', ' ', 'a', 't', 'a', 'D']"
      ]
     },
     "execution_count": 20,
     "metadata": {},
     "output_type": "execute_result"
    }
   ],
   "source": [
    "list(reversed(str1))#type casting"
   ]
  },
  {
   "cell_type": "code",
   "execution_count": 19,
   "id": "e978879d",
   "metadata": {},
   "outputs": [
    {
     "data": {
      "text/plain": [
       "'ecneicS ataD'"
      ]
     },
     "execution_count": 19,
     "metadata": {},
     "output_type": "execute_result"
    }
   ],
   "source": [
    "str1[::-1]"
   ]
  },
  {
   "cell_type": "code",
   "execution_count": 22,
   "id": "ab3d2d17",
   "metadata": {},
   "outputs": [
    {
     "name": "stdout",
     "output_type": "stream",
     "text": [
      "ecneicS ataD"
     ]
    }
   ],
   "source": [
    "for i in list(reversed(str1)):\n",
    "    print(i,end='')"
   ]
  },
  {
   "cell_type": "code",
   "execution_count": 33,
   "id": "700eb2af",
   "metadata": {},
   "outputs": [
    {
     "data": {
      "text/plain": [
       "'Data Science'"
      ]
     },
     "execution_count": 33,
     "metadata": {},
     "output_type": "execute_result"
    }
   ],
   "source": [
    "str1.strip(\" \")#remove the white space"
   ]
  },
  {
   "cell_type": "code",
   "execution_count": 31,
   "id": "18238801",
   "metadata": {},
   "outputs": [],
   "source": [
    "a='dfff '"
   ]
  },
  {
   "cell_type": "code",
   "execution_count": 34,
   "id": "6e3d96cd",
   "metadata": {},
   "outputs": [
    {
     "data": {
      "text/plain": [
       "'dfff'"
      ]
     },
     "execution_count": 34,
     "metadata": {},
     "output_type": "execute_result"
    }
   ],
   "source": [
    "a.strip(\" \")#rstrip,lstrip"
   ]
  },
  {
   "cell_type": "code",
   "execution_count": 35,
   "id": "f2df2756",
   "metadata": {},
   "outputs": [],
   "source": [
    "data='Greeting to Pwskills'"
   ]
  },
  {
   "cell_type": "code",
   "execution_count": 39,
   "id": "27bc2e56",
   "metadata": {},
   "outputs": [],
   "source": [
    "data=data.replace('g','s')"
   ]
  },
  {
   "cell_type": "code",
   "execution_count": 40,
   "id": "af82ea5e",
   "metadata": {},
   "outputs": [
    {
     "data": {
      "text/plain": [
       "'Greetins to Pwskills'"
      ]
     },
     "execution_count": 40,
     "metadata": {},
     "output_type": "execute_result"
    }
   ],
   "source": [
    "data"
   ]
  },
  {
   "cell_type": "markdown",
   "id": "be7a3e1d",
   "metadata": {},
   "source": [
    "# questions"
   ]
  },
  {
   "cell_type": "code",
   "execution_count": 41,
   "id": "55170953",
   "metadata": {},
   "outputs": [],
   "source": [
    "str1=\"Welcome to pwskills .welcome to dat cience Master\""
   ]
  },
  {
   "cell_type": "code",
   "execution_count": 43,
   "id": "6f2da409",
   "metadata": {},
   "outputs": [
    {
     "data": {
      "text/plain": [
       "'Welcome to pwskills .welcome to Data Science Master'"
      ]
     },
     "execution_count": 43,
     "metadata": {},
     "output_type": "execute_result"
    }
   ],
   "source": [
    "str1.replace('dat','Data').replace('cience','Science')"
   ]
  },
  {
   "cell_type": "code",
   "execution_count": 44,
   "id": "96b7d0f5",
   "metadata": {},
   "outputs": [
    {
     "data": {
      "text/plain": [
       "False"
      ]
     },
     "execution_count": 44,
     "metadata": {},
     "output_type": "execute_result"
    }
   ],
   "source": [
    "str1.isupper()"
   ]
  },
  {
   "cell_type": "code",
   "execution_count": 45,
   "id": "2acda6fd",
   "metadata": {},
   "outputs": [
    {
     "data": {
      "text/plain": [
       "False"
      ]
     },
     "execution_count": 45,
     "metadata": {},
     "output_type": "execute_result"
    }
   ],
   "source": [
    "str1.islower()"
   ]
  },
  {
   "cell_type": "code",
   "execution_count": 46,
   "id": "250828ef",
   "metadata": {},
   "outputs": [
    {
     "data": {
      "text/plain": [
       "False"
      ]
     },
     "execution_count": 46,
     "metadata": {},
     "output_type": "execute_result"
    }
   ],
   "source": [
    "str1.isspace()"
   ]
  },
  {
   "cell_type": "code",
   "execution_count": 47,
   "id": "ff28f2d3",
   "metadata": {},
   "outputs": [
    {
     "data": {
      "text/plain": [
       "False"
      ]
     },
     "execution_count": 47,
     "metadata": {},
     "output_type": "execute_result"
    }
   ],
   "source": [
    "str1.istitle()"
   ]
  },
  {
   "cell_type": "code",
   "execution_count": 50,
   "id": "35bb9b2d",
   "metadata": {},
   "outputs": [
    {
     "name": "stdout",
     "output_type": "stream",
     "text": [
      "Welcome To Pwskills .Welcome To Dat Cience Master\n"
     ]
    }
   ],
   "source": [
    "str1=str1.title()\n",
    "print(str1)"
   ]
  },
  {
   "cell_type": "code",
   "execution_count": 49,
   "id": "ad8e1d8a",
   "metadata": {},
   "outputs": [
    {
     "data": {
      "text/plain": [
       "True"
      ]
     },
     "execution_count": 49,
     "metadata": {},
     "output_type": "execute_result"
    }
   ],
   "source": [
    "str1.istitle()"
   ]
  },
  {
   "cell_type": "code",
   "execution_count": 51,
   "id": "5b1d0772",
   "metadata": {},
   "outputs": [
    {
     "data": {
      "text/plain": [
       "True"
      ]
     },
     "execution_count": 51,
     "metadata": {},
     "output_type": "execute_result"
    }
   ],
   "source": [
    "str1.endswith('r')"
   ]
  },
  {
   "cell_type": "code",
   "execution_count": 52,
   "id": "15968a77",
   "metadata": {},
   "outputs": [
    {
     "data": {
      "text/plain": [
       "'Welcome To Pwskills .Welcome To Dat Cience Master'"
      ]
     },
     "execution_count": 52,
     "metadata": {},
     "output_type": "execute_result"
    }
   ],
   "source": [
    "str1.expandtabs()"
   ]
  },
  {
   "cell_type": "code",
   "execution_count": 54,
   "id": "f709cec5",
   "metadata": {},
   "outputs": [
    {
     "data": {
      "text/plain": [
       "False"
      ]
     },
     "execution_count": 54,
     "metadata": {},
     "output_type": "execute_result"
    }
   ],
   "source": [
    "str1.startswith('w')"
   ]
  },
  {
   "cell_type": "code",
   "execution_count": 56,
   "id": "ba3b8573",
   "metadata": {},
   "outputs": [
    {
     "data": {
      "text/plain": [
       "False"
      ]
     },
     "execution_count": 56,
     "metadata": {},
     "output_type": "execute_result"
    }
   ],
   "source": [
    "str1.isalnum()#checking alpha numeric"
   ]
  },
  {
   "cell_type": "code",
   "execution_count": 58,
   "id": "94126dfe",
   "metadata": {},
   "outputs": [
    {
     "data": {
      "text/plain": [
       "2"
      ]
     },
     "execution_count": 58,
     "metadata": {},
     "output_type": "execute_result"
    }
   ],
   "source": [
    "str1.count('a')"
   ]
  },
  {
   "cell_type": "code",
   "execution_count": 67,
   "id": "88cb8fdc",
   "metadata": {},
   "outputs": [
    {
     "name": "stdout",
     "output_type": "stream",
     "text": [
      "0=W\n",
      "1=e\n",
      "2=l\n",
      "3=c\n",
      "4=o\n",
      "5=m\n",
      "6=e\n",
      "7= \n",
      "8=T\n",
      "9=o\n",
      "10= \n",
      "11=P\n",
      "12=w\n",
      "13=s\n",
      "14=k\n",
      "15=i\n",
      "16=l\n",
      "17=l\n",
      "18=s\n",
      "19= \n",
      "20=.\n",
      "21=W\n",
      "22=e\n",
      "23=l\n",
      "24=c\n",
      "25=o\n",
      "26=m\n",
      "27=e\n",
      "28= \n",
      "29=T\n",
      "30=o\n",
      "31= \n",
      "32=D\n",
      "33=a\n",
      "34=t\n",
      "35= \n",
      "36=C\n",
      "37=i\n",
      "38=e\n",
      "39=n\n",
      "40=c\n",
      "41=e\n",
      "42= \n",
      "43=M\n",
      "44=a\n",
      "45=s\n",
      "46=t\n",
      "47=e\n",
      "48=r\n"
     ]
    }
   ],
   "source": [
    "for i in range(len(str1)):\n",
    "    #print(i,'=',str1[i])\n",
    "    print(f'{i}={str1[i]}')"
   ]
  },
  {
   "cell_type": "code",
   "execution_count": 72,
   "id": "20d15e4e",
   "metadata": {},
   "outputs": [
    {
     "name": "stdout",
     "output_type": "stream",
     "text": [
      "48=r\n",
      "47=e\n",
      "46=t\n",
      "45=s\n",
      "44=a\n",
      "43=M\n",
      "42= \n",
      "41=e\n",
      "40=c\n",
      "39=n\n",
      "38=e\n",
      "37=i\n",
      "36=C\n",
      "35= \n",
      "34=t\n",
      "33=a\n",
      "32=D\n",
      "31= \n",
      "30=o\n",
      "29=T\n",
      "28= \n",
      "27=e\n",
      "26=m\n",
      "25=o\n",
      "24=c\n",
      "23=l\n",
      "22=e\n",
      "21=W\n",
      "20=.\n",
      "19= \n",
      "18=s\n",
      "17=l\n",
      "16=l\n",
      "15=i\n",
      "14=k\n",
      "13=s\n",
      "12=w\n",
      "11=P\n",
      "10= \n",
      "9=o\n",
      "8=T\n",
      "7= \n",
      "6=e\n",
      "5=m\n",
      "4=o\n",
      "3=c\n",
      "2=l\n",
      "1=e\n",
      "0=W\n"
     ]
    }
   ],
   "source": [
    "for i in range(len(str1)-1,-1,-1):\n",
    "      print(f'{l}={str1[i]}')"
   ]
  },
  {
   "cell_type": "code",
   "execution_count": 78,
   "id": "ce60bf1c",
   "metadata": {},
   "outputs": [
    {
     "name": "stdout",
     "output_type": "stream",
     "text": [
      "48 = r\n",
      "47 = e\n",
      "46 = t\n",
      "45 = s\n",
      "44 = a\n",
      "43 = M\n",
      "42 =  \n",
      "41 = e\n",
      "40 = c\n",
      "39 = n\n",
      "38 = e\n",
      "37 = i\n",
      "36 = C\n",
      "35 =  \n",
      "34 = t\n",
      "33 = a\n",
      "32 = D\n",
      "31 =  \n",
      "30 = o\n",
      "29 = T\n",
      "28 =  \n",
      "27 = e\n",
      "26 = m\n",
      "25 = o\n",
      "24 = c\n",
      "23 = l\n",
      "22 = e\n",
      "21 = W\n",
      "20 = .\n",
      "19 =  \n",
      "18 = s\n",
      "17 = l\n",
      "16 = l\n",
      "15 = i\n",
      "14 = k\n",
      "13 = s\n",
      "12 = w\n",
      "11 = P\n",
      "10 =  \n",
      "9 = o\n",
      "8 = T\n",
      "7 =  \n",
      "6 = e\n",
      "5 = m\n",
      "4 = o\n",
      "3 = c\n",
      "2 = l\n",
      "1 = e\n",
      "0 = W\n"
     ]
    }
   ],
   "source": [
    "l=len(str1)-1\n",
    "while(l>=0):\n",
    "    print(l,'=',str1[l])\n",
    "    l=l-1"
   ]
  },
  {
   "cell_type": "code",
   "execution_count": 79,
   "id": "1b88f967",
   "metadata": {},
   "outputs": [],
   "source": [
    "vowels='AaEeIiOoUu'\n"
   ]
  },
  {
   "cell_type": "code",
   "execution_count": 82,
   "id": "499aa386",
   "metadata": {},
   "outputs": [
    {
     "name": "stdout",
     "output_type": "stream",
     "text": [
      "W is not a vowel\n",
      "e is a vowel\n",
      "l is not a vowel\n",
      "c is not a vowel\n",
      "o is a vowel\n",
      "m is not a vowel\n",
      "e is a vowel\n",
      "T is not a vowel\n",
      "o is a vowel\n",
      "P is not a vowel\n",
      "w is not a vowel\n",
      "s is not a vowel\n",
      "k is not a vowel\n",
      "i is a vowel\n",
      "l is not a vowel\n",
      "l is not a vowel\n",
      "s is not a vowel\n",
      ". is not a vowel\n",
      "W is not a vowel\n",
      "e is a vowel\n",
      "l is not a vowel\n",
      "c is not a vowel\n",
      "o is a vowel\n",
      "m is not a vowel\n",
      "e is a vowel\n",
      "T is not a vowel\n",
      "o is a vowel\n",
      "D is not a vowel\n",
      "a is a vowel\n",
      "t is not a vowel\n",
      "C is not a vowel\n",
      "i is a vowel\n",
      "e is a vowel\n",
      "n is not a vowel\n",
      "c is not a vowel\n",
      "e is a vowel\n",
      "M is not a vowel\n",
      "a is a vowel\n",
      "s is not a vowel\n",
      "t is not a vowel\n",
      "e is a vowel\n",
      "r is not a vowel\n"
     ]
    }
   ],
   "source": [
    "for i in str1:\n",
    "    if i in vowels and i!=' ':\n",
    "        print(f'{i} is a vowel')\n",
    "    elif i!=' ':\n",
    "        print(f'{i} is not a vowel')\n",
    "\n"
   ]
  },
  {
   "cell_type": "markdown",
   "id": "834400ab",
   "metadata": {},
   "source": [
    "# list"
   ]
  },
  {
   "cell_type": "code",
   "execution_count": 83,
   "id": "f86ead43",
   "metadata": {},
   "outputs": [
    {
     "data": {
      "text/plain": [
       "list"
      ]
     },
     "execution_count": 83,
     "metadata": {},
     "output_type": "execute_result"
    }
   ],
   "source": [
    "type([])"
   ]
  },
  {
   "cell_type": "code",
   "execution_count": 86,
   "id": "d088fa0b",
   "metadata": {},
   "outputs": [],
   "source": [
    "list1=[]"
   ]
  },
  {
   "cell_type": "code",
   "execution_count": 88,
   "id": "dc895815",
   "metadata": {},
   "outputs": [],
   "source": [
    "list1.append(99)"
   ]
  },
  {
   "cell_type": "code",
   "execution_count": 89,
   "id": "e2fe3596",
   "metadata": {},
   "outputs": [],
   "source": [
    "list1.insert(2,'ff')"
   ]
  },
  {
   "cell_type": "code",
   "execution_count": 90,
   "id": "73f5d950",
   "metadata": {},
   "outputs": [
    {
     "data": {
      "text/plain": [
       "[99, 'ff']"
      ]
     },
     "execution_count": 90,
     "metadata": {},
     "output_type": "execute_result"
    }
   ],
   "source": [
    "list1"
   ]
  },
  {
   "cell_type": "code",
   "execution_count": 91,
   "id": "8f358015",
   "metadata": {},
   "outputs": [],
   "source": [
    "list1=list1+list1"
   ]
  },
  {
   "cell_type": "code",
   "execution_count": 92,
   "id": "7dedd909",
   "metadata": {},
   "outputs": [
    {
     "data": {
      "text/plain": [
       "[99, 'ff', 99, 'ff']"
      ]
     },
     "execution_count": 92,
     "metadata": {},
     "output_type": "execute_result"
    }
   ],
   "source": [
    "list1"
   ]
  },
  {
   "cell_type": "code",
   "execution_count": 93,
   "id": "b88cb53d",
   "metadata": {},
   "outputs": [],
   "source": [
    "list1=['pw','skills','dats','science','master']"
   ]
  },
  {
   "cell_type": "code",
   "execution_count": 95,
   "id": "9e6107eb",
   "metadata": {},
   "outputs": [],
   "source": [
    "for i in list1:\n",
    "    if i == 'pw':\n",
    "        break\n",
    "    else:\n",
    "        print(i)"
   ]
  },
  {
   "cell_type": "code",
   "execution_count": 98,
   "id": "710a93a5",
   "metadata": {},
   "outputs": [
    {
     "name": "stdout",
     "output_type": "stream",
     "text": [
      "not present\n"
     ]
    }
   ],
   "source": [
    "if 'Science' in list1:\n",
    "    print('present')\n",
    "else:\n",
    "    print('not present')"
   ]
  },
  {
   "cell_type": "code",
   "execution_count": 101,
   "id": "30b7c489",
   "metadata": {},
   "outputs": [
    {
     "name": "stdout",
     "output_type": "stream",
     "text": [
      "not present\n"
     ]
    },
    {
     "name": "stderr",
     "output_type": "stream",
     "text": [
      "<>:1: SyntaxWarning: \"is\" with a literal. Did you mean \"==\"?\n",
      "<>:1: SyntaxWarning: \"is\" with a literal. Did you mean \"==\"?\n",
      "C:\\Users\\ted2nh\\AppData\\Local\\Temp\\ipykernel_66476\\671692039.py:1: SyntaxWarning: \"is\" with a literal. Did you mean \"==\"?\n",
      "  if 'Science' is list1[3]:\n"
     ]
    }
   ],
   "source": [
    "if 'Science' is list1[3]:\n",
    "    print('present')\n",
    "else:\n",
    "    print('not present')"
   ]
  },
  {
   "cell_type": "code",
   "execution_count": 114,
   "id": "9ffffefd",
   "metadata": {},
   "outputs": [],
   "source": [
    "list3=['zebra',\"monkey\",'donkey','Lion']\n",
    "list4=[5,6,1,2,9,5,8,6]"
   ]
  },
  {
   "cell_type": "code",
   "execution_count": 103,
   "id": "cc02e35f",
   "metadata": {},
   "outputs": [
    {
     "name": "stdout",
     "output_type": "stream",
     "text": [
      "zebra\n"
     ]
    }
   ],
   "source": [
    "print(max(list3))"
   ]
  },
  {
   "cell_type": "code",
   "execution_count": 107,
   "id": "4eabdd64",
   "metadata": {},
   "outputs": [
    {
     "name": "stdout",
     "output_type": "stream",
     "text": [
      "9\n",
      "2\n"
     ]
    }
   ],
   "source": [
    "print(max(list4))\n",
    "print(min(list4))"
   ]
  },
  {
   "cell_type": "code",
   "execution_count": 120,
   "id": "f1d0be07",
   "metadata": {},
   "outputs": [
    {
     "data": {
      "text/plain": [
       "True"
      ]
     },
     "execution_count": 120,
     "metadata": {},
     "output_type": "execute_result"
    }
   ],
   "source": [
    "2 in [2,4,5]"
   ]
  },
  {
   "cell_type": "code",
   "execution_count": 118,
   "id": "d778dccf",
   "metadata": {},
   "outputs": [
    {
     "data": {
      "text/plain": [
       "False"
      ]
     },
     "execution_count": 118,
     "metadata": {},
     "output_type": "execute_result"
    }
   ],
   "source": [
    "4==4.1"
   ]
  },
  {
   "cell_type": "code",
   "execution_count": 121,
   "id": "b8083e05",
   "metadata": {},
   "outputs": [],
   "source": [
    "list4.append(45)"
   ]
  },
  {
   "cell_type": "code",
   "execution_count": 122,
   "id": "b8931cfd",
   "metadata": {},
   "outputs": [
    {
     "data": {
      "text/plain": [
       "[5, 6, 1, 2, 9, 5, 8, 6, 45]"
      ]
     },
     "execution_count": 122,
     "metadata": {},
     "output_type": "execute_result"
    }
   ],
   "source": [
    "list4"
   ]
  },
  {
   "cell_type": "code",
   "execution_count": 123,
   "id": "89f4cf49",
   "metadata": {},
   "outputs": [],
   "source": [
    "list4.append(['data','science',77])"
   ]
  },
  {
   "cell_type": "code",
   "execution_count": 124,
   "id": "0a3ff24a",
   "metadata": {},
   "outputs": [
    {
     "data": {
      "text/plain": [
       "[5, 6, 1, 2, 9, 5, 8, 6, 45, ['data', 'science', 77]]"
      ]
     },
     "execution_count": 124,
     "metadata": {},
     "output_type": "execute_result"
    }
   ],
   "source": [
    "list4"
   ]
  },
  {
   "cell_type": "code",
   "execution_count": 132,
   "id": "97e570c5",
   "metadata": {},
   "outputs": [
    {
     "data": {
      "text/plain": [
       "'science'"
      ]
     },
     "execution_count": 132,
     "metadata": {},
     "output_type": "execute_result"
    }
   ],
   "source": [
    "list4[-1][1]"
   ]
  },
  {
   "cell_type": "code",
   "execution_count": 134,
   "id": "5010fde5",
   "metadata": {},
   "outputs": [
    {
     "data": {
      "text/plain": [
       "['data', 'science', 77]"
      ]
     },
     "execution_count": 134,
     "metadata": {},
     "output_type": "execute_result"
    }
   ],
   "source": [
    "list4.pop()"
   ]
  },
  {
   "cell_type": "code",
   "execution_count": 136,
   "id": "35bdbabe",
   "metadata": {},
   "outputs": [
    {
     "data": {
      "text/plain": [
       "[6, 1, 2, 9, 5, 8, 6, 45]"
      ]
     },
     "execution_count": 136,
     "metadata": {},
     "output_type": "execute_result"
    }
   ],
   "source": [
    "list4"
   ]
  },
  {
   "cell_type": "code",
   "execution_count": 137,
   "id": "de6db81b",
   "metadata": {},
   "outputs": [
    {
     "data": {
      "text/plain": [
       "5"
      ]
     },
     "execution_count": 137,
     "metadata": {},
     "output_type": "execute_result"
    }
   ],
   "source": [
    "list4.pop(4)"
   ]
  },
  {
   "cell_type": "code",
   "execution_count": 138,
   "id": "aa682129",
   "metadata": {},
   "outputs": [],
   "source": [
    "list4.append(['data','science',77])"
   ]
  },
  {
   "cell_type": "code",
   "execution_count": 139,
   "id": "ab1c87b9",
   "metadata": {},
   "outputs": [],
   "source": [
    "list4.remove(9)"
   ]
  },
  {
   "cell_type": "code",
   "execution_count": 140,
   "id": "c674277f",
   "metadata": {},
   "outputs": [
    {
     "data": {
      "text/plain": [
       "[6, 1, 2, 8, 6, 45, ['data', 'science', 77]]"
      ]
     },
     "execution_count": 140,
     "metadata": {},
     "output_type": "execute_result"
    }
   ],
   "source": [
    "list4"
   ]
  },
  {
   "cell_type": "code",
   "execution_count": 141,
   "id": "6f0615c7",
   "metadata": {},
   "outputs": [],
   "source": [
    "list4.reverse()"
   ]
  },
  {
   "cell_type": "code",
   "execution_count": 142,
   "id": "87e871b8",
   "metadata": {},
   "outputs": [
    {
     "data": {
      "text/plain": [
       "[['data', 'science', 77], 45, 6, 8, 2, 1, 6]"
      ]
     },
     "execution_count": 142,
     "metadata": {},
     "output_type": "execute_result"
    }
   ],
   "source": [
    "list4"
   ]
  },
  {
   "cell_type": "code",
   "execution_count": 144,
   "id": "d118fe4f",
   "metadata": {},
   "outputs": [],
   "source": [
    "list5=[1,44,6,32,246,64,22,9]"
   ]
  },
  {
   "cell_type": "code",
   "execution_count": 147,
   "id": "48bfd3ae",
   "metadata": {},
   "outputs": [],
   "source": [
    "list5.sort(reverse=True)"
   ]
  },
  {
   "cell_type": "code",
   "execution_count": 148,
   "id": "f8e3a3ae",
   "metadata": {},
   "outputs": [
    {
     "data": {
      "text/plain": [
       "[246, 64, 44, 32, 22, 9, 6, 1]"
      ]
     },
     "execution_count": 148,
     "metadata": {},
     "output_type": "execute_result"
    }
   ],
   "source": [
    "list5\n"
   ]
  },
  {
   "cell_type": "markdown",
   "id": "39916bfd",
   "metadata": {},
   "source": [
    "# Nested list"
   ]
  },
  {
   "cell_type": "code",
   "execution_count": 149,
   "id": "dd9fdbc4",
   "metadata": {},
   "outputs": [],
   "source": [
    "list5.append(list4)"
   ]
  },
  {
   "cell_type": "code",
   "execution_count": 150,
   "id": "2079b836",
   "metadata": {},
   "outputs": [
    {
     "data": {
      "text/plain": [
       "[246, 64, 44, 32, 22, 9, 6, 1, [['data', 'science', 77], 45, 6, 8, 2, 1, 6]]"
      ]
     },
     "execution_count": 150,
     "metadata": {},
     "output_type": "execute_result"
    }
   ],
   "source": [
    "list5"
   ]
  },
  {
   "cell_type": "code",
   "execution_count": 151,
   "id": "b733538a",
   "metadata": {},
   "outputs": [
    {
     "data": {
      "text/plain": [
       "2"
      ]
     },
     "execution_count": 151,
     "metadata": {},
     "output_type": "execute_result"
    }
   ],
   "source": [
    "list5.index(44)"
   ]
  },
  {
   "cell_type": "code",
   "execution_count": 152,
   "id": "e2a021e6",
   "metadata": {},
   "outputs": [],
   "source": [
    "list5.insert(0,'start')"
   ]
  },
  {
   "cell_type": "code",
   "execution_count": 153,
   "id": "b37e0ada",
   "metadata": {},
   "outputs": [
    {
     "data": {
      "text/plain": [
       "['start',\n",
       " 246,\n",
       " 64,\n",
       " 44,\n",
       " 32,\n",
       " 22,\n",
       " 9,\n",
       " 6,\n",
       " 1,\n",
       " [['data', 'science', 77], 45, 6, 8, 2, 1, 6]]"
      ]
     },
     "execution_count": 153,
     "metadata": {},
     "output_type": "execute_result"
    }
   ],
   "source": [
    "list5"
   ]
  },
  {
   "cell_type": "code",
   "execution_count": 154,
   "id": "8bf9c90b",
   "metadata": {},
   "outputs": [
    {
     "data": {
      "text/plain": [
       "[['data', 'science', 77], 45, 6, 8, 2, 1, 6]"
      ]
     },
     "execution_count": 154,
     "metadata": {},
     "output_type": "execute_result"
    }
   ],
   "source": [
    "list5.pop()"
   ]
  },
  {
   "cell_type": "code",
   "execution_count": 155,
   "id": "e2da2dd4",
   "metadata": {},
   "outputs": [
    {
     "data": {
      "text/plain": [
       "['start', 246, 64, 44, 32, 22, 9, 6, 1]"
      ]
     },
     "execution_count": 155,
     "metadata": {},
     "output_type": "execute_result"
    }
   ],
   "source": [
    "list5"
   ]
  },
  {
   "cell_type": "code",
   "execution_count": 156,
   "id": "72ee512c",
   "metadata": {},
   "outputs": [],
   "source": [
    "l1=[1,2,3]\n",
    "l2=[4,5,6]\n",
    "l3=[7,8,9]"
   ]
  },
  {
   "cell_type": "code",
   "execution_count": 157,
   "id": "d5d36363",
   "metadata": {},
   "outputs": [],
   "source": [
    "matrix=[l1,l2,l3]"
   ]
  },
  {
   "cell_type": "code",
   "execution_count": 158,
   "id": "2ecc8e55",
   "metadata": {},
   "outputs": [
    {
     "data": {
      "text/plain": [
       "6"
      ]
     },
     "execution_count": 158,
     "metadata": {},
     "output_type": "execute_result"
    }
   ],
   "source": [
    "matrix[1][2]"
   ]
  },
  {
   "cell_type": "code",
   "execution_count": 164,
   "id": "272e5019",
   "metadata": {},
   "outputs": [
    {
     "data": {
      "text/plain": [
       "[8, 9]"
      ]
     },
     "execution_count": 164,
     "metadata": {},
     "output_type": "execute_result"
    }
   ],
   "source": [
    "matrix[2][1:]"
   ]
  },
  {
   "cell_type": "code",
   "execution_count": 184,
   "id": "fcd8bd03",
   "metadata": {},
   "outputs": [
    {
     "data": {
      "text/plain": [
       "4"
      ]
     },
     "execution_count": 184,
     "metadata": {},
     "output_type": "execute_result"
    }
   ],
   "source": [
    "matrix[0][0]\n",
    "matrix[1][0]"
   ]
  },
  {
   "cell_type": "code",
   "execution_count": 186,
   "id": "321f48fa",
   "metadata": {},
   "outputs": [
    {
     "data": {
      "text/plain": [
       "[0, 1, 2, 3, 4, 5, 6, 7, 8, 9, 10, 11, 12, 13, 14, 15, 16, 17, 18, 19]"
      ]
     },
     "execution_count": 186,
     "metadata": {},
     "output_type": "execute_result"
    }
   ],
   "source": [
    "[i for i in range(20)]"
   ]
  },
  {
   "cell_type": "code",
   "execution_count": 188,
   "id": "df8df7f6",
   "metadata": {},
   "outputs": [
    {
     "data": {
      "text/plain": [
       "[0,\n",
       " ' ',\n",
       " 2,\n",
       " ' ',\n",
       " 4,\n",
       " ' ',\n",
       " 6,\n",
       " ' ',\n",
       " 8,\n",
       " ' ',\n",
       " 10,\n",
       " ' ',\n",
       " 12,\n",
       " ' ',\n",
       " 14,\n",
       " ' ',\n",
       " 16,\n",
       " ' ',\n",
       " 18,\n",
       " ' ']"
      ]
     },
     "execution_count": 188,
     "metadata": {},
     "output_type": "execute_result"
    }
   ],
   "source": [
    "[i if i%2==0 else ' ' for i in range(20)] #list comprehension"
   ]
  },
  {
   "cell_type": "code",
   "execution_count": 189,
   "id": "25fd294c",
   "metadata": {},
   "outputs": [],
   "source": [
    "lst=[1,2,3,4,5,6,7,8]"
   ]
  },
  {
   "cell_type": "code",
   "execution_count": 191,
   "id": "eb46e0eb",
   "metadata": {},
   "outputs": [
    {
     "name": "stdout",
     "output_type": "stream",
     "text": [
      "20\n",
      "16\n"
     ]
    }
   ],
   "source": [
    "even=0\n",
    "odd=0\n",
    "for i in lst:\n",
    "    if i%2==0:\n",
    "        even=even+i;\n",
    "    else:\n",
    "        odd=odd+i\n",
    "print(even)\n",
    "print(odd)"
   ]
  },
  {
   "cell_type": "code",
   "execution_count": 200,
   "id": "e24f22ac",
   "metadata": {},
   "outputs": [],
   "source": [
    "even=0\n",
    "odd=0\n",
    "even=sum([i for i in lst if i%2==0])"
   ]
  },
  {
   "cell_type": "code",
   "execution_count": 201,
   "id": "6fccba92",
   "metadata": {},
   "outputs": [],
   "source": [
    "odd=sum([i for i in lst if i%2==1])"
   ]
  },
  {
   "cell_type": "code",
   "execution_count": 202,
   "id": "a83c69c8",
   "metadata": {},
   "outputs": [
    {
     "data": {
      "text/plain": [
       "20"
      ]
     },
     "execution_count": 202,
     "metadata": {},
     "output_type": "execute_result"
    }
   ],
   "source": [
    "even"
   ]
  },
  {
   "cell_type": "code",
   "execution_count": 203,
   "id": "52febf0f",
   "metadata": {},
   "outputs": [
    {
     "data": {
      "text/plain": [
       "16"
      ]
     },
     "execution_count": 203,
     "metadata": {},
     "output_type": "execute_result"
    }
   ],
   "source": [
    "odd"
   ]
  },
  {
   "cell_type": "code",
   "execution_count": 204,
   "id": "d56978cc",
   "metadata": {},
   "outputs": [
    {
     "data": {
      "text/plain": [
       "[1, 4, 9, 16, 25, 36, 49, 64]"
      ]
     },
     "execution_count": 204,
     "metadata": {},
     "output_type": "execute_result"
    }
   ],
   "source": [
    "[i**2 for i in lst]"
   ]
  },
  {
   "cell_type": "code",
   "execution_count": 206,
   "id": "ef4e7088",
   "metadata": {},
   "outputs": [
    {
     "data": {
      "text/plain": [
       "[33.8, 35.6, 37.4, 39.2, 41.0, 42.8, 44.6, 46.4]"
      ]
     },
     "execution_count": 206,
     "metadata": {},
     "output_type": "execute_result"
    }
   ],
   "source": [
    "[(9/5)*i+32 for i in lst]"
   ]
  },
  {
   "cell_type": "code",
   "execution_count": 208,
   "id": "715c6382",
   "metadata": {},
   "outputs": [
    {
     "data": {
      "text/plain": [
       "[1, 2, 3, 4, 5, 6, 7, 8, 9]"
      ]
     },
     "execution_count": 208,
     "metadata": {},
     "output_type": "execute_result"
    }
   ],
   "source": [
    "[j for i in matrix for j in i]"
   ]
  },
  {
   "cell_type": "code",
   "execution_count": 256,
   "id": "38cf7f62",
   "metadata": {},
   "outputs": [
    {
     "name": "stdout",
     "output_type": "stream",
     "text": [
      "2 is prime number\n",
      "3 is prime number\n",
      "5 is prime number\n",
      "7 is prime number\n"
     ]
    }
   ],
   "source": [
    "prime_number=[1,2,3,4,5,6,7,8,9,10]\n",
    "for i in prime_number:\n",
    "    prime=0\n",
    "    for j in range(2,10):\n",
    "        if (i>1) and (i%j==0):\n",
    "            prime=prime+1\n",
    "    if prime==1:\n",
    "        print(i,'is prime number')"
   ]
  },
  {
   "cell_type": "code",
   "execution_count": 257,
   "id": "e623150b",
   "metadata": {},
   "outputs": [
    {
     "data": {
      "text/plain": [
       "[1, 2, 3, 5, 7]"
      ]
     },
     "execution_count": 257,
     "metadata": {},
     "output_type": "execute_result"
    }
   ],
   "source": [
    "[i for i in prime_number if 0 not in [i%j for j in range(2,int(i/2)+1) ]]"
   ]
  },
  {
   "cell_type": "code",
   "execution_count": 248,
   "id": "e2527944",
   "metadata": {},
   "outputs": [
    {
     "data": {
      "text/plain": [
       "[1, 0, 3]"
      ]
     },
     "execution_count": 248,
     "metadata": {},
     "output_type": "execute_result"
    }
   ],
   "source": [
    "[3%i for i in range(2,5)]\n"
   ]
  },
  {
   "cell_type": "code",
   "execution_count": 261,
   "id": "c2f31271",
   "metadata": {},
   "outputs": [
    {
     "name": "stdout",
     "output_type": "stream",
     "text": [
      "[[1, 1], [1, 2], [1, 3], [1, 4], [1, 5], [2, 1], [2, 2], [2, 3], [2, 4], [2, 5], [3, 1], [3, 2], [3, 3], [3, 4], [3, 5], [4, 1], [4, 2], [4, 3], [4, 4], [4, 5], [5, 1], [5, 2], [5, 3], [5, 4], [5, 5]]\n"
     ]
    }
   ],
   "source": [
    "res=[]\n",
    "numbers=[1,2,3,4,5]\n",
    "for i in numbers:\n",
    "    for j in numbers:\n",
    "        res.append([i,j])\n",
    "print(res)   "
   ]
  },
  {
   "cell_type": "code",
   "execution_count": 268,
   "id": "886aad47",
   "metadata": {},
   "outputs": [
    {
     "data": {
      "text/plain": [
       "[[1, 1],\n",
       " [1, 2],\n",
       " [1, 3],\n",
       " [1, 4],\n",
       " [1, 5],\n",
       " [2, 1],\n",
       " [2, 2],\n",
       " [2, 3],\n",
       " [2, 4],\n",
       " [2, 5],\n",
       " [3, 1],\n",
       " [3, 2],\n",
       " [3, 3],\n",
       " [3, 4],\n",
       " [3, 5],\n",
       " [4, 1],\n",
       " [4, 2],\n",
       " [4, 3],\n",
       " [4, 4],\n",
       " [4, 5],\n",
       " [5, 1],\n",
       " [5, 2],\n",
       " [5, 3],\n",
       " [5, 4],\n",
       " [5, 5]]"
      ]
     },
     "execution_count": 268,
     "metadata": {},
     "output_type": "execute_result"
    }
   ],
   "source": [
    "[[num,i] for num in numbers for i in numbers]"
   ]
  },
  {
   "cell_type": "code",
   "execution_count": 273,
   "id": "293683d1",
   "metadata": {},
   "outputs": [
    {
     "name": "stdout",
     "output_type": "stream",
     "text": [
      "     *\n",
      "    **\n",
      "   ***\n",
      "  ****\n",
      " *****\n"
     ]
    }
   ],
   "source": [
    "for i in range(1,5+1):\n",
    "    print(' '*(5-i),'*'*i)"
   ]
  },
  {
   "cell_type": "code",
   "execution_count": null,
   "id": "c2dc1da1",
   "metadata": {},
   "outputs": [],
   "source": []
  }
 ],
 "metadata": {
  "kernelspec": {
   "display_name": "Python 3 (ipykernel)",
   "language": "python",
   "name": "python3"
  },
  "language_info": {
   "codemirror_mode": {
    "name": "ipython",
    "version": 3
   },
   "file_extension": ".py",
   "mimetype": "text/x-python",
   "name": "python",
   "nbconvert_exporter": "python",
   "pygments_lexer": "ipython3",
   "version": "3.9.13"
  }
 },
 "nbformat": 4,
 "nbformat_minor": 5
}
