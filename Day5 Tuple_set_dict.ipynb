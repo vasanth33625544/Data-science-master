{
 "cells": [
  {
   "cell_type": "code",
   "execution_count": 1,
   "id": "fca6dc3e-02b5-4caf-82cc-b1263152ad5e",
   "metadata": {},
   "outputs": [],
   "source": [
    "t = ()"
   ]
  },
  {
   "cell_type": "code",
   "execution_count": 2,
   "id": "3b76edca-e7ec-4d61-b195-0425f9897b9a",
   "metadata": {},
   "outputs": [
    {
     "data": {
      "text/plain": [
       "tuple"
      ]
     },
     "execution_count": 2,
     "metadata": {},
     "output_type": "execute_result"
    }
   ],
   "source": [
    "type(t)"
   ]
  },
  {
   "cell_type": "code",
   "execution_count": 3,
   "id": "2e67b2af-4236-4190-815e-b262dbdf968b",
   "metadata": {},
   "outputs": [],
   "source": [
    "t1 = (1,2,3,4,45,45.45 , 45+7j , \"sudh\" , True,'vasanth')"
   ]
  },
  {
   "cell_type": "code",
   "execution_count": 4,
   "id": "ac1acea5-ebea-4849-9855-a9b245a142d4",
   "metadata": {},
   "outputs": [
    {
     "data": {
      "text/plain": [
       "tuple"
      ]
     },
     "execution_count": 4,
     "metadata": {},
     "output_type": "execute_result"
    }
   ],
   "source": [
    "type(t1)"
   ]
  },
  {
   "cell_type": "code",
   "execution_count": 20,
   "id": "56559382-9d65-4378-bac2-b7e1a5d95a31",
   "metadata": {},
   "outputs": [],
   "source": [
    "l = [1,2,3,4]"
   ]
  },
  {
   "cell_type": "code",
   "execution_count": 6,
   "id": "b4e79942-6fbb-49fa-92d8-30cfe4aaeeb3",
   "metadata": {},
   "outputs": [
    {
     "data": {
      "text/plain": [
       "list"
      ]
     },
     "execution_count": 6,
     "metadata": {},
     "output_type": "execute_result"
    }
   ],
   "source": [
    "type(l)"
   ]
  },
  {
   "cell_type": "code",
   "execution_count": 4,
   "id": "d3f7c784-4dc0-40cc-a012-0f37706011e8",
   "metadata": {},
   "outputs": [
    {
     "data": {
      "text/plain": [
       "(1, 2, 3, 4, 45, 45.45, (45+7j), 'sudh', True, 'vasanth')"
      ]
     },
     "execution_count": 4,
     "metadata": {},
     "output_type": "execute_result"
    }
   ],
   "source": [
    "t1"
   ]
  },
  {
   "cell_type": "code",
   "execution_count": 5,
   "id": "16304dc2-71ec-47e9-b509-b44ce1f27c04",
   "metadata": {},
   "outputs": [
    {
     "data": {
      "text/plain": [
       "'vasanth'"
      ]
     },
     "execution_count": 5,
     "metadata": {},
     "output_type": "execute_result"
    }
   ],
   "source": [
    "t1[-1]"
   ]
  },
  {
   "cell_type": "code",
   "execution_count": 6,
   "id": "b248ea6d-e653-438c-98ab-d4c238606c5a",
   "metadata": {},
   "outputs": [
    {
     "data": {
      "text/plain": [
       "True"
      ]
     },
     "execution_count": 6,
     "metadata": {},
     "output_type": "execute_result"
    }
   ],
   "source": [
    "t1[8]"
   ]
  },
  {
   "cell_type": "code",
   "execution_count": 8,
   "id": "a3103fe1-2521-4673-a3db-604c1b0ab549",
   "metadata": {},
   "outputs": [
    {
     "data": {
      "text/plain": [
       "(1, 2, 3, 4, 45, 45.45, (45+7j), 'sudh', True, 'vasanth')"
      ]
     },
     "execution_count": 8,
     "metadata": {},
     "output_type": "execute_result"
    }
   ],
   "source": [
    "t1[::-1]"
   ]
  },
  {
   "cell_type": "code",
   "execution_count": 7,
   "id": "77079f69-7475-4050-91a7-4a0ca5146919",
   "metadata": {},
   "outputs": [],
   "source": [
    "t1 = t1[::-1]"
   ]
  },
  {
   "cell_type": "code",
   "execution_count": 9,
   "id": "64cb600b-ca8d-4825-941e-1e427d27fe6e",
   "metadata": {},
   "outputs": [
    {
     "data": {
      "text/plain": [
       "('vasanth', True, 'sudh', (45+7j), 45.45, 45, 4, 3, 2, 1)"
      ]
     },
     "execution_count": 9,
     "metadata": {},
     "output_type": "execute_result"
    }
   ],
   "source": [
    "t1"
   ]
  },
  {
   "cell_type": "code",
   "execution_count": 10,
   "id": "7da6f608-eb57-46d4-ad17-7c4470fe8fb2",
   "metadata": {},
   "outputs": [
    {
     "data": {
      "text/plain": [
       "('vasanth', True, 'sudh')"
      ]
     },
     "execution_count": 10,
     "metadata": {},
     "output_type": "execute_result"
    }
   ],
   "source": [
    "t1[0:3]"
   ]
  },
  {
   "cell_type": "code",
   "execution_count": 11,
   "id": "dac8041a-76cc-4974-9943-daf464269454",
   "metadata": {},
   "outputs": [
    {
     "data": {
      "text/plain": [
       "('vasanth', True, 'sudh', (45+7j), 45.45, 45, 4, 3, 2, 1)"
      ]
     },
     "execution_count": 11,
     "metadata": {},
     "output_type": "execute_result"
    }
   ],
   "source": [
    "t1"
   ]
  },
  {
   "cell_type": "code",
   "execution_count": 12,
   "id": "2619beac-df73-46a5-ad21-80acdd3194f1",
   "metadata": {},
   "outputs": [
    {
     "data": {
      "text/plain": [
       "1"
      ]
     },
     "execution_count": 12,
     "metadata": {},
     "output_type": "execute_result"
    }
   ],
   "source": [
    "t1.count(45)"
   ]
  },
  {
   "cell_type": "code",
   "execution_count": 13,
   "id": "907d032f-f74d-407e-b8fa-f45efe231129",
   "metadata": {},
   "outputs": [
    {
     "data": {
      "text/plain": [
       "1"
      ]
     },
     "execution_count": 13,
     "metadata": {},
     "output_type": "execute_result"
    }
   ],
   "source": [
    "t1.count(\"vasanth\")"
   ]
  },
  {
   "cell_type": "code",
   "execution_count": 14,
   "id": "0ee0e705-4d7d-40ae-9ebe-ff276f311e97",
   "metadata": {},
   "outputs": [
    {
     "data": {
      "text/plain": [
       "5"
      ]
     },
     "execution_count": 14,
     "metadata": {},
     "output_type": "execute_result"
    }
   ],
   "source": [
    "t1.index(45)"
   ]
  },
  {
   "cell_type": "code",
   "execution_count": 15,
   "id": "9199eee6-0ad0-434f-9cad-99ee3d4f864f",
   "metadata": {},
   "outputs": [
    {
     "data": {
      "text/plain": [
       "2"
      ]
     },
     "execution_count": 15,
     "metadata": {},
     "output_type": "execute_result"
    }
   ],
   "source": [
    "t1.index(\"sudh\")"
   ]
  },
  {
   "cell_type": "code",
   "execution_count": 20,
   "id": "4a89768a-67eb-4b95-9a8e-1454e5c95e7a",
   "metadata": {},
   "outputs": [
    {
     "data": {
      "text/plain": [
       "(True, 'sudh', (45+7j), 45.45, 45, 4, 3, 2, 1)"
      ]
     },
     "execution_count": 20,
     "metadata": {},
     "output_type": "execute_result"
    }
   ],
   "source": [
    "t1"
   ]
  },
  {
   "cell_type": "code",
   "execution_count": 21,
   "id": "21b81500-824c-44a3-8b9e-174d59c1561e",
   "metadata": {},
   "outputs": [
    {
     "data": {
      "text/plain": [
       "2"
      ]
     },
     "execution_count": 21,
     "metadata": {},
     "output_type": "execute_result"
    }
   ],
   "source": [
    "t1.count(True)"
   ]
  },
  {
   "cell_type": "code",
   "execution_count": 16,
   "id": "5212b141-483e-4e99-a512-dbcb166692a9",
   "metadata": {},
   "outputs": [
    {
     "data": {
      "text/plain": [
       "2"
      ]
     },
     "execution_count": 16,
     "metadata": {},
     "output_type": "execute_result"
    }
   ],
   "source": [
    "t1.count(1)"
   ]
  },
  {
   "cell_type": "code",
   "execution_count": 17,
   "id": "230b6319-73d4-4f00-9713-3a3a0c739847",
   "metadata": {},
   "outputs": [
    {
     "data": {
      "text/plain": [
       "('vasanth', True, 'sudh', (45+7j), 45.45, 45, 4, 3, 2, 1)"
      ]
     },
     "execution_count": 17,
     "metadata": {},
     "output_type": "execute_result"
    }
   ],
   "source": [
    "t1 "
   ]
  },
  {
   "cell_type": "code",
   "execution_count": 21,
   "id": "87830278-7ee8-433a-9883-60f4cdf2ab4c",
   "metadata": {},
   "outputs": [
    {
     "data": {
      "text/plain": [
       "[1, 2, 3, 4]"
      ]
     },
     "execution_count": 21,
     "metadata": {},
     "output_type": "execute_result"
    }
   ],
   "source": [
    "l"
   ]
  },
  {
   "cell_type": "code",
   "execution_count": 22,
   "id": "5d87da6c-4884-4106-bd25-8c3a7dbe71c3",
   "metadata": {},
   "outputs": [
    {
     "data": {
      "text/plain": [
       "'vasanth'"
      ]
     },
     "execution_count": 22,
     "metadata": {},
     "output_type": "execute_result"
    }
   ],
   "source": [
    "t1[0]"
   ]
  },
  {
   "cell_type": "markdown",
   "id": "c72707eb-21b9-4b8c-a7bd-9b43d8227d9e",
   "metadata": {},
   "source": [
    "\"\"\"Tuple are basically follows  Immutability concepts where it is not going to allow to change any element at a perticular index\"\"\""
   ]
  },
  {
   "cell_type": "code",
   "execution_count": 26,
   "id": "3096a1fb-bc93-49e7-b620-aae6e8afc0bd",
   "metadata": {},
   "outputs": [],
   "source": [
    "l=list(t1)"
   ]
  },
  {
   "cell_type": "code",
   "execution_count": 27,
   "id": "bfd77697-e29f-4915-9c28-53ec99221f48",
   "metadata": {},
   "outputs": [
    {
     "data": {
      "text/plain": [
       "['vasanth', True, 'sudh', (45+7j), 45.45, 45, 4, 3, 2, 1]"
      ]
     },
     "execution_count": 27,
     "metadata": {},
     "output_type": "execute_result"
    }
   ],
   "source": [
    "l"
   ]
  },
  {
   "cell_type": "code",
   "execution_count": 28,
   "id": "fa90982f-a245-43b8-81ba-14d16952e66c",
   "metadata": {},
   "outputs": [],
   "source": [
    "l[0]='kumar'"
   ]
  },
  {
   "cell_type": "code",
   "execution_count": 29,
   "id": "db0b31f2-7af2-48d9-ae14-79f20179509b",
   "metadata": {},
   "outputs": [],
   "source": [
    "t1=tuple(l)"
   ]
  },
  {
   "cell_type": "code",
   "execution_count": 30,
   "id": "e6a54f60-11a7-42f8-b73a-8b208e90dc5e",
   "metadata": {},
   "outputs": [
    {
     "data": {
      "text/plain": [
       "('kumar', True, 'sudh', (45+7j), 45.45, 45, 4, 3, 2, 1)"
      ]
     },
     "execution_count": 30,
     "metadata": {},
     "output_type": "execute_result"
    }
   ],
   "source": [
    "t1"
   ]
  },
  {
   "cell_type": "code",
   "execution_count": 31,
   "id": "a27087c1-2110-4371-baad-0bc4aed839bc",
   "metadata": {},
   "outputs": [
    {
     "data": {
      "text/plain": [
       "('kumar', True, 'sudh', (45+7j), 45.45, 45, 4, 3, 2, 1)"
      ]
     },
     "execution_count": 31,
     "metadata": {},
     "output_type": "execute_result"
    }
   ],
   "source": [
    "t1"
   ]
  },
  {
   "cell_type": "code",
   "execution_count": 32,
   "id": "c23068a7-10bf-4e82-b3ac-3613277213a3",
   "metadata": {},
   "outputs": [
    {
     "name": "stdout",
     "output_type": "stream",
     "text": [
      "kumar <class 'str'>\n",
      "True <class 'bool'>\n",
      "sudh <class 'str'>\n",
      "(45+7j) <class 'complex'>\n",
      "45.45 <class 'float'>\n",
      "45 <class 'int'>\n",
      "4 <class 'int'>\n",
      "3 <class 'int'>\n",
      "2 <class 'int'>\n",
      "1 <class 'int'>\n"
     ]
    }
   ],
   "source": [
    "for i in t1 :\n",
    "    print(i , type(i))"
   ]
  },
  {
   "cell_type": "code",
   "execution_count": 33,
   "id": "9fe39ab9-657e-4b0d-8653-a486005c2031",
   "metadata": {},
   "outputs": [],
   "source": [
    "t2 = (4,5,6)"
   ]
  },
  {
   "cell_type": "code",
   "execution_count": 34,
   "id": "b53c85dc-8189-4a80-992e-d6b068f10dc8",
   "metadata": {},
   "outputs": [
    {
     "data": {
      "text/plain": [
       "(4, 5, 6, 4, 5, 6, 4, 5, 6)"
      ]
     },
     "execution_count": 34,
     "metadata": {},
     "output_type": "execute_result"
    }
   ],
   "source": [
    "t2*3"
   ]
  },
  {
   "cell_type": "code",
   "execution_count": 38,
   "id": "6eeb513d-ef9b-4da4-8b1b-7fc0e534501c",
   "metadata": {},
   "outputs": [
    {
     "data": {
      "text/plain": [
       "(4, 5, 6, 4, 5, 6, 4, 5, 6)"
      ]
     },
     "execution_count": 38,
     "metadata": {},
     "output_type": "execute_result"
    }
   ],
   "source": [
    "t2 * 3"
   ]
  },
  {
   "cell_type": "code",
   "execution_count": 39,
   "id": "0ea49a91-7479-4f22-bc9c-b1f28947595e",
   "metadata": {},
   "outputs": [
    {
     "data": {
      "text/plain": [
       "6"
      ]
     },
     "execution_count": 39,
     "metadata": {},
     "output_type": "execute_result"
    }
   ],
   "source": [
    "max(t2)"
   ]
  },
  {
   "cell_type": "code",
   "execution_count": 40,
   "id": "7ab77858-1491-4c8e-86f1-bc5aab74ec69",
   "metadata": {},
   "outputs": [
    {
     "data": {
      "text/plain": [
       "4"
      ]
     },
     "execution_count": 40,
     "metadata": {},
     "output_type": "execute_result"
    }
   ],
   "source": [
    "min(t2)"
   ]
  },
  {
   "cell_type": "code",
   "execution_count": 41,
   "id": "82d2942a-a60c-4d6e-a549-e79706038d27",
   "metadata": {},
   "outputs": [],
   "source": [
    "t1 = (1,2,32,4)\n",
    "t2 = (4,5,6,7,8)"
   ]
  },
  {
   "cell_type": "code",
   "execution_count": 42,
   "id": "f6eb60d1-1464-4207-a00f-98c051111057",
   "metadata": {},
   "outputs": [],
   "source": [
    "t3 = (t1,t2)"
   ]
  },
  {
   "cell_type": "code",
   "execution_count": 43,
   "id": "d80e48a7-cb7e-4554-883f-5fd6619e0572",
   "metadata": {},
   "outputs": [
    {
     "data": {
      "text/plain": [
       "((1, 2, 32, 4), (4, 5, 6, 7, 8))"
      ]
     },
     "execution_count": 43,
     "metadata": {},
     "output_type": "execute_result"
    }
   ],
   "source": [
    "t3"
   ]
  },
  {
   "cell_type": "code",
   "execution_count": 44,
   "id": "4207116e-8d9d-4b58-9ea8-998bc8046162",
   "metadata": {},
   "outputs": [],
   "source": [
    "t4 = ((1,2,3,4,5) , [1,3,5,6,7,8])"
   ]
  },
  {
   "cell_type": "code",
   "execution_count": 45,
   "id": "15956f01-2118-4317-af61-ee41b49f2237",
   "metadata": {},
   "outputs": [
    {
     "data": {
      "text/plain": [
       "((1, 2, 3, 4, 5), [1, 3, 5, 6, 7, 8])"
      ]
     },
     "execution_count": 45,
     "metadata": {},
     "output_type": "execute_result"
    }
   ],
   "source": [
    "t4"
   ]
  },
  {
   "cell_type": "code",
   "execution_count": 46,
   "id": "b893865e-4040-47ce-8acc-8ae347ab932d",
   "metadata": {},
   "outputs": [],
   "source": [
    "del t4"
   ]
  },
  {
   "cell_type": "code",
   "execution_count": 47,
   "id": "7d19406b-017f-4bd1-ba0e-cef2bea8c47e",
   "metadata": {},
   "outputs": [
    {
     "ename": "NameError",
     "evalue": "name 't4' is not defined",
     "output_type": "error",
     "traceback": [
      "\u001b[0;31m---------------------------------------------------------------------------\u001b[0m",
      "\u001b[0;31mNameError\u001b[0m                                 Traceback (most recent call last)",
      "Cell \u001b[0;32mIn[47], line 1\u001b[0m\n\u001b[0;32m----> 1\u001b[0m \u001b[43mt4\u001b[49m\n",
      "\u001b[0;31mNameError\u001b[0m: name 't4' is not defined"
     ]
    }
   ],
   "source": [
    "t4"
   ]
  },
  {
   "cell_type": "code",
   "execution_count": 48,
   "id": "e9b13d1c-b671-48fe-869b-c68469882542",
   "metadata": {},
   "outputs": [
    {
     "data": {
      "text/plain": [
       "(1, 2, 32, 4)"
      ]
     },
     "execution_count": 48,
     "metadata": {},
     "output_type": "execute_result"
    }
   ],
   "source": [
    "t1"
   ]
  },
  {
   "cell_type": "code",
   "execution_count": 49,
   "id": "8fd7ca50-cfae-491c-823a-f737c5c44062",
   "metadata": {},
   "outputs": [
    {
     "data": {
      "text/plain": [
       "4"
      ]
     },
     "execution_count": 49,
     "metadata": {},
     "output_type": "execute_result"
    }
   ],
   "source": [
    "len(t1)"
   ]
  },
  {
   "cell_type": "code",
   "execution_count": 50,
   "id": "e1e04ddf-bc92-4b6e-ae91-e1aeb9e3e078",
   "metadata": {},
   "outputs": [
    {
     "data": {
      "text/plain": [
       "(1, 2, 32, 4)"
      ]
     },
     "execution_count": 50,
     "metadata": {},
     "output_type": "execute_result"
    }
   ],
   "source": [
    "t1"
   ]
  },
  {
   "cell_type": "code",
   "execution_count": 51,
   "id": "2c1a6468-ebc9-4cc6-a2c4-185f48266256",
   "metadata": {},
   "outputs": [
    {
     "data": {
      "text/plain": [
       "False"
      ]
     },
     "execution_count": 51,
     "metadata": {},
     "output_type": "execute_result"
    }
   ],
   "source": [
    "\"sudh\" in t1"
   ]
  },
  {
   "cell_type": "code",
   "execution_count": 52,
   "id": "74086dd0-0e76-409f-b5ad-1886912ff5f4",
   "metadata": {},
   "outputs": [
    {
     "data": {
      "text/plain": [
       "True"
      ]
     },
     "execution_count": 52,
     "metadata": {},
     "output_type": "execute_result"
    }
   ],
   "source": [
    "2 in t1"
   ]
  },
  {
   "cell_type": "code",
   "execution_count": 41,
   "id": "79397a3b-162b-45e0-8782-25098136810d",
   "metadata": {},
   "outputs": [],
   "source": [
    "atuple = (100, 200, 300, 400, 500)"
   ]
  },
  {
   "cell_type": "code",
   "execution_count": 44,
   "id": "a33a0b41-a0fc-4476-9291-484006215340",
   "metadata": {},
   "outputs": [
    {
     "name": "stdout",
     "output_type": "stream",
     "text": [
      "(200, 300, 400)\n"
     ]
    }
   ],
   "source": [
    "print(atuple[-4:-1])"
   ]
  },
  {
   "cell_type": "code",
   "execution_count": 49,
   "id": "991030a9-79fb-4614-9772-9b88263e86b3",
   "metadata": {},
   "outputs": [
    {
     "name": "stdout",
     "output_type": "stream",
     "text": [
      "200\n"
     ]
    }
   ],
   "source": [
    "atuple = (100)\n",
    "\n",
    "print(atuple*2)"
   ]
  },
  {
   "cell_type": "code",
   "execution_count": 46,
   "id": "2e1439c5-da7b-44fa-808a-b9eef3c7a019",
   "metadata": {},
   "outputs": [
    {
     "data": {
      "text/plain": [
       "str"
      ]
     },
     "execution_count": 46,
     "metadata": {},
     "output_type": "execute_result"
    }
   ],
   "source": [
    "type(atuple)"
   ]
  },
  {
   "cell_type": "code",
   "execution_count": 56,
   "id": "632bb8ea-4e5f-46c2-bc5f-4806eafeb21b",
   "metadata": {},
   "outputs": [],
   "source": [
    "s1={}"
   ]
  },
  {
   "cell_type": "code",
   "execution_count": 58,
   "id": "60887d7d-0996-4294-8c04-897102a1b65f",
   "metadata": {},
   "outputs": [
    {
     "data": {
      "text/plain": [
       "dict"
      ]
     },
     "execution_count": 58,
     "metadata": {},
     "output_type": "execute_result"
    }
   ],
   "source": [
    "type(s1)"
   ]
  },
  {
   "cell_type": "code",
   "execution_count": 59,
   "id": "66629fa4-7058-4266-a328-c9b1c13d868e",
   "metadata": {},
   "outputs": [],
   "source": [
    "s1={1,2,3,1,2,3,4,5,6,1,24,45}"
   ]
  },
  {
   "cell_type": "code",
   "execution_count": 60,
   "id": "d16a2af8-700e-4231-bfeb-f6e5ba78436e",
   "metadata": {},
   "outputs": [
    {
     "data": {
      "text/plain": [
       "set"
      ]
     },
     "execution_count": 60,
     "metadata": {},
     "output_type": "execute_result"
    }
   ],
   "source": [
    "type(s1)"
   ]
  },
  {
   "cell_type": "code",
   "execution_count": 61,
   "id": "246b078a-1697-49aa-a20a-5eed9cbe38ca",
   "metadata": {},
   "outputs": [
    {
     "data": {
      "text/plain": [
       "{1, 2, 3, 4, 5, 6, 24, 45}"
      ]
     },
     "execution_count": 61,
     "metadata": {},
     "output_type": "execute_result"
    }
   ],
   "source": [
    "s1"
   ]
  },
  {
   "cell_type": "code",
   "execution_count": 62,
   "id": "500fa18f-22f8-4615-9103-a0636f4b6ce2",
   "metadata": {},
   "outputs": [
    {
     "ename": "TypeError",
     "evalue": "unhashable type: 'list'",
     "output_type": "error",
     "traceback": [
      "\u001b[0;31m---------------------------------------------------------------------------\u001b[0m",
      "\u001b[0;31mTypeError\u001b[0m                                 Traceback (most recent call last)",
      "Cell \u001b[0;32mIn[62], line 1\u001b[0m\n\u001b[0;32m----> 1\u001b[0m s2\u001b[38;5;241m=\u001b[39m{\u001b[38;5;241m1\u001b[39m,\u001b[38;5;241m2\u001b[39m,\u001b[38;5;241m3\u001b[39m,\u001b[38;5;241m4\u001b[39m,\u001b[38;5;241m5\u001b[39m,\u001b[38;5;241m6\u001b[39m,\u001b[38;5;241m7\u001b[39m,[\u001b[38;5;241m1\u001b[39m,\u001b[38;5;241m2\u001b[39m,\u001b[38;5;241m34\u001b[39m,\u001b[38;5;241m5\u001b[39m,\u001b[38;5;241m5\u001b[39m]}\n",
      "\u001b[0;31mTypeError\u001b[0m: unhashable type: 'list'"
     ]
    }
   ],
   "source": [
    "s2={1,2,3,4,5,6,7,[1,2,34,5,5]}"
   ]
  },
  {
   "cell_type": "code",
   "execution_count": 71,
   "id": "60d97e2c-37e3-4e8f-b198-36771d0878dc",
   "metadata": {},
   "outputs": [],
   "source": [
    "s2={1,2,3,4,5,6,7,(1,2,34,5,5)}"
   ]
  },
  {
   "cell_type": "code",
   "execution_count": 64,
   "id": "fe0b9dd7-5e1c-4721-b6a5-055c61376ad4",
   "metadata": {},
   "outputs": [
    {
     "data": {
      "text/plain": [
       "{(1, 2, 34, 5, 5), 1, 2, 3, 4, 5, 6, 7}"
      ]
     },
     "execution_count": 64,
     "metadata": {},
     "output_type": "execute_result"
    }
   ],
   "source": [
    "s2"
   ]
  },
  {
   "cell_type": "code",
   "execution_count": 65,
   "id": "12e76f05-2f53-49ab-8354-b8b41cd3a034",
   "metadata": {},
   "outputs": [],
   "source": [
    "s1.add('ff')"
   ]
  },
  {
   "cell_type": "code",
   "execution_count": 79,
   "id": "0bb94fe1-1a7c-442c-bcfb-277040385be6",
   "metadata": {},
   "outputs": [],
   "source": [
    "set2 = set(set1)"
   ]
  },
  {
   "cell_type": "code",
   "execution_count": 67,
   "id": "0b5d13a3-c5cd-4a19-a8fd-952a6a2aac1f",
   "metadata": {},
   "outputs": [],
   "source": [
    "s1.clear()"
   ]
  },
  {
   "cell_type": "code",
   "execution_count": 72,
   "id": "13ffc7d6-4ab1-47c3-9d87-84830065de0b",
   "metadata": {},
   "outputs": [],
   "source": [
    "s1=s2.copy()"
   ]
  },
  {
   "cell_type": "code",
   "execution_count": 73,
   "id": "97976617-ece6-4a31-8200-a1edef6f9523",
   "metadata": {},
   "outputs": [],
   "source": [
    "s2=s1"
   ]
  },
  {
   "cell_type": "code",
   "execution_count": 74,
   "id": "80f7ea02-0200-4f50-ad33-8ed483d90c2e",
   "metadata": {},
   "outputs": [],
   "source": [
    "s3=s2.update()"
   ]
  },
  {
   "cell_type": "code",
   "execution_count": 76,
   "id": "fc202f0b-4e5a-4c20-908a-a263bdd214f3",
   "metadata": {},
   "outputs": [],
   "source": [
    "s3"
   ]
  },
  {
   "cell_type": "code",
   "execution_count": 77,
   "id": "4927a532-2e97-4f39-aff0-6965aaefef64",
   "metadata": {},
   "outputs": [
    {
     "data": {
      "text/plain": [
       "{(1, 2, 34, 5, 5), 1, 2, 3, 4, 5, 6, 7}"
      ]
     },
     "execution_count": 77,
     "metadata": {},
     "output_type": "execute_result"
    }
   ],
   "source": [
    "s2"
   ]
  },
  {
   "cell_type": "code",
   "execution_count": 80,
   "id": "07ea638a-b9c1-4c8b-a3d8-2452b4d65d03",
   "metadata": {},
   "outputs": [],
   "source": [
    "set1 = {\"Yellow\", \"Orange\", \"Black\"}\n",
    "\n",
    "set2 = {\"Orange\", \"Blue\", \"Pink\"}"
   ]
  },
  {
   "cell_type": "code",
   "execution_count": 82,
   "id": "d37644f9-02d2-447e-93f3-471bfe281dbf",
   "metadata": {},
   "outputs": [
    {
     "data": {
      "text/plain": [
       "{'Blue', 'Pink'}"
      ]
     },
     "execution_count": 82,
     "metadata": {},
     "output_type": "execute_result"
    }
   ],
   "source": [
    "set2.difference(set1)"
   ]
  },
  {
   "cell_type": "code",
   "execution_count": 83,
   "id": "1ec8baab-0f25-4467-9da2-9806f4dbcafc",
   "metadata": {},
   "outputs": [
    {
     "data": {
      "text/plain": [
       "{'Black', 'Blue', 'Orange', 'Pink', 'Yellow'}"
      ]
     },
     "execution_count": 83,
     "metadata": {},
     "output_type": "execute_result"
    }
   ],
   "source": [
    "set1.union(set2)"
   ]
  },
  {
   "cell_type": "code",
   "execution_count": 84,
   "id": "7d0bd309-6c2a-46d7-9ffe-2ef327ee0d76",
   "metadata": {},
   "outputs": [
    {
     "data": {
      "text/plain": [
       "{'Orange'}"
      ]
     },
     "execution_count": 84,
     "metadata": {},
     "output_type": "execute_result"
    }
   ],
   "source": [
    "set1.intersection(set2)"
   ]
  },
  {
   "cell_type": "markdown",
   "id": "8ddea920-0e4e-4241-a932-b5433d458921",
   "metadata": {},
   "source": [
    "# Dictonary"
   ]
  },
  {
   "cell_type": "code",
   "execution_count": 85,
   "id": "b38b3f59-3987-4096-a67e-d4e9e29425f7",
   "metadata": {},
   "outputs": [],
   "source": [
    "d={}"
   ]
  },
  {
   "cell_type": "code",
   "execution_count": 86,
   "id": "e77d01b8-9821-4646-ab57-a3c6a3d227bb",
   "metadata": {},
   "outputs": [
    {
     "data": {
      "text/plain": [
       "dict"
      ]
     },
     "execution_count": 86,
     "metadata": {},
     "output_type": "execute_result"
    }
   ],
   "source": [
    "type(d)"
   ]
  },
  {
   "cell_type": "code",
   "execution_count": 87,
   "id": "bc4c047d-efa9-4f3d-8026-2357afc0684a",
   "metadata": {},
   "outputs": [],
   "source": [
    "d1={'name':'Vasanth','email_id':'vasu0920@gamil.com','number':33444}"
   ]
  },
  {
   "cell_type": "code",
   "execution_count": 88,
   "id": "00c0d832-1aa7-45a8-8a07-9ff08b51d172",
   "metadata": {},
   "outputs": [
    {
     "data": {
      "text/plain": [
       "{'name': 'Vasanth', 'email_id': 'vasu0920@gamil.com', 'number': 33444}"
      ]
     },
     "execution_count": 88,
     "metadata": {},
     "output_type": "execute_result"
    }
   ],
   "source": [
    "d1"
   ]
  },
  {
   "cell_type": "code",
   "execution_count": 94,
   "id": "357ef6fa-4918-414d-b9f3-caebcf1b4d35",
   "metadata": {},
   "outputs": [
    {
     "data": {
      "text/plain": [
       "dict_keys(['name', 'email_id', 'number'])"
      ]
     },
     "execution_count": 94,
     "metadata": {},
     "output_type": "execute_result"
    }
   ],
   "source": [
    "d1.keys()"
   ]
  },
  {
   "cell_type": "code",
   "execution_count": 95,
   "id": "b5ef6dec-57e2-45aa-8fd2-9f34fbbaf744",
   "metadata": {},
   "outputs": [
    {
     "data": {
      "text/plain": [
       "dict_values(['Vasanth', 'vasu0920@gamil.com', 33444])"
      ]
     },
     "execution_count": 95,
     "metadata": {},
     "output_type": "execute_result"
    }
   ],
   "source": [
    "d1.values()"
   ]
  },
  {
   "cell_type": "code",
   "execution_count": 96,
   "id": "60f00ecb-b7e0-48df-bc44-26e71424e06d",
   "metadata": {},
   "outputs": [],
   "source": [
    "d1[34]='gfs'"
   ]
  },
  {
   "cell_type": "code",
   "execution_count": 97,
   "id": "b587a1b0-e08f-4c64-9534-bc3dec05567b",
   "metadata": {},
   "outputs": [
    {
     "data": {
      "text/plain": [
       "{'name': 'Vasanth',\n",
       " 'email_id': 'vasu0920@gamil.com',\n",
       " 'number': 33444,\n",
       " 34: 'gfs'}"
      ]
     },
     "execution_count": 97,
     "metadata": {},
     "output_type": "execute_result"
    }
   ],
   "source": [
    "d1"
   ]
  },
  {
   "cell_type": "code",
   "execution_count": 1,
   "id": "b5f267a2-7ac6-491b-acd7-5b3fb0458418",
   "metadata": {},
   "outputs": [],
   "source": [
    "d1={23:'fff'}"
   ]
  },
  {
   "cell_type": "code",
   "execution_count": 2,
   "id": "d4f30420-7361-4bc6-8526-c2ed61da2613",
   "metadata": {},
   "outputs": [],
   "source": [
    "d1={2.4:'dsd'}"
   ]
  },
  {
   "cell_type": "code",
   "execution_count": 3,
   "id": "c86b77a1-0070-4537-b75d-ff5f20e96194",
   "metadata": {},
   "outputs": [
    {
     "ename": "SyntaxError",
     "evalue": "invalid syntax (2367824295.py, line 1)",
     "output_type": "error",
     "traceback": [
      "\u001b[0;36m  Cell \u001b[0;32mIn[3], line 1\u001b[0;36m\u001b[0m\n\u001b[0;31m    d1={@:22}\u001b[0m\n\u001b[0m        ^\u001b[0m\n\u001b[0;31mSyntaxError\u001b[0m\u001b[0;31m:\u001b[0m invalid syntax\n"
     ]
    }
   ],
   "source": [
    "    d1={@:22}"
   ]
  },
  {
   "cell_type": "code",
   "execution_count": 4,
   "id": "0d90c840-417e-45cb-a1b6-0be7568e8267",
   "metadata": {},
   "outputs": [
    {
     "ename": "TypeError",
     "evalue": "unhashable type: 'list'",
     "output_type": "error",
     "traceback": [
      "\u001b[0;31m---------------------------------------------------------------------------\u001b[0m",
      "\u001b[0;31mTypeError\u001b[0m                                 Traceback (most recent call last)",
      "Cell \u001b[0;32mIn[4], line 1\u001b[0m\n\u001b[0;32m----> 1\u001b[0m d1\u001b[38;5;241m=\u001b[39m{[\u001b[38;5;241m1\u001b[39m,\u001b[38;5;241m2\u001b[39m,\u001b[38;5;241m3\u001b[39m]:\u001b[38;5;124m'\u001b[39m\u001b[38;5;124mff\u001b[39m\u001b[38;5;124m'\u001b[39m}\n",
      "\u001b[0;31mTypeError\u001b[0m: unhashable type: 'list'"
     ]
    }
   ],
   "source": [
    "d1={[1,2,3]:'ff'}"
   ]
  },
  {
   "cell_type": "code",
   "execution_count": 5,
   "id": "cc5540b9-4ea5-4bd1-b5da-6479bc8f536b",
   "metadata": {},
   "outputs": [],
   "source": [
    "d1={(1,2,3):'dfdfd'}"
   ]
  },
  {
   "cell_type": "code",
   "execution_count": 6,
   "id": "f9a4cc96-b103-4729-ab4d-f1cbe9a743b0",
   "metadata": {},
   "outputs": [
    {
     "data": {
      "text/plain": [
       "{(1, 2, 3): 'dfdfd'}"
      ]
     },
     "execution_count": 6,
     "metadata": {},
     "output_type": "execute_result"
    }
   ],
   "source": [
    "d1"
   ]
  },
  {
   "cell_type": "code",
   "execution_count": 7,
   "id": "362475b5-83d6-4110-9c9c-d28fe9dd8644",
   "metadata": {},
   "outputs": [
    {
     "ename": "TypeError",
     "evalue": "unhashable type: 'set'",
     "output_type": "error",
     "traceback": [
      "\u001b[0;31m---------------------------------------------------------------------------\u001b[0m",
      "\u001b[0;31mTypeError\u001b[0m                                 Traceback (most recent call last)",
      "Cell \u001b[0;32mIn[7], line 1\u001b[0m\n\u001b[0;32m----> 1\u001b[0m d1\u001b[38;5;241m=\u001b[39m{{\u001b[38;5;241m1\u001b[39m,\u001b[38;5;241m2\u001b[39m,\u001b[38;5;241m34\u001b[39m}:\u001b[38;5;124m'\u001b[39m\u001b[38;5;124msvfs\u001b[39m\u001b[38;5;124m'\u001b[39m}\n",
      "\u001b[0;31mTypeError\u001b[0m: unhashable type: 'set'"
     ]
    }
   ],
   "source": [
    "d1={{1,2,34}:'svfs'}"
   ]
  },
  {
   "cell_type": "code",
   "execution_count": 8,
   "id": "b1154f1b-70ee-42bb-98c0-0f151f459cfb",
   "metadata": {},
   "outputs": [
    {
     "ename": "TypeError",
     "evalue": "unhashable type: 'dict'",
     "output_type": "error",
     "traceback": [
      "\u001b[0;31m---------------------------------------------------------------------------\u001b[0m",
      "\u001b[0;31mTypeError\u001b[0m                                 Traceback (most recent call last)",
      "Cell \u001b[0;32mIn[8], line 1\u001b[0m\n\u001b[0;32m----> 1\u001b[0m d1\u001b[38;5;241m=\u001b[39m{{\u001b[38;5;241m12\u001b[39m:\u001b[38;5;241m12\u001b[39m}:\u001b[38;5;124m'\u001b[39m\u001b[38;5;124madb\u001b[39m\u001b[38;5;124m'\u001b[39m}\n",
      "\u001b[0;31mTypeError\u001b[0m: unhashable type: 'dict'"
     ]
    }
   ],
   "source": [
    "d1={{12:12}:'adb'}"
   ]
  },
  {
   "cell_type": "code",
   "execution_count": 9,
   "id": "5aab38e3-865c-4192-a1a7-eaeba37c7191",
   "metadata": {},
   "outputs": [],
   "source": [
    "d4={'adc':{1:2}}"
   ]
  },
  {
   "cell_type": "code",
   "execution_count": 10,
   "id": "73f6ef29-e347-4694-b51a-c862b3672df7",
   "metadata": {},
   "outputs": [
    {
     "data": {
      "text/plain": [
       "{'adc': {1: 2}}"
      ]
     },
     "execution_count": 10,
     "metadata": {},
     "output_type": "execute_result"
    }
   ],
   "source": [
    "d4"
   ]
  },
  {
   "cell_type": "code",
   "execution_count": 14,
   "id": "e32c4872-e67f-45b6-b2b8-5a2d308f1d36",
   "metadata": {},
   "outputs": [
    {
     "data": {
      "text/plain": [
       "2"
      ]
     },
     "execution_count": 14,
     "metadata": {},
     "output_type": "execute_result"
    }
   ],
   "source": [
    "d4['adc'][1]"
   ]
  },
  {
   "cell_type": "code",
   "execution_count": 15,
   "id": "d835349e-8d53-44a2-937a-43ab53b56a95",
   "metadata": {},
   "outputs": [
    {
     "data": {
      "text/plain": [
       "dict_keys(['adc'])"
      ]
     },
     "execution_count": 15,
     "metadata": {},
     "output_type": "execute_result"
    }
   ],
   "source": [
    "d4.keys()"
   ]
  },
  {
   "cell_type": "code",
   "execution_count": 16,
   "id": "175ac952-057d-4e6a-8e1c-6ef69688c36f",
   "metadata": {},
   "outputs": [
    {
     "data": {
      "text/plain": [
       "{1: 2}"
      ]
     },
     "execution_count": 16,
     "metadata": {},
     "output_type": "execute_result"
    }
   ],
   "source": [
    "d4.get('adc')"
   ]
  },
  {
   "cell_type": "code",
   "execution_count": 17,
   "id": "a5366507-4576-4e09-acfc-02f254f896a2",
   "metadata": {},
   "outputs": [],
   "source": [
    "d4={'course name':['data master','stackoverflow','ai']}"
   ]
  },
  {
   "cell_type": "code",
   "execution_count": 18,
   "id": "c0f3ddd6-bca0-48ca-a657-daf22bdcd337",
   "metadata": {},
   "outputs": [
    {
     "data": {
      "text/plain": [
       "{'course name': ['data master', 'stackoverflow', 'ai']}"
      ]
     },
     "execution_count": 18,
     "metadata": {},
     "output_type": "execute_result"
    }
   ],
   "source": [
    "d4"
   ]
  },
  {
   "cell_type": "code",
   "execution_count": 19,
   "id": "655ef477-c282-4600-842a-2c49576f6ad0",
   "metadata": {},
   "outputs": [],
   "source": [
    "    d5={'key':(1,2,3,4,5)}"
   ]
  },
  {
   "cell_type": "code",
   "execution_count": 20,
   "id": "03d0da6c-7093-451a-a9b7-30464d956f2b",
   "metadata": {},
   "outputs": [],
   "source": [
    "d6={'keys':{1,2,3,4,5}}"
   ]
  },
  {
   "cell_type": "code",
   "execution_count": 21,
   "id": "e9f45f84-bbac-4f2e-990c-f8f46ba5ae7c",
   "metadata": {},
   "outputs": [],
   "source": [
    "d7={'keys':{'a':123,'b':455}}"
   ]
  },
  {
   "cell_type": "code",
   "execution_count": 22,
   "id": "79e895bb-e334-46fc-8564-1b3efa0abd08",
   "metadata": {},
   "outputs": [
    {
     "data": {
      "text/plain": [
       "{'keys': {'a': 123, 'b': 455}}"
      ]
     },
     "execution_count": 22,
     "metadata": {},
     "output_type": "execute_result"
    }
   ],
   "source": [
    "d7"
   ]
  },
  {
   "cell_type": "code",
   "execution_count": 23,
   "id": "309466e2-7cbe-403a-a682-7a461530b151",
   "metadata": {},
   "outputs": [
    {
     "data": {
      "text/plain": [
       "dict_keys(['keys'])"
      ]
     },
     "execution_count": 23,
     "metadata": {},
     "output_type": "execute_result"
    }
   ],
   "source": [
    "d7.keys()"
   ]
  },
  {
   "cell_type": "code",
   "execution_count": 25,
   "id": "2ddbe7ed-f31a-4ff4-bd7a-87d4d65d0bb1",
   "metadata": {},
   "outputs": [
    {
     "data": {
      "text/plain": [
       "dict_values([{'a': 123, 'b': 455}])"
      ]
     },
     "execution_count": 25,
     "metadata": {},
     "output_type": "execute_result"
    }
   ],
   "source": [
    "d7.values()"
   ]
  },
  {
   "cell_type": "code",
   "execution_count": 26,
   "id": "a577ceb5-14fa-419a-8cec-3c4c12ce2ecc",
   "metadata": {},
   "outputs": [],
   "source": [
    "d8={'Batch_name':['data_master','webdev','jds'],'start_date':[29,28,31],'mentor_name':{'krish naik','sudanshu','navin'}}"
   ]
  },
  {
   "cell_type": "code",
   "execution_count": 27,
   "id": "940dbaee-b8e2-44d9-bfd7-a5fee4eb20e5",
   "metadata": {},
   "outputs": [
    {
     "data": {
      "text/plain": [
       "{'Batch_name': ['data_master', 'webdev', 'jds'],\n",
       " 'start_date': [29, 28, 31],\n",
       " 'mentor_name': {'krish naik', 'navin', 'sudanshu'}}"
      ]
     },
     "execution_count": 27,
     "metadata": {},
     "output_type": "execute_result"
    }
   ],
   "source": [
    "d8"
   ]
  },
  {
   "cell_type": "code",
   "execution_count": 28,
   "id": "514623a2-3280-45b2-ac9d-4f1362553408",
   "metadata": {},
   "outputs": [],
   "source": [
    "d8['timings']=(8,8,8)"
   ]
  },
  {
   "cell_type": "code",
   "execution_count": 29,
   "id": "302e5874-f74b-4978-b933-4964ae795cd0",
   "metadata": {},
   "outputs": [
    {
     "data": {
      "text/plain": [
       "{'Batch_name': ['data_master', 'webdev', 'jds'],\n",
       " 'start_date': [29, 28, 31],\n",
       " 'mentor_name': {'krish naik', 'navin', 'sudanshu'},\n",
       " 'timings': (8, 8, 8)}"
      ]
     },
     "execution_count": 29,
     "metadata": {},
     "output_type": "execute_result"
    }
   ],
   "source": [
    "d8"
   ]
  },
  {
   "cell_type": "code",
   "execution_count": 30,
   "id": "c20f08af-8a68-4b08-a6c9-55e9ef575b4d",
   "metadata": {},
   "outputs": [],
   "source": [
    "del d8['timings']"
   ]
  },
  {
   "cell_type": "code",
   "execution_count": 31,
   "id": "0f2bc267-ad70-4bff-ad0b-ea87029c87e8",
   "metadata": {},
   "outputs": [
    {
     "data": {
      "text/plain": [
       "{'Batch_name': ['data_master', 'webdev', 'jds'],\n",
       " 'start_date': [29, 28, 31],\n",
       " 'mentor_name': {'krish naik', 'navin', 'sudanshu'}}"
      ]
     },
     "execution_count": 31,
     "metadata": {},
     "output_type": "execute_result"
    }
   ],
   "source": [
    "d8"
   ]
  },
  {
   "cell_type": "code",
   "execution_count": 32,
   "id": "a9655318-0127-46cb-88fe-a3bc6b2866b2",
   "metadata": {},
   "outputs": [],
   "source": [
    "d7.clear()"
   ]
  },
  {
   "cell_type": "code",
   "execution_count": 34,
   "id": "f6fff2b7-7dd9-4a39-9c72-2c51a61a29e7",
   "metadata": {},
   "outputs": [
    {
     "data": {
      "text/plain": [
       "3"
      ]
     },
     "execution_count": 34,
     "metadata": {},
     "output_type": "execute_result"
    }
   ],
   "source": [
    "len(d8)"
   ]
  },
  {
   "cell_type": "code",
   "execution_count": 35,
   "id": "77e1a9b7-18e9-4dd2-9b0b-05392c7f64c2",
   "metadata": {},
   "outputs": [
    {
     "data": {
      "text/plain": [
       "dict_items([('Batch_name', ['data_master', 'webdev', 'jds']), ('start_date', [29, 28, 31]), ('mentor_name', {'sudanshu', 'krish naik', 'navin'})])"
      ]
     },
     "execution_count": 35,
     "metadata": {},
     "output_type": "execute_result"
    }
   ],
   "source": [
    "d8.items()"
   ]
  },
  {
   "cell_type": "code",
   "execution_count": 36,
   "id": "d2113d4e-0b45-4587-b563-6eb459f19a20",
   "metadata": {},
   "outputs": [],
   "source": [
    "d9=d8.copy()"
   ]
  },
  {
   "cell_type": "code",
   "execution_count": 37,
   "id": "010c3644-bf39-46a8-b7ee-21c84bf478f4",
   "metadata": {},
   "outputs": [
    {
     "data": {
      "text/plain": [
       "{'Batch_name': ['data_master', 'webdev', 'jds'],\n",
       " 'start_date': [29, 28, 31],\n",
       " 'mentor_name': {'krish naik', 'navin', 'sudanshu'}}"
      ]
     },
     "execution_count": 37,
     "metadata": {},
     "output_type": "execute_result"
    }
   ],
   "source": [
    "d9"
   ]
  },
  {
   "cell_type": "code",
   "execution_count": 38,
   "id": "e37ecc23-faa3-4d45-8ca8-e6beca446bac",
   "metadata": {},
   "outputs": [],
   "source": [
    "d10=d8"
   ]
  },
  {
   "cell_type": "code",
   "execution_count": 39,
   "id": "b5471847-5055-46f3-a533-516e0a125d71",
   "metadata": {},
   "outputs": [],
   "source": [
    "del d9['start_date']"
   ]
  },
  {
   "cell_type": "code",
   "execution_count": 40,
   "id": "c6c31f8b-d849-45c8-bfb8-f00faa931027",
   "metadata": {},
   "outputs": [
    {
     "data": {
      "text/plain": [
       "{'Batch_name': ['data_master', 'webdev', 'jds'],\n",
       " 'mentor_name': {'krish naik', 'navin', 'sudanshu'}}"
      ]
     },
     "execution_count": 40,
     "metadata": {},
     "output_type": "execute_result"
    }
   ],
   "source": [
    "d9"
   ]
  },
  {
   "cell_type": "code",
   "execution_count": 41,
   "id": "1ed2a339-d232-4608-931c-59c5de60a5fe",
   "metadata": {},
   "outputs": [
    {
     "data": {
      "text/plain": [
       "{'Batch_name': ['data_master', 'webdev', 'jds'],\n",
       " 'start_date': [29, 28, 31],\n",
       " 'mentor_name': {'krish naik', 'navin', 'sudanshu'}}"
      ]
     },
     "execution_count": 41,
     "metadata": {},
     "output_type": "execute_result"
    }
   ],
   "source": [
    "d8"
   ]
  },
  {
   "cell_type": "code",
   "execution_count": 42,
   "id": "03d7eb55-831d-452d-b979-41636db5b114",
   "metadata": {},
   "outputs": [],
   "source": [
    "del d10['start_date']"
   ]
  },
  {
   "cell_type": "code",
   "execution_count": 43,
   "id": "f31ec9d1-73a0-40dc-9c3d-260bdc95f46e",
   "metadata": {},
   "outputs": [
    {
     "data": {
      "text/plain": [
       "{'Batch_name': ['data_master', 'webdev', 'jds'],\n",
       " 'mentor_name': {'krish naik', 'navin', 'sudanshu'}}"
      ]
     },
     "execution_count": 43,
     "metadata": {},
     "output_type": "execute_result"
    }
   ],
   "source": [
    "d10\n"
   ]
  },
  {
   "cell_type": "code",
   "execution_count": 44,
   "id": "90177c78-e0e9-43b0-a7a2-0f1757cc7553",
   "metadata": {},
   "outputs": [
    {
     "data": {
      "text/plain": [
       "{'Batch_name': ['data_master', 'webdev', 'jds'],\n",
       " 'mentor_name': {'krish naik', 'navin', 'sudanshu'}}"
      ]
     },
     "execution_count": 44,
     "metadata": {},
     "output_type": "execute_result"
    }
   ],
   "source": [
    "d8"
   ]
  },
  {
   "cell_type": "code",
   "execution_count": 47,
   "id": "fb9c9ad2-99c9-4689-95a4-4404fb440e13",
   "metadata": {},
   "outputs": [
    {
     "data": {
      "text/plain": [
       "['data_master', 'webdev', 'jds']"
      ]
     },
     "execution_count": 47,
     "metadata": {},
     "output_type": "execute_result"
    }
   ],
   "source": [
    "d10.pop('Batch_name')"
   ]
  },
  {
   "cell_type": "code",
   "execution_count": 48,
   "id": "e865d69f-85e3-47f7-98ba-058149196075",
   "metadata": {},
   "outputs": [
    {
     "data": {
      "text/plain": [
       "{'mentor_name': {'krish naik', 'navin', 'sudanshu'}}"
      ]
     },
     "execution_count": 48,
     "metadata": {},
     "output_type": "execute_result"
    }
   ],
   "source": [
    "d8"
   ]
  },
  {
   "cell_type": "code",
   "execution_count": 49,
   "id": "dd8d39db-1488-498b-bd26-e7bcd262479f",
   "metadata": {},
   "outputs": [
    {
     "data": {
      "text/plain": [
       "{'mentor_name': {'krish naik', 'navin', 'sudanshu'}}"
      ]
     },
     "execution_count": 49,
     "metadata": {},
     "output_type": "execute_result"
    }
   ],
   "source": [
    "d10"
   ]
  },
  {
   "cell_type": "code",
   "execution_count": 50,
   "id": "41c110d0-1ede-402d-9d8f-d9b658712529",
   "metadata": {},
   "outputs": [
    {
     "data": {
      "text/plain": [
       "('mentor_name', {'krish naik', 'navin', 'sudanshu'})"
      ]
     },
     "execution_count": 50,
     "metadata": {},
     "output_type": "execute_result"
    }
   ],
   "source": [
    "d10.popitem()"
   ]
  },
  {
   "cell_type": "code",
   "execution_count": 51,
   "id": "b543f7a4-abb5-4731-a03a-011abcc74349",
   "metadata": {},
   "outputs": [
    {
     "data": {
      "text/plain": [
       "{}"
      ]
     },
     "execution_count": 51,
     "metadata": {},
     "output_type": "execute_result"
    }
   ],
   "source": [
    "d10"
   ]
  },
  {
   "cell_type": "code",
   "execution_count": 59,
   "id": "544f54ed-678f-44ed-b0e9-cfaa28a3e04f",
   "metadata": {},
   "outputs": [
    {
     "data": {
      "text/plain": [
       "{1: {'a', 'b', 'c'}, 2: {'a', 'b', 'c'}, 3: {'a', 'b', 'c'}}"
      ]
     },
     "execution_count": 59,
     "metadata": {},
     "output_type": "execute_result"
    }
   ],
   "source": [
    "d10.fromkeys({1,2,3},{'a','b','c'})\n"
   ]
  },
  {
   "cell_type": "code",
   "execution_count": 53,
   "id": "582e6043-e5ac-4959-8155-84490cc6e481",
   "metadata": {},
   "outputs": [
    {
     "data": {
      "text/plain": [
       "{'d': 55}"
      ]
     },
     "execution_count": 53,
     "metadata": {},
     "output_type": "execute_result"
    }
   ],
   "source": [
    "d10.fromkeys('ddd',55)"
   ]
  },
  {
   "cell_type": "code",
   "execution_count": 54,
   "id": "b739efca-8139-4bcc-a43a-72c080639dc5",
   "metadata": {},
   "outputs": [
    {
     "data": {
      "text/plain": [
       "{}"
      ]
     },
     "execution_count": 54,
     "metadata": {},
     "output_type": "execute_result"
    }
   ],
   "source": [
    "d10"
   ]
  },
  {
   "cell_type": "code",
   "execution_count": 60,
   "id": "cd435bfd-fb8e-47c1-9c78-5ce4958e1786",
   "metadata": {},
   "outputs": [],
   "source": [
    "d11={'key1':123,'key2':233}\n",
    "d12={'key3':999,'key4':665}"
   ]
  },
  {
   "cell_type": "code",
   "execution_count": 61,
   "id": "869fc56b-a424-469b-a18b-2df6766a44d1",
   "metadata": {},
   "outputs": [
    {
     "data": {
      "text/plain": [
       "({'key1': 123, 'key2': 233}, {'key3': 999, 'key4': 665})"
      ]
     },
     "execution_count": 61,
     "metadata": {},
     "output_type": "execute_result"
    }
   ],
   "source": [
    "(d11,d12)"
   ]
  },
  {
   "cell_type": "code",
   "execution_count": 62,
   "id": "0c060d0b-44fe-40f9-b303-dff7315d6e32",
   "metadata": {},
   "outputs": [],
   "source": [
    "d11.update(d12)"
   ]
  },
  {
   "cell_type": "code",
   "execution_count": 63,
   "id": "4a494184-366a-4e8a-940d-9e6b83d87e91",
   "metadata": {},
   "outputs": [
    {
     "data": {
      "text/plain": [
       "{'key1': 123, 'key2': 233, 'key3': 999, 'key4': 665}"
      ]
     },
     "execution_count": 63,
     "metadata": {},
     "output_type": "execute_result"
    }
   ],
   "source": [
    "d11"
   ]
  },
  {
   "cell_type": "code",
   "execution_count": 64,
   "id": "914fe953-0fa7-4ba9-871e-fdbc5d18aa23",
   "metadata": {},
   "outputs": [
    {
     "data": {
      "text/plain": [
       "{'key3': 999, 'key4': 665}"
      ]
     },
     "execution_count": 64,
     "metadata": {},
     "output_type": "execute_result"
    }
   ],
   "source": [
    "d12"
   ]
  },
  {
   "cell_type": "code",
   "execution_count": 65,
   "id": "24d3dd80-e44d-4fb5-a90c-07ce58d212d9",
   "metadata": {},
   "outputs": [],
   "source": [
    "d12.update(d11)"
   ]
  },
  {
   "cell_type": "code",
   "execution_count": 66,
   "id": "e8a38b12-0885-4318-b7b1-77badaf6ab64",
   "metadata": {},
   "outputs": [
    {
     "data": {
      "text/plain": [
       "{'key3': 999, 'key4': 665, 'key1': 123, 'key2': 233}"
      ]
     },
     "execution_count": 66,
     "metadata": {},
     "output_type": "execute_result"
    }
   ],
   "source": [
    "d12"
   ]
  },
  {
   "cell_type": "code",
   "execution_count": 68,
   "id": "382a0e1a-464e-48aa-baf7-ff81ef8850ac",
   "metadata": {},
   "outputs": [],
   "source": [
    "d12.get('add')"
   ]
  },
  {
   "cell_type": "code",
   "execution_count": 73,
   "id": "3cb6e49f-a5ec-40bc-97b5-04946e4fc487",
   "metadata": {},
   "outputs": [],
   "source": [
    "d12.setdefault('key5',4545)"
   ]
  },
  {
   "cell_type": "code",
   "execution_count": 74,
   "id": "3584ddbc-d3c6-42b8-95e8-164c04065342",
   "metadata": {},
   "outputs": [
    {
     "data": {
      "text/plain": [
       "{'key3': 999, 'key4': 665, 'key1': 123, 'key2': 233, 'key5': None}"
      ]
     },
     "execution_count": 74,
     "metadata": {},
     "output_type": "execute_result"
    }
   ],
   "source": [
    "d12"
   ]
  },
  {
   "cell_type": "code",
   "execution_count": 75,
   "id": "b538cc91-6edd-47b2-8629-4f166e7a4d97",
   "metadata": {},
   "outputs": [
    {
     "data": {
      "text/plain": [
       "{1: 1, 2: 4, 3: 9, 4: 16, 5: 25, 6: 36, 7: 49, 8: 64, 9: 81, 10: 100}"
      ]
     },
     "execution_count": 75,
     "metadata": {},
     "output_type": "execute_result"
    }
   ],
   "source": [
    "{i:i**2 for i in range(1,11)}"
   ]
  },
  {
   "cell_type": "code",
   "execution_count": 76,
   "id": "6f781fb2-1bac-440d-8352-a800b9410671",
   "metadata": {},
   "outputs": [
    {
     "data": {
      "text/plain": [
       "{1: 11, 2: 12, 3: 13, 4: 14, 5: 15, 6: 16, 7: 17, 8: 18, 9: 19, 10: 20}"
      ]
     },
     "execution_count": 76,
     "metadata": {},
     "output_type": "execute_result"
    }
   ],
   "source": [
    "{i:i+10 for i in range(1,11)}"
   ]
  },
  {
   "cell_type": "code",
   "execution_count": 77,
   "id": "d2f07e04-d489-47cc-9919-84d0aca567df",
   "metadata": {},
   "outputs": [],
   "source": [
    "d13={i:i+10 for i in range(1,11)}"
   ]
  },
  {
   "cell_type": "code",
   "execution_count": 78,
   "id": "09b870cc-f0fe-4215-88e9-c21aa7e0860d",
   "metadata": {},
   "outputs": [
    {
     "data": {
      "text/plain": [
       "{1: 11, 2: 12, 3: 13, 4: 14, 5: 15, 6: 16, 7: 17, 8: 18, 9: 19, 10: 20}"
      ]
     },
     "execution_count": 78,
     "metadata": {},
     "output_type": "execute_result"
    }
   ],
   "source": [
    "d13"
   ]
  },
  {
   "cell_type": "code",
   "execution_count": 79,
   "id": "b553d93c-4004-47d5-9bb5-9254d31b1ca2",
   "metadata": {},
   "outputs": [],
   "source": [
    "d13={i:i+10 for i in range(1,11) if i%2==0}"
   ]
  },
  {
   "cell_type": "code",
   "execution_count": 80,
   "id": "2e3c69dd-f79a-4eeb-9290-2a61ae040ff0",
   "metadata": {},
   "outputs": [
    {
     "data": {
      "text/plain": [
       "{2: 12, 4: 14, 6: 16, 8: 18, 10: 20}"
      ]
     },
     "execution_count": 80,
     "metadata": {},
     "output_type": "execute_result"
    }
   ],
   "source": [
    "d13"
   ]
  },
  {
   "cell_type": "code",
   "execution_count": null,
   "id": "4d9bef5a-b49f-4132-91fb-ae3320b7538d",
   "metadata": {},
   "outputs": [],
   "source": []
  }
 ],
 "metadata": {
  "kernelspec": {
   "display_name": "Python 3 (ipykernel)",
   "language": "python",
   "name": "python3"
  },
  "language_info": {
   "codemirror_mode": {
    "name": "ipython",
    "version": 3
   },
   "file_extension": ".py",
   "mimetype": "text/x-python",
   "name": "python",
   "nbconvert_exporter": "python",
   "pygments_lexer": "ipython3",
   "version": "3.10.8"
  }
 },
 "nbformat": 4,
 "nbformat_minor": 5
}
