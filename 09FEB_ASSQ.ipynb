{
 "cells": [
  {
   "cell_type": "markdown",
   "id": "c93edac9-62aa-4245-b85e-620caa9bf14b",
   "metadata": {},
   "source": [
    "## Q1, Create a vehicle class with an init method having instance variables as name_of_vehicle, max_speed and average_of_vehicle."
   ]
  },
  {
   "cell_type": "code",
   "execution_count": 2,
   "id": "4d4cd077-e3ef-4fe7-9c50-74ec1213aec1",
   "metadata": {},
   "outputs": [],
   "source": [
    "class vehicle_class:\n",
    "    def __init__(self,name_of_vehicle, max_speed, average_of_vehicle):\n",
    "        self.name_of_vehicle=name_of_vehicle\n",
    "        self.max_speed=max_speed\n",
    "        self.average_of_vehicle=average_of_vehicle\n",
    "        "
   ]
  },
  {
   "cell_type": "code",
   "execution_count": 3,
   "id": "08f3524a-4dc1-4a11-a115-3ed2cd6f2df8",
   "metadata": {},
   "outputs": [],
   "source": [
    "vehicle_obj1=vehicle_class('I20',2000,90)"
   ]
  },
  {
   "cell_type": "markdown",
   "id": "527cd411-cead-494f-95d6-fdbd726b9e1e",
   "metadata": {},
   "source": [
    "## Q2. Create a child class car from the vehicle class created in Que 1, which will inherit the vehicle class. Create a method named seating_capacity which takes capacity as an argument and returns the name of the vehicle and its seating capacity."
   ]
  },
  {
   "cell_type": "code",
   "execution_count": 33,
   "id": "e0b2ecdd-2836-4d28-86e3-9f02269c59fb",
   "metadata": {},
   "outputs": [],
   "source": [
    "class vehicle_class1:\n",
    "    def __init__(self,name_of_vehicle, max_speed):\n",
    "        self.name_of_vehicle=name_of_vehicle\n",
    "        self.max_speed=max_speed\n",
    "        \n",
    "        \n",
    "    def seating_capacity(self,capacity):\n",
    "        return self.name_of_vehicle,capacity"
   ]
  },
  {
   "cell_type": "code",
   "execution_count": 34,
   "id": "19f1412a-16e0-4212-8063-6f6535e50b35",
   "metadata": {},
   "outputs": [],
   "source": [
    "class car(vehicle_class1):\n",
    "     pass\n",
    "    \n",
    "    "
   ]
  },
  {
   "cell_type": "code",
   "execution_count": 35,
   "id": "411fcfe1-e350-4239-a733-23efffd7108f",
   "metadata": {},
   "outputs": [],
   "source": [
    "c1=car('hyndai',2000)"
   ]
  },
  {
   "cell_type": "code",
   "execution_count": 36,
   "id": "7ecbdf23-5ae5-4bb9-b039-fc5ef4fd1377",
   "metadata": {},
   "outputs": [
    {
     "data": {
      "text/plain": [
       "('hyndai', 5)"
      ]
     },
     "execution_count": 36,
     "metadata": {},
     "output_type": "execute_result"
    }
   ],
   "source": [
    "c1.seating_capacity(5)"
   ]
  },
  {
   "cell_type": "markdown",
   "id": "5ee61df6-25b5-41a8-9c95-26dc39af07f8",
   "metadata": {},
   "source": [
    "## Q3. What is multiple inheritance? Write a python code to demonstrate multiple inheritance."
   ]
  },
  {
   "cell_type": "code",
   "execution_count": 37,
   "id": "40ae8501-53e0-46a5-9df9-05cf524378ef",
   "metadata": {},
   "outputs": [],
   "source": [
    "class class1:\n",
    "    def test_class1(self):\n",
    "        print('class1 class')\n",
    "        \n",
    "\n",
    "class class2:\n",
    "    def test_class2(self):\n",
    "        print('class2 class')\n",
    "\n",
    "class class3(class1,class2):\n",
    "    def test_class3(self):\n",
    "        print('class3 class')"
   ]
  },
  {
   "cell_type": "markdown",
   "id": "7451187b-dc54-40f8-953b-93378def414f",
   "metadata": {},
   "source": [
    "* multiple inheritence means is inheritence the property from 2 or more classes acces the methods and data variables\n"
   ]
  },
  {
   "cell_type": "markdown",
   "id": "0fe6bd24-0f35-4210-9251-a7b9c23f2102",
   "metadata": {},
   "source": [
    "## Q4. What are getter and setter in python? Create a class and create a getter and a setter method in this class."
   ]
  },
  {
   "cell_type": "markdown",
   "id": "22fc4f81-3476-44bf-84fb-235c58647ed8",
   "metadata": {},
   "source": [
    "* setter and getter methods are used in class to access the private and protected attributes in class \n"
   ]
  },
  {
   "cell_type": "code",
   "execution_count": 1,
   "id": "57a874c6-a84e-4216-a77e-7904d2dc5373",
   "metadata": {},
   "outputs": [],
   "source": [
    "class pwskill6:\n",
    "    def __init__(self,course_name,course_duartion):\n",
    "        self.__course_name=course_name\n",
    "        self._course_duartion=course_duartion\n",
    "        \n",
    "    @property\n",
    "    def course_name1(self):\n",
    "        return self.__course_name\n",
    "    \n",
    "    @course_name1.setter\n",
    "    def course_name_change(self,name):\n",
    "        self.__course_name=name\n",
    "        \n",
    "    @course_name1.deleter\n",
    "    def course_name_del(self):\n",
    "        del self.__course_name"
   ]
  },
  {
   "cell_type": "markdown",
   "id": "736d9b65-3417-4273-a1cb-d451d444844c",
   "metadata": {},
   "source": [
    "## Q5.What is method overriding in python? Write a python code to demonstrate method overriding."
   ]
  },
  {
   "cell_type": "markdown",
   "id": "d3258190-5e24-4f0d-bda4-809b960c5704",
   "metadata": {},
   "source": [
    "* Method Overriding in Python is an OOPs concept closely related to inheritance. When a child class method overrides the parent class method of the same name, parameters and return type, it is known as method overriding."
   ]
  },
  {
   "cell_type": "code",
   "execution_count": 2,
   "id": "91e94dc2-f479-4cd3-ad08-7f15b89c4932",
   "metadata": {},
   "outputs": [
    {
     "name": "stdout",
     "output_type": "stream",
     "text": [
      "6500\n"
     ]
    }
   ],
   "source": [
    "class Employee:\n",
    "    def __init__(self, name, base_pay):\n",
    "        self.name = name\n",
    "        self.base_pay = base_pay\n",
    "\n",
    "    def get_pay(self):\n",
    "        return self.base_pay\n",
    "class SalesEmployee(Employee):\n",
    "    def __init__(self, name, base_pay, sales_incentive):\n",
    "        self.name = name\n",
    "        self.base_pay = base_pay\n",
    "        self.sales_incentive = sales_incentive\n",
    "        \n",
    "    def get_pay(self):\n",
    "        return self.base_pay + self.sales_incentive\n",
    "        \n",
    "john = SalesEmployee('John', 5000, 1500)\n",
    "print(john.get_pay())"
   ]
  },
  {
   "cell_type": "code",
   "execution_count": null,
   "id": "6108d592-cdbe-4ff9-b886-90d04562f075",
   "metadata": {},
   "outputs": [],
   "source": []
  }
 ],
 "metadata": {
  "kernelspec": {
   "display_name": "Python 3 (ipykernel)",
   "language": "python",
   "name": "python3"
  },
  "language_info": {
   "codemirror_mode": {
    "name": "ipython",
    "version": 3
   },
   "file_extension": ".py",
   "mimetype": "text/x-python",
   "name": "python",
   "nbconvert_exporter": "python",
   "pygments_lexer": "ipython3",
   "version": "3.10.8"
  }
 },
 "nbformat": 4,
 "nbformat_minor": 5
}
